{
  "nbformat": 4,
  "nbformat_minor": 0,
  "metadata": {
    "colab": {
      "name": "modulo_3_alura.ipynb",
      "provenance": [],
      "collapsed_sections": [],
      "toc_visible": true
    },
    "kernelspec": {
      "name": "python3",
      "display_name": "Python 3"
    }
  },
  "cells": [
    {
      "cell_type": "markdown",
      "metadata": {
        "id": "MdyIca519DRW"
      },
      "source": [
        "Nesse módulo, iremos trabalhar com a base de dados da PeNSE (Pesquisa Nacional de Saúde do Estudante) feita no ano de 2015, com alunos entre 13 e 17 anos. \r\n",
        "\r\n",
        "De acordo com o IBGE, ela irá fornecer informações sobre as características socioeconômicas da população de estudo, do ambiente escolar e do entorno e informações relacionadas à infraestrutura disponível para alimentação e atividade física, acessibilidade, saneamento básico entre outros aspectos.\r\n",
        "\r\n",
        "Os dados estão disponíveis no [site do IBGE](https://www.ibge.gov.br/estatisticas/sociais/educacao/9134-pesquisa-nacional-de-saude-do-escolar?=&t=o-que-e). O acesso foi realizado no dia 08 de dezembro de 2020."
      ]
    },
    {
      "cell_type": "markdown",
      "metadata": {
        "id": "IU2_yywu-O9G"
      },
      "source": [
        "## AULA 1 - EDUCAÇÃO, SAÚDE E TIPOS DE DADOS "
      ]
    },
    {
      "cell_type": "markdown",
      "metadata": {
        "id": "zglv6jE1-cZM"
      },
      "source": [
        "### VIDEO 1 - Lendo arquivos compactados"
      ]
    },
    {
      "cell_type": "code",
      "metadata": {
        "id": "o1jWc_Ec9C55"
      },
      "source": [
        "import pandas as pd\r\n",
        "from zipfile import ZipFile\r\n",
        "import seaborn as sns\r\n",
        "\r\n",
        "path = '/content/drive/MyDrive/AluraBootcamp/Modulo3/PeNSE_2015_AMOSTRA2.zip'\r\n",
        "\r\n",
        "zip = ZipFile(path)"
      ],
      "execution_count": 1,
      "outputs": []
    },
    {
      "cell_type": "code",
      "metadata": {
        "colab": {
          "base_uri": "https://localhost:8080/"
        },
        "id": "slueEgq4_ul4",
        "outputId": "9c707323-5e85-4b22-846c-215ae7d541fe"
      },
      "source": [
        "zip.infolist()"
      ],
      "execution_count": 2,
      "outputs": [
        {
          "output_type": "execute_result",
          "data": {
            "text/plain": [
              "[<ZipInfo filename='arquivos csv/' external_attr=0x10>,\n",
              " <ZipInfo filename='arquivos csv/PENSE_AMOSTRA2_ALUNO.CSV' compress_type=deflate external_attr=0x20 file_size=7262170 compress_size=1235667>,\n",
              " <ZipInfo filename='arquivos csv/PENSE_AMOSTRA2_ALUNOESCOLA.CSV' compress_type=deflate external_attr=0x20 file_size=11420533 compress_size=1329882>,\n",
              " <ZipInfo filename='arquivos csv/PENSE_AMOSTRA2_ESCOLA.CSV' compress_type=deflate external_attr=0x20 file_size=5000642 compress_size=114324>,\n",
              " <ZipInfo filename='arquivos sas/' external_attr=0x10>,\n",
              " <ZipInfo filename='arquivos sas/pense_amostra2_aluno.sas7bdat' compress_type=deflate external_attr=0x20 file_size=24691712 compress_size=1957530>,\n",
              " <ZipInfo filename='arquivos sas/pense_amostra2_alunoescola.sas7bdat' compress_type=deflate external_attr=0x20 file_size=45253632 compress_size=2461932>,\n",
              " <ZipInfo filename='arquivos sas/pense_amostra2_escola.sas7bdat' compress_type=deflate external_attr=0x20 file_size=18105344 compress_size=332162>,\n",
              " <ZipInfo filename='arquivos xlsx/' external_attr=0x10>,\n",
              " <ZipInfo filename='arquivos xlsx/PENSE_AMOSTRA2_ALUNO.xlsx' compress_type=deflate external_attr=0x20 file_size=11757246 compress_size=11337133>,\n",
              " <ZipInfo filename='arquivos xlsx/PENSE_AMOSTRA2_ALUNOESCOLA.xlsx' compress_type=deflate external_attr=0x20 file_size=18732739 compress_size=17064325>,\n",
              " <ZipInfo filename='arquivos xlsx/PENSE_AMOSTRA2_ESCOLA.xlsx' compress_type=deflate external_attr=0x20 file_size=7159579 compress_size=3209953>,\n",
              " <ZipInfo filename='Dicionario_PENSE_Microdados_AMOSTRA2.xls' compress_type=deflate external_attr=0x20 file_size=144896 compress_size=35737>]"
            ]
          },
          "metadata": {
            "tags": []
          },
          "execution_count": 2
        }
      ]
    },
    {
      "cell_type": "markdown",
      "metadata": {
        "id": "3R7lzT-cAGDI"
      },
      "source": [
        "No arquivo ZIP, temos 3 arquivos .csv:\r\n",
        "\r\n",
        "*   PENSE_AMOSTRA2_ALUNO.CSV\r\n",
        "*   PENSE_AMOSTRA2_ALUNOESCOLA.CSV\r\n",
        "*   PENSE_AMOSTRA2_ESCOLA.CSV\r\n",
        "\r\n",
        "Para esse módulo, vamos utilizar o primeiro.\r\n",
        "\r\n"
      ]
    },
    {
      "cell_type": "code",
      "metadata": {
        "colab": {
          "base_uri": "https://localhost:8080/",
          "height": 246
        },
        "id": "DuICcppJ-DYq",
        "outputId": "bd11b32e-7b0b-4f27-d1c8-a344997575ee"
      },
      "source": [
        "df = pd.read_csv(('/content/drive/MyDrive/AluraBootcamp/Modulo3/PeNSE_2015_AMOSTRA2/arquivos csv/PENSE_AMOSTRA2_ALUNO.CSV'), sep = \";\", engine = \"python\")\r\n",
        "df.head()"
      ],
      "execution_count": 3,
      "outputs": [
        {
          "output_type": "execute_result",
          "data": {
            "text/html": [
              "<div>\n",
              "<style scoped>\n",
              "    .dataframe tbody tr th:only-of-type {\n",
              "        vertical-align: middle;\n",
              "    }\n",
              "\n",
              "    .dataframe tbody tr th {\n",
              "        vertical-align: top;\n",
              "    }\n",
              "\n",
              "    .dataframe thead th {\n",
              "        text-align: right;\n",
              "    }\n",
              "</style>\n",
              "<table border=\"1\" class=\"dataframe\">\n",
              "  <thead>\n",
              "    <tr style=\"text-align: right;\">\n",
              "      <th></th>\n",
              "      <th>ANOPESQ</th>\n",
              "      <th>PAIS</th>\n",
              "      <th>REGEOGR</th>\n",
              "      <th>VB00004</th>\n",
              "      <th>VB01001</th>\n",
              "      <th>VB01002</th>\n",
              "      <th>VB01003</th>\n",
              "      <th>VB01004</th>\n",
              "      <th>VB01005</th>\n",
              "      <th>VB01006</th>\n",
              "      <th>VB01007</th>\n",
              "      <th>VB01008A</th>\n",
              "      <th>VB01010A</th>\n",
              "      <th>VB01011</th>\n",
              "      <th>VB01012</th>\n",
              "      <th>VB01013</th>\n",
              "      <th>VB01014</th>\n",
              "      <th>VB01015A</th>\n",
              "      <th>VB01016</th>\n",
              "      <th>VB01017</th>\n",
              "      <th>VB01018</th>\n",
              "      <th>VB01019</th>\n",
              "      <th>VB01020A</th>\n",
              "      <th>VB01021</th>\n",
              "      <th>VB01022</th>\n",
              "      <th>VB01023</th>\n",
              "      <th>VB01024</th>\n",
              "      <th>VB01025</th>\n",
              "      <th>VB01026</th>\n",
              "      <th>VB02001</th>\n",
              "      <th>VB02002</th>\n",
              "      <th>VB02004A</th>\n",
              "      <th>VB02010</th>\n",
              "      <th>VB02011</th>\n",
              "      <th>VB02013</th>\n",
              "      <th>VB02017A</th>\n",
              "      <th>VB02018A</th>\n",
              "      <th>VB02019A</th>\n",
              "      <th>VB02020A</th>\n",
              "      <th>VB02021</th>\n",
              "      <th>...</th>\n",
              "      <th>VB11005</th>\n",
              "      <th>VB11006</th>\n",
              "      <th>VB11007</th>\n",
              "      <th>VB12001</th>\n",
              "      <th>VB12002</th>\n",
              "      <th>VB12003</th>\n",
              "      <th>VB13001</th>\n",
              "      <th>VB13002A</th>\n",
              "      <th>VB13004A</th>\n",
              "      <th>VB13005</th>\n",
              "      <th>VB13006</th>\n",
              "      <th>VB13007</th>\n",
              "      <th>VB13008</th>\n",
              "      <th>VB13009</th>\n",
              "      <th>VB14001</th>\n",
              "      <th>VB14002</th>\n",
              "      <th>VB16001A01</th>\n",
              "      <th>VB16001A02</th>\n",
              "      <th>VB16001A03</th>\n",
              "      <th>VB16001A04</th>\n",
              "      <th>VB16001A05</th>\n",
              "      <th>VB16001A06</th>\n",
              "      <th>VB16001A07</th>\n",
              "      <th>VB16001A08</th>\n",
              "      <th>VB17001</th>\n",
              "      <th>VB17002</th>\n",
              "      <th>VB17003</th>\n",
              "      <th>VB17004</th>\n",
              "      <th>VB17005</th>\n",
              "      <th>VB17006</th>\n",
              "      <th>ESTRATO_EXP</th>\n",
              "      <th>ESTRATOGEOREG</th>\n",
              "      <th>PESO</th>\n",
              "      <th>V0006</th>\n",
              "      <th>V0007</th>\n",
              "      <th>V0008</th>\n",
              "      <th>V0041</th>\n",
              "      <th>aluno</th>\n",
              "      <th>escola</th>\n",
              "      <th>turma</th>\n",
              "    </tr>\n",
              "  </thead>\n",
              "  <tbody>\n",
              "    <tr>\n",
              "      <th>0</th>\n",
              "      <td>2015</td>\n",
              "      <td>76</td>\n",
              "      <td>1</td>\n",
              "      <td>1</td>\n",
              "      <td>2</td>\n",
              "      <td>1</td>\n",
              "      <td>13</td>\n",
              "      <td>7</td>\n",
              "      <td>7</td>\n",
              "      <td>1</td>\n",
              "      <td>2</td>\n",
              "      <td>7</td>\n",
              "      <td>3</td>\n",
              "      <td>2</td>\n",
              "      <td>-1</td>\n",
              "      <td>1</td>\n",
              "      <td>1</td>\n",
              "      <td>1</td>\n",
              "      <td>1</td>\n",
              "      <td>1</td>\n",
              "      <td>2</td>\n",
              "      <td>4</td>\n",
              "      <td>2</td>\n",
              "      <td>4</td>\n",
              "      <td>1</td>\n",
              "      <td>2</td>\n",
              "      <td>2</td>\n",
              "      <td>5</td>\n",
              "      <td>1</td>\n",
              "      <td>8</td>\n",
              "      <td>3</td>\n",
              "      <td>4</td>\n",
              "      <td>3</td>\n",
              "      <td>6</td>\n",
              "      <td>6</td>\n",
              "      <td>1</td>\n",
              "      <td>6</td>\n",
              "      <td>1</td>\n",
              "      <td>-1</td>\n",
              "      <td>2</td>\n",
              "      <td>...</td>\n",
              "      <td>2</td>\n",
              "      <td>1</td>\n",
              "      <td>2</td>\n",
              "      <td>1</td>\n",
              "      <td>1</td>\n",
              "      <td>4</td>\n",
              "      <td>2</td>\n",
              "      <td>-1</td>\n",
              "      <td>3</td>\n",
              "      <td>1</td>\n",
              "      <td>1</td>\n",
              "      <td>-1</td>\n",
              "      <td>1</td>\n",
              "      <td>1</td>\n",
              "      <td>2</td>\n",
              "      <td>2</td>\n",
              "      <td>1</td>\n",
              "      <td>2</td>\n",
              "      <td>2</td>\n",
              "      <td>2</td>\n",
              "      <td>2</td>\n",
              "      <td>2</td>\n",
              "      <td>2</td>\n",
              "      <td>2</td>\n",
              "      <td>371.0</td>\n",
              "      <td>1570.0</td>\n",
              "      <td>37,1</td>\n",
              "      <td>157</td>\n",
              "      <td>2</td>\n",
              "      <td>1</td>\n",
              "      <td>1223</td>\n",
              "      <td>1</td>\n",
              "      <td>299,735235</td>\n",
              "      <td>1</td>\n",
              "      <td>2</td>\n",
              "      <td>4</td>\n",
              "      <td>1</td>\n",
              "      <td>1</td>\n",
              "      <td>1</td>\n",
              "      <td>296</td>\n",
              "    </tr>\n",
              "    <tr>\n",
              "      <th>1</th>\n",
              "      <td>2015</td>\n",
              "      <td>76</td>\n",
              "      <td>1</td>\n",
              "      <td>1</td>\n",
              "      <td>2</td>\n",
              "      <td>1</td>\n",
              "      <td>14</td>\n",
              "      <td>4</td>\n",
              "      <td>7</td>\n",
              "      <td>1</td>\n",
              "      <td>1</td>\n",
              "      <td>7</td>\n",
              "      <td>3</td>\n",
              "      <td>2</td>\n",
              "      <td>-1</td>\n",
              "      <td>1</td>\n",
              "      <td>1</td>\n",
              "      <td>1</td>\n",
              "      <td>1</td>\n",
              "      <td>1</td>\n",
              "      <td>2</td>\n",
              "      <td>2</td>\n",
              "      <td>2</td>\n",
              "      <td>4</td>\n",
              "      <td>1</td>\n",
              "      <td>2</td>\n",
              "      <td>2</td>\n",
              "      <td>5</td>\n",
              "      <td>3</td>\n",
              "      <td>8</td>\n",
              "      <td>2</td>\n",
              "      <td>1</td>\n",
              "      <td>8</td>\n",
              "      <td>8</td>\n",
              "      <td>6</td>\n",
              "      <td>1</td>\n",
              "      <td>1</td>\n",
              "      <td>5</td>\n",
              "      <td>-1</td>\n",
              "      <td>2</td>\n",
              "      <td>...</td>\n",
              "      <td>2</td>\n",
              "      <td>3</td>\n",
              "      <td>2</td>\n",
              "      <td>4</td>\n",
              "      <td>4</td>\n",
              "      <td>4</td>\n",
              "      <td>1</td>\n",
              "      <td>2</td>\n",
              "      <td>3</td>\n",
              "      <td>3</td>\n",
              "      <td>1</td>\n",
              "      <td>-1</td>\n",
              "      <td>1</td>\n",
              "      <td>1</td>\n",
              "      <td>2</td>\n",
              "      <td>2</td>\n",
              "      <td>2</td>\n",
              "      <td>2</td>\n",
              "      <td>2</td>\n",
              "      <td>1</td>\n",
              "      <td>2</td>\n",
              "      <td>2</td>\n",
              "      <td>2</td>\n",
              "      <td>2</td>\n",
              "      <td>502.0</td>\n",
              "      <td>1520.0</td>\n",
              "      <td>50,2</td>\n",
              "      <td>152</td>\n",
              "      <td>2</td>\n",
              "      <td>2</td>\n",
              "      <td>1223</td>\n",
              "      <td>1</td>\n",
              "      <td>355,170081</td>\n",
              "      <td>1</td>\n",
              "      <td>2</td>\n",
              "      <td>4</td>\n",
              "      <td>1</td>\n",
              "      <td>2</td>\n",
              "      <td>1</td>\n",
              "      <td>296</td>\n",
              "    </tr>\n",
              "    <tr>\n",
              "      <th>2</th>\n",
              "      <td>2015</td>\n",
              "      <td>76</td>\n",
              "      <td>1</td>\n",
              "      <td>1</td>\n",
              "      <td>1</td>\n",
              "      <td>4</td>\n",
              "      <td>13</td>\n",
              "      <td>6</td>\n",
              "      <td>7</td>\n",
              "      <td>1</td>\n",
              "      <td>1</td>\n",
              "      <td>5</td>\n",
              "      <td>5</td>\n",
              "      <td>2</td>\n",
              "      <td>-1</td>\n",
              "      <td>2</td>\n",
              "      <td>1</td>\n",
              "      <td>1</td>\n",
              "      <td>1</td>\n",
              "      <td>1</td>\n",
              "      <td>2</td>\n",
              "      <td>3</td>\n",
              "      <td>1</td>\n",
              "      <td>4</td>\n",
              "      <td>1</td>\n",
              "      <td>2</td>\n",
              "      <td>2</td>\n",
              "      <td>5</td>\n",
              "      <td>3</td>\n",
              "      <td>2</td>\n",
              "      <td>3</td>\n",
              "      <td>1</td>\n",
              "      <td>8</td>\n",
              "      <td>2</td>\n",
              "      <td>8</td>\n",
              "      <td>1</td>\n",
              "      <td>1</td>\n",
              "      <td>5</td>\n",
              "      <td>5</td>\n",
              "      <td>1</td>\n",
              "      <td>...</td>\n",
              "      <td>2</td>\n",
              "      <td>1</td>\n",
              "      <td>2</td>\n",
              "      <td>1</td>\n",
              "      <td>2</td>\n",
              "      <td>3</td>\n",
              "      <td>1</td>\n",
              "      <td>2</td>\n",
              "      <td>1</td>\n",
              "      <td>2</td>\n",
              "      <td>5</td>\n",
              "      <td>99</td>\n",
              "      <td>1</td>\n",
              "      <td>-1</td>\n",
              "      <td>2</td>\n",
              "      <td>2</td>\n",
              "      <td>1</td>\n",
              "      <td>1</td>\n",
              "      <td>1</td>\n",
              "      <td>1</td>\n",
              "      <td>1</td>\n",
              "      <td>1</td>\n",
              "      <td>1</td>\n",
              "      <td>1</td>\n",
              "      <td>482.0</td>\n",
              "      <td>1614.0</td>\n",
              "      <td>48,2</td>\n",
              "      <td>161,4</td>\n",
              "      <td>2</td>\n",
              "      <td>2</td>\n",
              "      <td>1223</td>\n",
              "      <td>1</td>\n",
              "      <td>299,735235</td>\n",
              "      <td>1</td>\n",
              "      <td>2</td>\n",
              "      <td>4</td>\n",
              "      <td>1</td>\n",
              "      <td>3</td>\n",
              "      <td>1</td>\n",
              "      <td>296</td>\n",
              "    </tr>\n",
              "    <tr>\n",
              "      <th>3</th>\n",
              "      <td>2015</td>\n",
              "      <td>76</td>\n",
              "      <td>1</td>\n",
              "      <td>1</td>\n",
              "      <td>1</td>\n",
              "      <td>1</td>\n",
              "      <td>14</td>\n",
              "      <td>6</td>\n",
              "      <td>7</td>\n",
              "      <td>1</td>\n",
              "      <td>1</td>\n",
              "      <td>7</td>\n",
              "      <td>4</td>\n",
              "      <td>2</td>\n",
              "      <td>-1</td>\n",
              "      <td>1</td>\n",
              "      <td>1</td>\n",
              "      <td>1</td>\n",
              "      <td>1</td>\n",
              "      <td>1</td>\n",
              "      <td>2</td>\n",
              "      <td>4</td>\n",
              "      <td>2</td>\n",
              "      <td>4</td>\n",
              "      <td>1</td>\n",
              "      <td>2</td>\n",
              "      <td>2</td>\n",
              "      <td>6</td>\n",
              "      <td>3</td>\n",
              "      <td>2</td>\n",
              "      <td>4</td>\n",
              "      <td>1</td>\n",
              "      <td>3</td>\n",
              "      <td>2</td>\n",
              "      <td>7</td>\n",
              "      <td>1</td>\n",
              "      <td>5</td>\n",
              "      <td>1</td>\n",
              "      <td>-1</td>\n",
              "      <td>2</td>\n",
              "      <td>...</td>\n",
              "      <td>2</td>\n",
              "      <td>1</td>\n",
              "      <td>2</td>\n",
              "      <td>2</td>\n",
              "      <td>2</td>\n",
              "      <td>4</td>\n",
              "      <td>1</td>\n",
              "      <td>10</td>\n",
              "      <td>3</td>\n",
              "      <td>1</td>\n",
              "      <td>2</td>\n",
              "      <td>-1</td>\n",
              "      <td>1</td>\n",
              "      <td>-1</td>\n",
              "      <td>2</td>\n",
              "      <td>2</td>\n",
              "      <td>1</td>\n",
              "      <td>2</td>\n",
              "      <td>2</td>\n",
              "      <td>2</td>\n",
              "      <td>1</td>\n",
              "      <td>2</td>\n",
              "      <td>2</td>\n",
              "      <td>2</td>\n",
              "      <td>694.0</td>\n",
              "      <td>1725.0</td>\n",
              "      <td>69,4</td>\n",
              "      <td>172,5</td>\n",
              "      <td>2</td>\n",
              "      <td>3</td>\n",
              "      <td>1223</td>\n",
              "      <td>1</td>\n",
              "      <td>355,170081</td>\n",
              "      <td>1</td>\n",
              "      <td>2</td>\n",
              "      <td>4</td>\n",
              "      <td>1</td>\n",
              "      <td>4</td>\n",
              "      <td>1</td>\n",
              "      <td>296</td>\n",
              "    </tr>\n",
              "    <tr>\n",
              "      <th>4</th>\n",
              "      <td>2015</td>\n",
              "      <td>76</td>\n",
              "      <td>1</td>\n",
              "      <td>1</td>\n",
              "      <td>1</td>\n",
              "      <td>1</td>\n",
              "      <td>13</td>\n",
              "      <td>9</td>\n",
              "      <td>7</td>\n",
              "      <td>1</td>\n",
              "      <td>2</td>\n",
              "      <td>5</td>\n",
              "      <td>4</td>\n",
              "      <td>2</td>\n",
              "      <td>-1</td>\n",
              "      <td>2</td>\n",
              "      <td>1</td>\n",
              "      <td>1</td>\n",
              "      <td>1</td>\n",
              "      <td>1</td>\n",
              "      <td>2</td>\n",
              "      <td>5</td>\n",
              "      <td>1</td>\n",
              "      <td>4</td>\n",
              "      <td>1</td>\n",
              "      <td>2</td>\n",
              "      <td>2</td>\n",
              "      <td>6</td>\n",
              "      <td>5</td>\n",
              "      <td>6</td>\n",
              "      <td>3</td>\n",
              "      <td>5</td>\n",
              "      <td>2</td>\n",
              "      <td>6</td>\n",
              "      <td>2</td>\n",
              "      <td>1</td>\n",
              "      <td>5</td>\n",
              "      <td>1</td>\n",
              "      <td>5</td>\n",
              "      <td>1</td>\n",
              "      <td>...</td>\n",
              "      <td>2</td>\n",
              "      <td>1</td>\n",
              "      <td>4</td>\n",
              "      <td>2</td>\n",
              "      <td>2</td>\n",
              "      <td>4</td>\n",
              "      <td>1</td>\n",
              "      <td>3</td>\n",
              "      <td>2</td>\n",
              "      <td>2</td>\n",
              "      <td>2</td>\n",
              "      <td>13</td>\n",
              "      <td>1</td>\n",
              "      <td>-1</td>\n",
              "      <td>1</td>\n",
              "      <td>2</td>\n",
              "      <td>1</td>\n",
              "      <td>1</td>\n",
              "      <td>1</td>\n",
              "      <td>1</td>\n",
              "      <td>1</td>\n",
              "      <td>1</td>\n",
              "      <td>1</td>\n",
              "      <td>1</td>\n",
              "      <td>789.0</td>\n",
              "      <td>1675.0</td>\n",
              "      <td>78,9</td>\n",
              "      <td>167,5</td>\n",
              "      <td>2</td>\n",
              "      <td>4</td>\n",
              "      <td>1223</td>\n",
              "      <td>1</td>\n",
              "      <td>299,735235</td>\n",
              "      <td>1</td>\n",
              "      <td>2</td>\n",
              "      <td>4</td>\n",
              "      <td>1</td>\n",
              "      <td>5</td>\n",
              "      <td>1</td>\n",
              "      <td>296</td>\n",
              "    </tr>\n",
              "  </tbody>\n",
              "</table>\n",
              "<p>5 rows × 181 columns</p>\n",
              "</div>"
            ],
            "text/plain": [
              "   ANOPESQ  PAIS  REGEOGR  VB00004  VB01001  ...  V0008  V0041  aluno  escola  turma\n",
              "0     2015    76        1        1        2  ...      4      1      1       1    296\n",
              "1     2015    76        1        1        2  ...      4      1      2       1    296\n",
              "2     2015    76        1        1        1  ...      4      1      3       1    296\n",
              "3     2015    76        1        1        1  ...      4      1      4       1    296\n",
              "4     2015    76        1        1        1  ...      4      1      5       1    296\n",
              "\n",
              "[5 rows x 181 columns]"
            ]
          },
          "metadata": {
            "tags": []
          },
          "execution_count": 3
        }
      ]
    },
    {
      "cell_type": "markdown",
      "metadata": {
        "id": "ImgPBLBSCsEm"
      },
      "source": [
        "#### Desafio 01 - Descompactar a pasta zipada usando outro método (Dica Allan, é utilizar comandos Bash).\r\n",
        "\r\n",
        "* Solucionado utilizando o comando !unzip."
      ]
    },
    {
      "cell_type": "markdown",
      "metadata": {
        "id": "FuswXKuBpDzD"
      },
      "source": [
        "#### Desafio 02 - Estudar sobre a base de dados que vamos trabalhar. (PeNSE - 2015 Amostra 2)\r\n",
        "\r\n",
        "* Aproveitei o desafio para escrever uma pequena introdução para o módulo."
      ]
    },
    {
      "cell_type": "code",
      "metadata": {
        "id": "v25QJcvdBKz2"
      },
      "source": [
        "# !unzip '/content/drive/MyDrive/AluraBootcamp/Modulo3/PeNSE_2015_AMOSTRA2.zip' -d '/content/drive/MyDrive/AluraBootcamp/Modulo3/PeNSE_2015_AMOSTRA2'"
      ],
      "execution_count": 4,
      "outputs": []
    },
    {
      "cell_type": "markdown",
      "metadata": {
        "id": "ixTpl37BEDtI"
      },
      "source": [
        "### VIDEO 2 - Tipos de dados"
      ]
    },
    {
      "cell_type": "code",
      "metadata": {
        "colab": {
          "base_uri": "https://localhost:8080/",
          "height": 396
        },
        "id": "WhMWBWSyEHF4",
        "outputId": "34a94c8f-d9b4-4f5c-f0a1-5c89bc67447e"
      },
      "source": [
        "df.head(10)"
      ],
      "execution_count": 5,
      "outputs": [
        {
          "output_type": "execute_result",
          "data": {
            "text/html": [
              "<div>\n",
              "<style scoped>\n",
              "    .dataframe tbody tr th:only-of-type {\n",
              "        vertical-align: middle;\n",
              "    }\n",
              "\n",
              "    .dataframe tbody tr th {\n",
              "        vertical-align: top;\n",
              "    }\n",
              "\n",
              "    .dataframe thead th {\n",
              "        text-align: right;\n",
              "    }\n",
              "</style>\n",
              "<table border=\"1\" class=\"dataframe\">\n",
              "  <thead>\n",
              "    <tr style=\"text-align: right;\">\n",
              "      <th></th>\n",
              "      <th>ANOPESQ</th>\n",
              "      <th>PAIS</th>\n",
              "      <th>REGEOGR</th>\n",
              "      <th>VB00004</th>\n",
              "      <th>VB01001</th>\n",
              "      <th>VB01002</th>\n",
              "      <th>VB01003</th>\n",
              "      <th>VB01004</th>\n",
              "      <th>VB01005</th>\n",
              "      <th>VB01006</th>\n",
              "      <th>VB01007</th>\n",
              "      <th>VB01008A</th>\n",
              "      <th>VB01010A</th>\n",
              "      <th>VB01011</th>\n",
              "      <th>VB01012</th>\n",
              "      <th>VB01013</th>\n",
              "      <th>VB01014</th>\n",
              "      <th>VB01015A</th>\n",
              "      <th>VB01016</th>\n",
              "      <th>VB01017</th>\n",
              "      <th>VB01018</th>\n",
              "      <th>VB01019</th>\n",
              "      <th>VB01020A</th>\n",
              "      <th>VB01021</th>\n",
              "      <th>VB01022</th>\n",
              "      <th>VB01023</th>\n",
              "      <th>VB01024</th>\n",
              "      <th>VB01025</th>\n",
              "      <th>VB01026</th>\n",
              "      <th>VB02001</th>\n",
              "      <th>VB02002</th>\n",
              "      <th>VB02004A</th>\n",
              "      <th>VB02010</th>\n",
              "      <th>VB02011</th>\n",
              "      <th>VB02013</th>\n",
              "      <th>VB02017A</th>\n",
              "      <th>VB02018A</th>\n",
              "      <th>VB02019A</th>\n",
              "      <th>VB02020A</th>\n",
              "      <th>VB02021</th>\n",
              "      <th>...</th>\n",
              "      <th>VB11005</th>\n",
              "      <th>VB11006</th>\n",
              "      <th>VB11007</th>\n",
              "      <th>VB12001</th>\n",
              "      <th>VB12002</th>\n",
              "      <th>VB12003</th>\n",
              "      <th>VB13001</th>\n",
              "      <th>VB13002A</th>\n",
              "      <th>VB13004A</th>\n",
              "      <th>VB13005</th>\n",
              "      <th>VB13006</th>\n",
              "      <th>VB13007</th>\n",
              "      <th>VB13008</th>\n",
              "      <th>VB13009</th>\n",
              "      <th>VB14001</th>\n",
              "      <th>VB14002</th>\n",
              "      <th>VB16001A01</th>\n",
              "      <th>VB16001A02</th>\n",
              "      <th>VB16001A03</th>\n",
              "      <th>VB16001A04</th>\n",
              "      <th>VB16001A05</th>\n",
              "      <th>VB16001A06</th>\n",
              "      <th>VB16001A07</th>\n",
              "      <th>VB16001A08</th>\n",
              "      <th>VB17001</th>\n",
              "      <th>VB17002</th>\n",
              "      <th>VB17003</th>\n",
              "      <th>VB17004</th>\n",
              "      <th>VB17005</th>\n",
              "      <th>VB17006</th>\n",
              "      <th>ESTRATO_EXP</th>\n",
              "      <th>ESTRATOGEOREG</th>\n",
              "      <th>PESO</th>\n",
              "      <th>V0006</th>\n",
              "      <th>V0007</th>\n",
              "      <th>V0008</th>\n",
              "      <th>V0041</th>\n",
              "      <th>aluno</th>\n",
              "      <th>escola</th>\n",
              "      <th>turma</th>\n",
              "    </tr>\n",
              "  </thead>\n",
              "  <tbody>\n",
              "    <tr>\n",
              "      <th>0</th>\n",
              "      <td>2015</td>\n",
              "      <td>76</td>\n",
              "      <td>1</td>\n",
              "      <td>1</td>\n",
              "      <td>2</td>\n",
              "      <td>1</td>\n",
              "      <td>13</td>\n",
              "      <td>7</td>\n",
              "      <td>7</td>\n",
              "      <td>1</td>\n",
              "      <td>2</td>\n",
              "      <td>7</td>\n",
              "      <td>3</td>\n",
              "      <td>2</td>\n",
              "      <td>-1</td>\n",
              "      <td>1</td>\n",
              "      <td>1</td>\n",
              "      <td>1</td>\n",
              "      <td>1</td>\n",
              "      <td>1</td>\n",
              "      <td>2</td>\n",
              "      <td>4</td>\n",
              "      <td>2</td>\n",
              "      <td>4</td>\n",
              "      <td>1</td>\n",
              "      <td>2</td>\n",
              "      <td>2</td>\n",
              "      <td>5</td>\n",
              "      <td>1</td>\n",
              "      <td>8</td>\n",
              "      <td>3</td>\n",
              "      <td>4</td>\n",
              "      <td>3</td>\n",
              "      <td>6</td>\n",
              "      <td>6</td>\n",
              "      <td>1</td>\n",
              "      <td>6</td>\n",
              "      <td>1</td>\n",
              "      <td>-1</td>\n",
              "      <td>2</td>\n",
              "      <td>...</td>\n",
              "      <td>2</td>\n",
              "      <td>1</td>\n",
              "      <td>2</td>\n",
              "      <td>1</td>\n",
              "      <td>1</td>\n",
              "      <td>4</td>\n",
              "      <td>2</td>\n",
              "      <td>-1</td>\n",
              "      <td>3</td>\n",
              "      <td>1</td>\n",
              "      <td>1</td>\n",
              "      <td>-1</td>\n",
              "      <td>1</td>\n",
              "      <td>1</td>\n",
              "      <td>2</td>\n",
              "      <td>2</td>\n",
              "      <td>1</td>\n",
              "      <td>2</td>\n",
              "      <td>2</td>\n",
              "      <td>2</td>\n",
              "      <td>2</td>\n",
              "      <td>2</td>\n",
              "      <td>2</td>\n",
              "      <td>2</td>\n",
              "      <td>371.0</td>\n",
              "      <td>1570.0</td>\n",
              "      <td>37,1</td>\n",
              "      <td>157</td>\n",
              "      <td>2</td>\n",
              "      <td>1</td>\n",
              "      <td>1223</td>\n",
              "      <td>1</td>\n",
              "      <td>299,735235</td>\n",
              "      <td>1</td>\n",
              "      <td>2</td>\n",
              "      <td>4</td>\n",
              "      <td>1</td>\n",
              "      <td>1</td>\n",
              "      <td>1</td>\n",
              "      <td>296</td>\n",
              "    </tr>\n",
              "    <tr>\n",
              "      <th>1</th>\n",
              "      <td>2015</td>\n",
              "      <td>76</td>\n",
              "      <td>1</td>\n",
              "      <td>1</td>\n",
              "      <td>2</td>\n",
              "      <td>1</td>\n",
              "      <td>14</td>\n",
              "      <td>4</td>\n",
              "      <td>7</td>\n",
              "      <td>1</td>\n",
              "      <td>1</td>\n",
              "      <td>7</td>\n",
              "      <td>3</td>\n",
              "      <td>2</td>\n",
              "      <td>-1</td>\n",
              "      <td>1</td>\n",
              "      <td>1</td>\n",
              "      <td>1</td>\n",
              "      <td>1</td>\n",
              "      <td>1</td>\n",
              "      <td>2</td>\n",
              "      <td>2</td>\n",
              "      <td>2</td>\n",
              "      <td>4</td>\n",
              "      <td>1</td>\n",
              "      <td>2</td>\n",
              "      <td>2</td>\n",
              "      <td>5</td>\n",
              "      <td>3</td>\n",
              "      <td>8</td>\n",
              "      <td>2</td>\n",
              "      <td>1</td>\n",
              "      <td>8</td>\n",
              "      <td>8</td>\n",
              "      <td>6</td>\n",
              "      <td>1</td>\n",
              "      <td>1</td>\n",
              "      <td>5</td>\n",
              "      <td>-1</td>\n",
              "      <td>2</td>\n",
              "      <td>...</td>\n",
              "      <td>2</td>\n",
              "      <td>3</td>\n",
              "      <td>2</td>\n",
              "      <td>4</td>\n",
              "      <td>4</td>\n",
              "      <td>4</td>\n",
              "      <td>1</td>\n",
              "      <td>2</td>\n",
              "      <td>3</td>\n",
              "      <td>3</td>\n",
              "      <td>1</td>\n",
              "      <td>-1</td>\n",
              "      <td>1</td>\n",
              "      <td>1</td>\n",
              "      <td>2</td>\n",
              "      <td>2</td>\n",
              "      <td>2</td>\n",
              "      <td>2</td>\n",
              "      <td>2</td>\n",
              "      <td>1</td>\n",
              "      <td>2</td>\n",
              "      <td>2</td>\n",
              "      <td>2</td>\n",
              "      <td>2</td>\n",
              "      <td>502.0</td>\n",
              "      <td>1520.0</td>\n",
              "      <td>50,2</td>\n",
              "      <td>152</td>\n",
              "      <td>2</td>\n",
              "      <td>2</td>\n",
              "      <td>1223</td>\n",
              "      <td>1</td>\n",
              "      <td>355,170081</td>\n",
              "      <td>1</td>\n",
              "      <td>2</td>\n",
              "      <td>4</td>\n",
              "      <td>1</td>\n",
              "      <td>2</td>\n",
              "      <td>1</td>\n",
              "      <td>296</td>\n",
              "    </tr>\n",
              "    <tr>\n",
              "      <th>2</th>\n",
              "      <td>2015</td>\n",
              "      <td>76</td>\n",
              "      <td>1</td>\n",
              "      <td>1</td>\n",
              "      <td>1</td>\n",
              "      <td>4</td>\n",
              "      <td>13</td>\n",
              "      <td>6</td>\n",
              "      <td>7</td>\n",
              "      <td>1</td>\n",
              "      <td>1</td>\n",
              "      <td>5</td>\n",
              "      <td>5</td>\n",
              "      <td>2</td>\n",
              "      <td>-1</td>\n",
              "      <td>2</td>\n",
              "      <td>1</td>\n",
              "      <td>1</td>\n",
              "      <td>1</td>\n",
              "      <td>1</td>\n",
              "      <td>2</td>\n",
              "      <td>3</td>\n",
              "      <td>1</td>\n",
              "      <td>4</td>\n",
              "      <td>1</td>\n",
              "      <td>2</td>\n",
              "      <td>2</td>\n",
              "      <td>5</td>\n",
              "      <td>3</td>\n",
              "      <td>2</td>\n",
              "      <td>3</td>\n",
              "      <td>1</td>\n",
              "      <td>8</td>\n",
              "      <td>2</td>\n",
              "      <td>8</td>\n",
              "      <td>1</td>\n",
              "      <td>1</td>\n",
              "      <td>5</td>\n",
              "      <td>5</td>\n",
              "      <td>1</td>\n",
              "      <td>...</td>\n",
              "      <td>2</td>\n",
              "      <td>1</td>\n",
              "      <td>2</td>\n",
              "      <td>1</td>\n",
              "      <td>2</td>\n",
              "      <td>3</td>\n",
              "      <td>1</td>\n",
              "      <td>2</td>\n",
              "      <td>1</td>\n",
              "      <td>2</td>\n",
              "      <td>5</td>\n",
              "      <td>99</td>\n",
              "      <td>1</td>\n",
              "      <td>-1</td>\n",
              "      <td>2</td>\n",
              "      <td>2</td>\n",
              "      <td>1</td>\n",
              "      <td>1</td>\n",
              "      <td>1</td>\n",
              "      <td>1</td>\n",
              "      <td>1</td>\n",
              "      <td>1</td>\n",
              "      <td>1</td>\n",
              "      <td>1</td>\n",
              "      <td>482.0</td>\n",
              "      <td>1614.0</td>\n",
              "      <td>48,2</td>\n",
              "      <td>161,4</td>\n",
              "      <td>2</td>\n",
              "      <td>2</td>\n",
              "      <td>1223</td>\n",
              "      <td>1</td>\n",
              "      <td>299,735235</td>\n",
              "      <td>1</td>\n",
              "      <td>2</td>\n",
              "      <td>4</td>\n",
              "      <td>1</td>\n",
              "      <td>3</td>\n",
              "      <td>1</td>\n",
              "      <td>296</td>\n",
              "    </tr>\n",
              "    <tr>\n",
              "      <th>3</th>\n",
              "      <td>2015</td>\n",
              "      <td>76</td>\n",
              "      <td>1</td>\n",
              "      <td>1</td>\n",
              "      <td>1</td>\n",
              "      <td>1</td>\n",
              "      <td>14</td>\n",
              "      <td>6</td>\n",
              "      <td>7</td>\n",
              "      <td>1</td>\n",
              "      <td>1</td>\n",
              "      <td>7</td>\n",
              "      <td>4</td>\n",
              "      <td>2</td>\n",
              "      <td>-1</td>\n",
              "      <td>1</td>\n",
              "      <td>1</td>\n",
              "      <td>1</td>\n",
              "      <td>1</td>\n",
              "      <td>1</td>\n",
              "      <td>2</td>\n",
              "      <td>4</td>\n",
              "      <td>2</td>\n",
              "      <td>4</td>\n",
              "      <td>1</td>\n",
              "      <td>2</td>\n",
              "      <td>2</td>\n",
              "      <td>6</td>\n",
              "      <td>3</td>\n",
              "      <td>2</td>\n",
              "      <td>4</td>\n",
              "      <td>1</td>\n",
              "      <td>3</td>\n",
              "      <td>2</td>\n",
              "      <td>7</td>\n",
              "      <td>1</td>\n",
              "      <td>5</td>\n",
              "      <td>1</td>\n",
              "      <td>-1</td>\n",
              "      <td>2</td>\n",
              "      <td>...</td>\n",
              "      <td>2</td>\n",
              "      <td>1</td>\n",
              "      <td>2</td>\n",
              "      <td>2</td>\n",
              "      <td>2</td>\n",
              "      <td>4</td>\n",
              "      <td>1</td>\n",
              "      <td>10</td>\n",
              "      <td>3</td>\n",
              "      <td>1</td>\n",
              "      <td>2</td>\n",
              "      <td>-1</td>\n",
              "      <td>1</td>\n",
              "      <td>-1</td>\n",
              "      <td>2</td>\n",
              "      <td>2</td>\n",
              "      <td>1</td>\n",
              "      <td>2</td>\n",
              "      <td>2</td>\n",
              "      <td>2</td>\n",
              "      <td>1</td>\n",
              "      <td>2</td>\n",
              "      <td>2</td>\n",
              "      <td>2</td>\n",
              "      <td>694.0</td>\n",
              "      <td>1725.0</td>\n",
              "      <td>69,4</td>\n",
              "      <td>172,5</td>\n",
              "      <td>2</td>\n",
              "      <td>3</td>\n",
              "      <td>1223</td>\n",
              "      <td>1</td>\n",
              "      <td>355,170081</td>\n",
              "      <td>1</td>\n",
              "      <td>2</td>\n",
              "      <td>4</td>\n",
              "      <td>1</td>\n",
              "      <td>4</td>\n",
              "      <td>1</td>\n",
              "      <td>296</td>\n",
              "    </tr>\n",
              "    <tr>\n",
              "      <th>4</th>\n",
              "      <td>2015</td>\n",
              "      <td>76</td>\n",
              "      <td>1</td>\n",
              "      <td>1</td>\n",
              "      <td>1</td>\n",
              "      <td>1</td>\n",
              "      <td>13</td>\n",
              "      <td>9</td>\n",
              "      <td>7</td>\n",
              "      <td>1</td>\n",
              "      <td>2</td>\n",
              "      <td>5</td>\n",
              "      <td>4</td>\n",
              "      <td>2</td>\n",
              "      <td>-1</td>\n",
              "      <td>2</td>\n",
              "      <td>1</td>\n",
              "      <td>1</td>\n",
              "      <td>1</td>\n",
              "      <td>1</td>\n",
              "      <td>2</td>\n",
              "      <td>5</td>\n",
              "      <td>1</td>\n",
              "      <td>4</td>\n",
              "      <td>1</td>\n",
              "      <td>2</td>\n",
              "      <td>2</td>\n",
              "      <td>6</td>\n",
              "      <td>5</td>\n",
              "      <td>6</td>\n",
              "      <td>3</td>\n",
              "      <td>5</td>\n",
              "      <td>2</td>\n",
              "      <td>6</td>\n",
              "      <td>2</td>\n",
              "      <td>1</td>\n",
              "      <td>5</td>\n",
              "      <td>1</td>\n",
              "      <td>5</td>\n",
              "      <td>1</td>\n",
              "      <td>...</td>\n",
              "      <td>2</td>\n",
              "      <td>1</td>\n",
              "      <td>4</td>\n",
              "      <td>2</td>\n",
              "      <td>2</td>\n",
              "      <td>4</td>\n",
              "      <td>1</td>\n",
              "      <td>3</td>\n",
              "      <td>2</td>\n",
              "      <td>2</td>\n",
              "      <td>2</td>\n",
              "      <td>13</td>\n",
              "      <td>1</td>\n",
              "      <td>-1</td>\n",
              "      <td>1</td>\n",
              "      <td>2</td>\n",
              "      <td>1</td>\n",
              "      <td>1</td>\n",
              "      <td>1</td>\n",
              "      <td>1</td>\n",
              "      <td>1</td>\n",
              "      <td>1</td>\n",
              "      <td>1</td>\n",
              "      <td>1</td>\n",
              "      <td>789.0</td>\n",
              "      <td>1675.0</td>\n",
              "      <td>78,9</td>\n",
              "      <td>167,5</td>\n",
              "      <td>2</td>\n",
              "      <td>4</td>\n",
              "      <td>1223</td>\n",
              "      <td>1</td>\n",
              "      <td>299,735235</td>\n",
              "      <td>1</td>\n",
              "      <td>2</td>\n",
              "      <td>4</td>\n",
              "      <td>1</td>\n",
              "      <td>5</td>\n",
              "      <td>1</td>\n",
              "      <td>296</td>\n",
              "    </tr>\n",
              "    <tr>\n",
              "      <th>5</th>\n",
              "      <td>2015</td>\n",
              "      <td>76</td>\n",
              "      <td>1</td>\n",
              "      <td>1</td>\n",
              "      <td>2</td>\n",
              "      <td>4</td>\n",
              "      <td>14</td>\n",
              "      <td>12</td>\n",
              "      <td>6</td>\n",
              "      <td>1</td>\n",
              "      <td>1</td>\n",
              "      <td>7</td>\n",
              "      <td>3</td>\n",
              "      <td>2</td>\n",
              "      <td>-1</td>\n",
              "      <td>1</td>\n",
              "      <td>1</td>\n",
              "      <td>1</td>\n",
              "      <td>1</td>\n",
              "      <td>1</td>\n",
              "      <td>2</td>\n",
              "      <td>4</td>\n",
              "      <td>1</td>\n",
              "      <td>4</td>\n",
              "      <td>1</td>\n",
              "      <td>2</td>\n",
              "      <td>2</td>\n",
              "      <td>5</td>\n",
              "      <td>3</td>\n",
              "      <td>7</td>\n",
              "      <td>7</td>\n",
              "      <td>8</td>\n",
              "      <td>3</td>\n",
              "      <td>8</td>\n",
              "      <td>1</td>\n",
              "      <td>5</td>\n",
              "      <td>6</td>\n",
              "      <td>1</td>\n",
              "      <td>4</td>\n",
              "      <td>1</td>\n",
              "      <td>...</td>\n",
              "      <td>2</td>\n",
              "      <td>2</td>\n",
              "      <td>4</td>\n",
              "      <td>2</td>\n",
              "      <td>2</td>\n",
              "      <td>4</td>\n",
              "      <td>1</td>\n",
              "      <td>2</td>\n",
              "      <td>2</td>\n",
              "      <td>1</td>\n",
              "      <td>1</td>\n",
              "      <td>1</td>\n",
              "      <td>1</td>\n",
              "      <td>2</td>\n",
              "      <td>1</td>\n",
              "      <td>2</td>\n",
              "      <td>2</td>\n",
              "      <td>2</td>\n",
              "      <td>1</td>\n",
              "      <td>2</td>\n",
              "      <td>2</td>\n",
              "      <td>2</td>\n",
              "      <td>1</td>\n",
              "      <td>2</td>\n",
              "      <td>729.0</td>\n",
              "      <td>1605.0</td>\n",
              "      <td>72,9</td>\n",
              "      <td>160,5</td>\n",
              "      <td>2</td>\n",
              "      <td>4</td>\n",
              "      <td>1223</td>\n",
              "      <td>1</td>\n",
              "      <td>355,170081</td>\n",
              "      <td>1</td>\n",
              "      <td>2</td>\n",
              "      <td>4</td>\n",
              "      <td>1</td>\n",
              "      <td>6</td>\n",
              "      <td>1</td>\n",
              "      <td>296</td>\n",
              "    </tr>\n",
              "    <tr>\n",
              "      <th>6</th>\n",
              "      <td>2015</td>\n",
              "      <td>76</td>\n",
              "      <td>1</td>\n",
              "      <td>1</td>\n",
              "      <td>2</td>\n",
              "      <td>1</td>\n",
              "      <td>14</td>\n",
              "      <td>3</td>\n",
              "      <td>7</td>\n",
              "      <td>1</td>\n",
              "      <td>1</td>\n",
              "      <td>7</td>\n",
              "      <td>3</td>\n",
              "      <td>2</td>\n",
              "      <td>-1</td>\n",
              "      <td>1</td>\n",
              "      <td>1</td>\n",
              "      <td>1</td>\n",
              "      <td>1</td>\n",
              "      <td>1</td>\n",
              "      <td>2</td>\n",
              "      <td>5</td>\n",
              "      <td>1</td>\n",
              "      <td>4</td>\n",
              "      <td>1</td>\n",
              "      <td>2</td>\n",
              "      <td>2</td>\n",
              "      <td>5</td>\n",
              "      <td>3</td>\n",
              "      <td>8</td>\n",
              "      <td>2</td>\n",
              "      <td>3</td>\n",
              "      <td>1</td>\n",
              "      <td>3</td>\n",
              "      <td>2</td>\n",
              "      <td>1</td>\n",
              "      <td>1</td>\n",
              "      <td>5</td>\n",
              "      <td>4</td>\n",
              "      <td>1</td>\n",
              "      <td>...</td>\n",
              "      <td>2</td>\n",
              "      <td>2</td>\n",
              "      <td>2</td>\n",
              "      <td>5</td>\n",
              "      <td>5</td>\n",
              "      <td>4</td>\n",
              "      <td>1</td>\n",
              "      <td>3</td>\n",
              "      <td>1</td>\n",
              "      <td>2</td>\n",
              "      <td>3</td>\n",
              "      <td>5</td>\n",
              "      <td>1</td>\n",
              "      <td>1</td>\n",
              "      <td>2</td>\n",
              "      <td>2</td>\n",
              "      <td>2</td>\n",
              "      <td>2</td>\n",
              "      <td>2</td>\n",
              "      <td>1</td>\n",
              "      <td>2</td>\n",
              "      <td>2</td>\n",
              "      <td>2</td>\n",
              "      <td>2</td>\n",
              "      <td>493.0</td>\n",
              "      <td>1575.0</td>\n",
              "      <td>49,3</td>\n",
              "      <td>157,5</td>\n",
              "      <td>2</td>\n",
              "      <td>2</td>\n",
              "      <td>1223</td>\n",
              "      <td>1</td>\n",
              "      <td>355,170081</td>\n",
              "      <td>1</td>\n",
              "      <td>2</td>\n",
              "      <td>4</td>\n",
              "      <td>1</td>\n",
              "      <td>7</td>\n",
              "      <td>1</td>\n",
              "      <td>296</td>\n",
              "    </tr>\n",
              "    <tr>\n",
              "      <th>7</th>\n",
              "      <td>2015</td>\n",
              "      <td>76</td>\n",
              "      <td>1</td>\n",
              "      <td>1</td>\n",
              "      <td>2</td>\n",
              "      <td>3</td>\n",
              "      <td>14</td>\n",
              "      <td>4</td>\n",
              "      <td>7</td>\n",
              "      <td>1</td>\n",
              "      <td>1</td>\n",
              "      <td>7</td>\n",
              "      <td>4</td>\n",
              "      <td>2</td>\n",
              "      <td>-1</td>\n",
              "      <td>1</td>\n",
              "      <td>1</td>\n",
              "      <td>1</td>\n",
              "      <td>1</td>\n",
              "      <td>1</td>\n",
              "      <td>2</td>\n",
              "      <td>4</td>\n",
              "      <td>1</td>\n",
              "      <td>4</td>\n",
              "      <td>1</td>\n",
              "      <td>2</td>\n",
              "      <td>2</td>\n",
              "      <td>5</td>\n",
              "      <td>3</td>\n",
              "      <td>7</td>\n",
              "      <td>2</td>\n",
              "      <td>3</td>\n",
              "      <td>5</td>\n",
              "      <td>5</td>\n",
              "      <td>3</td>\n",
              "      <td>1</td>\n",
              "      <td>5</td>\n",
              "      <td>1</td>\n",
              "      <td>-1</td>\n",
              "      <td>2</td>\n",
              "      <td>...</td>\n",
              "      <td>2</td>\n",
              "      <td>2</td>\n",
              "      <td>4</td>\n",
              "      <td>1</td>\n",
              "      <td>1</td>\n",
              "      <td>4</td>\n",
              "      <td>1</td>\n",
              "      <td>2</td>\n",
              "      <td>3</td>\n",
              "      <td>1</td>\n",
              "      <td>2</td>\n",
              "      <td>-1</td>\n",
              "      <td>1</td>\n",
              "      <td>1</td>\n",
              "      <td>2</td>\n",
              "      <td>2</td>\n",
              "      <td>1</td>\n",
              "      <td>2</td>\n",
              "      <td>2</td>\n",
              "      <td>2</td>\n",
              "      <td>2</td>\n",
              "      <td>2</td>\n",
              "      <td>2</td>\n",
              "      <td>2</td>\n",
              "      <td>669.0</td>\n",
              "      <td>1594.0</td>\n",
              "      <td>66,9</td>\n",
              "      <td>159,4</td>\n",
              "      <td>2</td>\n",
              "      <td>3</td>\n",
              "      <td>1223</td>\n",
              "      <td>1</td>\n",
              "      <td>355,170081</td>\n",
              "      <td>1</td>\n",
              "      <td>2</td>\n",
              "      <td>4</td>\n",
              "      <td>1</td>\n",
              "      <td>8</td>\n",
              "      <td>1</td>\n",
              "      <td>296</td>\n",
              "    </tr>\n",
              "    <tr>\n",
              "      <th>8</th>\n",
              "      <td>2015</td>\n",
              "      <td>76</td>\n",
              "      <td>1</td>\n",
              "      <td>1</td>\n",
              "      <td>1</td>\n",
              "      <td>4</td>\n",
              "      <td>13</td>\n",
              "      <td>8</td>\n",
              "      <td>7</td>\n",
              "      <td>1</td>\n",
              "      <td>1</td>\n",
              "      <td>7</td>\n",
              "      <td>5</td>\n",
              "      <td>2</td>\n",
              "      <td>-1</td>\n",
              "      <td>2</td>\n",
              "      <td>1</td>\n",
              "      <td>1</td>\n",
              "      <td>1</td>\n",
              "      <td>1</td>\n",
              "      <td>2</td>\n",
              "      <td>3</td>\n",
              "      <td>2</td>\n",
              "      <td>4</td>\n",
              "      <td>1</td>\n",
              "      <td>2</td>\n",
              "      <td>2</td>\n",
              "      <td>5</td>\n",
              "      <td>3</td>\n",
              "      <td>2</td>\n",
              "      <td>1</td>\n",
              "      <td>5</td>\n",
              "      <td>3</td>\n",
              "      <td>6</td>\n",
              "      <td>2</td>\n",
              "      <td>1</td>\n",
              "      <td>4</td>\n",
              "      <td>1</td>\n",
              "      <td>-1</td>\n",
              "      <td>2</td>\n",
              "      <td>...</td>\n",
              "      <td>2</td>\n",
              "      <td>2</td>\n",
              "      <td>4</td>\n",
              "      <td>1</td>\n",
              "      <td>1</td>\n",
              "      <td>4</td>\n",
              "      <td>1</td>\n",
              "      <td>1</td>\n",
              "      <td>1</td>\n",
              "      <td>3</td>\n",
              "      <td>2</td>\n",
              "      <td>7</td>\n",
              "      <td>1</td>\n",
              "      <td>-1</td>\n",
              "      <td>2</td>\n",
              "      <td>2</td>\n",
              "      <td>1</td>\n",
              "      <td>2</td>\n",
              "      <td>2</td>\n",
              "      <td>2</td>\n",
              "      <td>2</td>\n",
              "      <td>2</td>\n",
              "      <td>2</td>\n",
              "      <td>2</td>\n",
              "      <td>783.0</td>\n",
              "      <td>1700.0</td>\n",
              "      <td>78,3</td>\n",
              "      <td>170</td>\n",
              "      <td>2</td>\n",
              "      <td>4</td>\n",
              "      <td>1223</td>\n",
              "      <td>1</td>\n",
              "      <td>299,735235</td>\n",
              "      <td>1</td>\n",
              "      <td>2</td>\n",
              "      <td>4</td>\n",
              "      <td>1</td>\n",
              "      <td>9</td>\n",
              "      <td>1</td>\n",
              "      <td>296</td>\n",
              "    </tr>\n",
              "    <tr>\n",
              "      <th>9</th>\n",
              "      <td>2015</td>\n",
              "      <td>76</td>\n",
              "      <td>1</td>\n",
              "      <td>1</td>\n",
              "      <td>2</td>\n",
              "      <td>1</td>\n",
              "      <td>14</td>\n",
              "      <td>7</td>\n",
              "      <td>6</td>\n",
              "      <td>1</td>\n",
              "      <td>2</td>\n",
              "      <td>7</td>\n",
              "      <td>2</td>\n",
              "      <td>2</td>\n",
              "      <td>-1</td>\n",
              "      <td>1</td>\n",
              "      <td>1</td>\n",
              "      <td>1</td>\n",
              "      <td>1</td>\n",
              "      <td>1</td>\n",
              "      <td>1</td>\n",
              "      <td>3</td>\n",
              "      <td>2</td>\n",
              "      <td>4</td>\n",
              "      <td>1</td>\n",
              "      <td>2</td>\n",
              "      <td>2</td>\n",
              "      <td>5</td>\n",
              "      <td>2</td>\n",
              "      <td>2</td>\n",
              "      <td>2</td>\n",
              "      <td>1</td>\n",
              "      <td>7</td>\n",
              "      <td>3</td>\n",
              "      <td>3</td>\n",
              "      <td>1</td>\n",
              "      <td>1</td>\n",
              "      <td>1</td>\n",
              "      <td>-1</td>\n",
              "      <td>2</td>\n",
              "      <td>...</td>\n",
              "      <td>2</td>\n",
              "      <td>1</td>\n",
              "      <td>2</td>\n",
              "      <td>2</td>\n",
              "      <td>3</td>\n",
              "      <td>4</td>\n",
              "      <td>1</td>\n",
              "      <td>2</td>\n",
              "      <td>1</td>\n",
              "      <td>2</td>\n",
              "      <td>2</td>\n",
              "      <td>13</td>\n",
              "      <td>1</td>\n",
              "      <td>1</td>\n",
              "      <td>2</td>\n",
              "      <td>2</td>\n",
              "      <td>2</td>\n",
              "      <td>2</td>\n",
              "      <td>2</td>\n",
              "      <td>2</td>\n",
              "      <td>2</td>\n",
              "      <td>2</td>\n",
              "      <td>1</td>\n",
              "      <td>2</td>\n",
              "      <td>479.0</td>\n",
              "      <td>1562.0</td>\n",
              "      <td>47,9</td>\n",
              "      <td>156,2</td>\n",
              "      <td>2</td>\n",
              "      <td>2</td>\n",
              "      <td>1223</td>\n",
              "      <td>1</td>\n",
              "      <td>355,170081</td>\n",
              "      <td>1</td>\n",
              "      <td>2</td>\n",
              "      <td>4</td>\n",
              "      <td>1</td>\n",
              "      <td>10</td>\n",
              "      <td>1</td>\n",
              "      <td>296</td>\n",
              "    </tr>\n",
              "  </tbody>\n",
              "</table>\n",
              "<p>10 rows × 181 columns</p>\n",
              "</div>"
            ],
            "text/plain": [
              "   ANOPESQ  PAIS  REGEOGR  VB00004  VB01001  ...  V0008  V0041  aluno  escola  turma\n",
              "0     2015    76        1        1        2  ...      4      1      1       1    296\n",
              "1     2015    76        1        1        2  ...      4      1      2       1    296\n",
              "2     2015    76        1        1        1  ...      4      1      3       1    296\n",
              "3     2015    76        1        1        1  ...      4      1      4       1    296\n",
              "4     2015    76        1        1        1  ...      4      1      5       1    296\n",
              "5     2015    76        1        1        2  ...      4      1      6       1    296\n",
              "6     2015    76        1        1        2  ...      4      1      7       1    296\n",
              "7     2015    76        1        1        2  ...      4      1      8       1    296\n",
              "8     2015    76        1        1        1  ...      4      1      9       1    296\n",
              "9     2015    76        1        1        2  ...      4      1     10       1    296\n",
              "\n",
              "[10 rows x 181 columns]"
            ]
          },
          "metadata": {
            "tags": []
          },
          "execution_count": 5
        }
      ]
    },
    {
      "cell_type": "code",
      "metadata": {
        "colab": {
          "base_uri": "https://localhost:8080/"
        },
        "id": "YFIz_zxTHVSO",
        "outputId": "e541b523-fc0d-48a7-ce20-5b00aef5ec6c"
      },
      "source": [
        "df.shape"
      ],
      "execution_count": 6,
      "outputs": [
        {
          "output_type": "execute_result",
          "data": {
            "text/plain": [
              "(16556, 181)"
            ]
          },
          "metadata": {
            "tags": []
          },
          "execution_count": 6
        }
      ]
    },
    {
      "cell_type": "code",
      "metadata": {
        "colab": {
          "base_uri": "https://localhost:8080/"
        },
        "id": "kKmNkCRxHdTn",
        "outputId": "84f017fa-3060-4085-a1d6-629078dffaf8"
      },
      "source": [
        " df.columns"
      ],
      "execution_count": 7,
      "outputs": [
        {
          "output_type": "execute_result",
          "data": {
            "text/plain": [
              "Index(['ANOPESQ', 'PAIS', 'REGEOGR', 'VB00004', 'VB01001', 'VB01002',\n",
              "       'VB01003', 'VB01004', 'VB01005', 'VB01006',\n",
              "       ...\n",
              "       'ESTRATO_EXP', 'ESTRATOGEOREG', 'PESO', 'V0006', 'V0007', 'V0008',\n",
              "       'V0041', 'aluno', 'escola', 'turma'],\n",
              "      dtype='object', length=181)"
            ]
          },
          "metadata": {
            "tags": []
          },
          "execution_count": 7
        }
      ]
    },
    {
      "cell_type": "markdown",
      "metadata": {
        "id": "ubVNbaXMI2rp"
      },
      "source": [
        "Para entender melhor o que cada uma das colunas significa, é válida a leitura da documentação (Dicionario_PENSE_Microdados_AMOSTRA2.xls). \r\n",
        "\r\n",
        "Será utilizado o df.info() para entender com que tipo de dado estamos trabalhando."
      ]
    },
    {
      "cell_type": "code",
      "metadata": {
        "colab": {
          "base_uri": "https://localhost:8080/"
        },
        "id": "hX-iFvKsKM7z",
        "outputId": "2e4f2d00-8a8f-4260-8ffc-bcd975503491"
      },
      "source": [
        "df.info()"
      ],
      "execution_count": 8,
      "outputs": [
        {
          "output_type": "stream",
          "text": [
            "<class 'pandas.core.frame.DataFrame'>\n",
            "RangeIndex: 16556 entries, 0 to 16555\n",
            "Columns: 181 entries, ANOPESQ to turma\n",
            "dtypes: float64(7), int64(171), object(3)\n",
            "memory usage: 22.9+ MB\n"
          ],
          "name": "stdout"
        }
      ]
    },
    {
      "cell_type": "markdown",
      "metadata": {
        "id": "NItrf5tgKUtl"
      },
      "source": [
        "São em usa maioria colunas numéricas (float64 e int64). O que chama atenção são as colunas que possuem dados no formato de *object*, uma vez que quando utilizado o df.head() não apareceu nenhuma coluna não-numérica. "
      ]
    },
    {
      "cell_type": "code",
      "metadata": {
        "colab": {
          "base_uri": "https://localhost:8080/",
          "height": 406
        },
        "id": "G9pKvd8aKOV3",
        "outputId": "3944cbe4-a78d-4897-ff56-9d038854fa7d"
      },
      "source": [
        "df.select_dtypes(include = object)"
      ],
      "execution_count": 9,
      "outputs": [
        {
          "output_type": "execute_result",
          "data": {
            "text/html": [
              "<div>\n",
              "<style scoped>\n",
              "    .dataframe tbody tr th:only-of-type {\n",
              "        vertical-align: middle;\n",
              "    }\n",
              "\n",
              "    .dataframe tbody tr th {\n",
              "        vertical-align: top;\n",
              "    }\n",
              "\n",
              "    .dataframe thead th {\n",
              "        text-align: right;\n",
              "    }\n",
              "</style>\n",
              "<table border=\"1\" class=\"dataframe\">\n",
              "  <thead>\n",
              "    <tr style=\"text-align: right;\">\n",
              "      <th></th>\n",
              "      <th>VB17003</th>\n",
              "      <th>VB17004</th>\n",
              "      <th>PESO</th>\n",
              "    </tr>\n",
              "  </thead>\n",
              "  <tbody>\n",
              "    <tr>\n",
              "      <th>0</th>\n",
              "      <td>37,1</td>\n",
              "      <td>157</td>\n",
              "      <td>299,735235</td>\n",
              "    </tr>\n",
              "    <tr>\n",
              "      <th>1</th>\n",
              "      <td>50,2</td>\n",
              "      <td>152</td>\n",
              "      <td>355,170081</td>\n",
              "    </tr>\n",
              "    <tr>\n",
              "      <th>2</th>\n",
              "      <td>48,2</td>\n",
              "      <td>161,4</td>\n",
              "      <td>299,735235</td>\n",
              "    </tr>\n",
              "    <tr>\n",
              "      <th>3</th>\n",
              "      <td>69,4</td>\n",
              "      <td>172,5</td>\n",
              "      <td>355,170081</td>\n",
              "    </tr>\n",
              "    <tr>\n",
              "      <th>4</th>\n",
              "      <td>78,9</td>\n",
              "      <td>167,5</td>\n",
              "      <td>299,735235</td>\n",
              "    </tr>\n",
              "    <tr>\n",
              "      <th>...</th>\n",
              "      <td>...</td>\n",
              "      <td>...</td>\n",
              "      <td>...</td>\n",
              "    </tr>\n",
              "    <tr>\n",
              "      <th>16551</th>\n",
              "      <td>56,7</td>\n",
              "      <td>167,9</td>\n",
              "      <td>447,815539</td>\n",
              "    </tr>\n",
              "    <tr>\n",
              "      <th>16552</th>\n",
              "      <td>61,9</td>\n",
              "      <td>185,8</td>\n",
              "      <td>592,50744</td>\n",
              "    </tr>\n",
              "    <tr>\n",
              "      <th>16553</th>\n",
              "      <td>60,9</td>\n",
              "      <td>159,4</td>\n",
              "      <td>401,131512</td>\n",
              "    </tr>\n",
              "    <tr>\n",
              "      <th>16554</th>\n",
              "      <td>47,3</td>\n",
              "      <td>157,8</td>\n",
              "      <td>442,718091</td>\n",
              "    </tr>\n",
              "    <tr>\n",
              "      <th>16555</th>\n",
              "      <td>62,6</td>\n",
              "      <td>163,9</td>\n",
              "      <td>592,50744</td>\n",
              "    </tr>\n",
              "  </tbody>\n",
              "</table>\n",
              "<p>16556 rows × 3 columns</p>\n",
              "</div>"
            ],
            "text/plain": [
              "      VB17003 VB17004        PESO\n",
              "0        37,1     157  299,735235\n",
              "1        50,2     152  355,170081\n",
              "2        48,2   161,4  299,735235\n",
              "3        69,4   172,5  355,170081\n",
              "4        78,9   167,5  299,735235\n",
              "...       ...     ...         ...\n",
              "16551    56,7   167,9  447,815539\n",
              "16552    61,9   185,8   592,50744\n",
              "16553    60,9   159,4  401,131512\n",
              "16554    47,3   157,8  442,718091\n",
              "16555    62,6   163,9   592,50744\n",
              "\n",
              "[16556 rows x 3 columns]"
            ]
          },
          "metadata": {
            "tags": []
          },
          "execution_count": 9
        }
      ]
    },
    {
      "cell_type": "markdown",
      "metadata": {
        "id": "P7w4wLo-L0-D"
      },
      "source": [
        "Diferentemente do Brasil, o pandas utiliza \".\" como separador decimal. Para consertar isso, podemos utilizar srt.replace nas colunas.\r\n",
        "\r\n",
        "Também sobre as colunas:\r\n",
        "* VB17003: Altura do estudante, incluindo os imputados, com uma casa decimal;\r\n",
        "* VB17004: Variável identificadora se houve imputação no peso e/ou altura do estudante;\r\n",
        "* PESO: Peso do aluno de acordo com a amostra, utilizado para expansão."
      ]
    },
    {
      "cell_type": "code",
      "metadata": {
        "colab": {
          "base_uri": "https://localhost:8080/",
          "height": 406
        },
        "id": "OiJac8TZMK9Q",
        "outputId": "3d0a4ff3-318d-4ba3-b12a-1f139a7a0af3"
      },
      "source": [
        "df[['VB17003', 'VB17004', 'PESO']] = df[['VB17003', 'VB17004', 'PESO']].replace(',',\".\", regex = True)\r\n",
        "df[['VB17003', 'VB17004', 'PESO']] = df[['VB17003', 'VB17004', 'PESO']].astype(float)\r\n",
        "df[['VB17003', 'VB17004', 'PESO']] "
      ],
      "execution_count": 10,
      "outputs": [
        {
          "output_type": "execute_result",
          "data": {
            "text/html": [
              "<div>\n",
              "<style scoped>\n",
              "    .dataframe tbody tr th:only-of-type {\n",
              "        vertical-align: middle;\n",
              "    }\n",
              "\n",
              "    .dataframe tbody tr th {\n",
              "        vertical-align: top;\n",
              "    }\n",
              "\n",
              "    .dataframe thead th {\n",
              "        text-align: right;\n",
              "    }\n",
              "</style>\n",
              "<table border=\"1\" class=\"dataframe\">\n",
              "  <thead>\n",
              "    <tr style=\"text-align: right;\">\n",
              "      <th></th>\n",
              "      <th>VB17003</th>\n",
              "      <th>VB17004</th>\n",
              "      <th>PESO</th>\n",
              "    </tr>\n",
              "  </thead>\n",
              "  <tbody>\n",
              "    <tr>\n",
              "      <th>0</th>\n",
              "      <td>37.1</td>\n",
              "      <td>157.0</td>\n",
              "      <td>299.735235</td>\n",
              "    </tr>\n",
              "    <tr>\n",
              "      <th>1</th>\n",
              "      <td>50.2</td>\n",
              "      <td>152.0</td>\n",
              "      <td>355.170081</td>\n",
              "    </tr>\n",
              "    <tr>\n",
              "      <th>2</th>\n",
              "      <td>48.2</td>\n",
              "      <td>161.4</td>\n",
              "      <td>299.735235</td>\n",
              "    </tr>\n",
              "    <tr>\n",
              "      <th>3</th>\n",
              "      <td>69.4</td>\n",
              "      <td>172.5</td>\n",
              "      <td>355.170081</td>\n",
              "    </tr>\n",
              "    <tr>\n",
              "      <th>4</th>\n",
              "      <td>78.9</td>\n",
              "      <td>167.5</td>\n",
              "      <td>299.735235</td>\n",
              "    </tr>\n",
              "    <tr>\n",
              "      <th>...</th>\n",
              "      <td>...</td>\n",
              "      <td>...</td>\n",
              "      <td>...</td>\n",
              "    </tr>\n",
              "    <tr>\n",
              "      <th>16551</th>\n",
              "      <td>56.7</td>\n",
              "      <td>167.9</td>\n",
              "      <td>447.815539</td>\n",
              "    </tr>\n",
              "    <tr>\n",
              "      <th>16552</th>\n",
              "      <td>61.9</td>\n",
              "      <td>185.8</td>\n",
              "      <td>592.507440</td>\n",
              "    </tr>\n",
              "    <tr>\n",
              "      <th>16553</th>\n",
              "      <td>60.9</td>\n",
              "      <td>159.4</td>\n",
              "      <td>401.131512</td>\n",
              "    </tr>\n",
              "    <tr>\n",
              "      <th>16554</th>\n",
              "      <td>47.3</td>\n",
              "      <td>157.8</td>\n",
              "      <td>442.718091</td>\n",
              "    </tr>\n",
              "    <tr>\n",
              "      <th>16555</th>\n",
              "      <td>62.6</td>\n",
              "      <td>163.9</td>\n",
              "      <td>592.507440</td>\n",
              "    </tr>\n",
              "  </tbody>\n",
              "</table>\n",
              "<p>16556 rows × 3 columns</p>\n",
              "</div>"
            ],
            "text/plain": [
              "       VB17003  VB17004        PESO\n",
              "0         37.1    157.0  299.735235\n",
              "1         50.2    152.0  355.170081\n",
              "2         48.2    161.4  299.735235\n",
              "3         69.4    172.5  355.170081\n",
              "4         78.9    167.5  299.735235\n",
              "...        ...      ...         ...\n",
              "16551     56.7    167.9  447.815539\n",
              "16552     61.9    185.8  592.507440\n",
              "16553     60.9    159.4  401.131512\n",
              "16554     47.3    157.8  442.718091\n",
              "16555     62.6    163.9  592.507440\n",
              "\n",
              "[16556 rows x 3 columns]"
            ]
          },
          "metadata": {
            "tags": []
          },
          "execution_count": 10
        }
      ]
    },
    {
      "cell_type": "code",
      "metadata": {
        "colab": {
          "base_uri": "https://localhost:8080/"
        },
        "id": "QrLlRrasOvV2",
        "outputId": "8fe2d147-19df-474d-a622-c61b53d5c1d1"
      },
      "source": [
        "df.info()"
      ],
      "execution_count": 11,
      "outputs": [
        {
          "output_type": "stream",
          "text": [
            "<class 'pandas.core.frame.DataFrame'>\n",
            "RangeIndex: 16556 entries, 0 to 16555\n",
            "Columns: 181 entries, ANOPESQ to turma\n",
            "dtypes: float64(10), int64(171)\n",
            "memory usage: 22.9 MB\n"
          ],
          "name": "stdout"
        }
      ]
    },
    {
      "cell_type": "code",
      "metadata": {
        "colab": {
          "base_uri": "https://localhost:8080/",
          "height": 426
        },
        "id": "TmJ5gXcTO6ep",
        "outputId": "3535ee44-4742-40a4-cc1d-974962a38090"
      },
      "source": [
        "df.select_dtypes(include = 'float64')"
      ],
      "execution_count": 12,
      "outputs": [
        {
          "output_type": "execute_result",
          "data": {
            "text/html": [
              "<div>\n",
              "<style scoped>\n",
              "    .dataframe tbody tr th:only-of-type {\n",
              "        vertical-align: middle;\n",
              "    }\n",
              "\n",
              "    .dataframe tbody tr th {\n",
              "        vertical-align: top;\n",
              "    }\n",
              "\n",
              "    .dataframe thead th {\n",
              "        text-align: right;\n",
              "    }\n",
              "</style>\n",
              "<table border=\"1\" class=\"dataframe\">\n",
              "  <thead>\n",
              "    <tr style=\"text-align: right;\">\n",
              "      <th></th>\n",
              "      <th>TEMPODESLOC</th>\n",
              "      <th>TEMPOTOTAL</th>\n",
              "      <th>TEMPOEDFIS</th>\n",
              "      <th>TEMPOEXTRA</th>\n",
              "      <th>TEMPOEST</th>\n",
              "      <th>VB17001</th>\n",
              "      <th>VB17002</th>\n",
              "      <th>VB17003</th>\n",
              "      <th>VB17004</th>\n",
              "      <th>PESO</th>\n",
              "    </tr>\n",
              "  </thead>\n",
              "  <tbody>\n",
              "    <tr>\n",
              "      <th>0</th>\n",
              "      <td>0.0</td>\n",
              "      <td>15.0</td>\n",
              "      <td>0.0</td>\n",
              "      <td>15.0</td>\n",
              "      <td>60.0</td>\n",
              "      <td>371.0</td>\n",
              "      <td>1570.0</td>\n",
              "      <td>37.1</td>\n",
              "      <td>157.0</td>\n",
              "      <td>299.735235</td>\n",
              "    </tr>\n",
              "    <tr>\n",
              "      <th>1</th>\n",
              "      <td>120.0</td>\n",
              "      <td>510.0</td>\n",
              "      <td>260.0</td>\n",
              "      <td>130.0</td>\n",
              "      <td>300.0</td>\n",
              "      <td>502.0</td>\n",
              "      <td>1520.0</td>\n",
              "      <td>50.2</td>\n",
              "      <td>152.0</td>\n",
              "      <td>355.170081</td>\n",
              "    </tr>\n",
              "    <tr>\n",
              "      <th>2</th>\n",
              "      <td>0.0</td>\n",
              "      <td>585.0</td>\n",
              "      <td>130.0</td>\n",
              "      <td>455.0</td>\n",
              "      <td>420.0</td>\n",
              "      <td>482.0</td>\n",
              "      <td>1614.0</td>\n",
              "      <td>48.2</td>\n",
              "      <td>161.4</td>\n",
              "      <td>299.735235</td>\n",
              "    </tr>\n",
              "    <tr>\n",
              "      <th>3</th>\n",
              "      <td>0.0</td>\n",
              "      <td>0.0</td>\n",
              "      <td>0.0</td>\n",
              "      <td>0.0</td>\n",
              "      <td>0.0</td>\n",
              "      <td>694.0</td>\n",
              "      <td>1725.0</td>\n",
              "      <td>69.4</td>\n",
              "      <td>172.5</td>\n",
              "      <td>355.170081</td>\n",
              "    </tr>\n",
              "    <tr>\n",
              "      <th>4</th>\n",
              "      <td>30.0</td>\n",
              "      <td>165.0</td>\n",
              "      <td>90.0</td>\n",
              "      <td>45.0</td>\n",
              "      <td>60.0</td>\n",
              "      <td>789.0</td>\n",
              "      <td>1675.0</td>\n",
              "      <td>78.9</td>\n",
              "      <td>167.5</td>\n",
              "      <td>299.735235</td>\n",
              "    </tr>\n",
              "    <tr>\n",
              "      <th>...</th>\n",
              "      <td>...</td>\n",
              "      <td>...</td>\n",
              "      <td>...</td>\n",
              "      <td>...</td>\n",
              "      <td>...</td>\n",
              "      <td>...</td>\n",
              "      <td>...</td>\n",
              "      <td>...</td>\n",
              "      <td>...</td>\n",
              "      <td>...</td>\n",
              "    </tr>\n",
              "    <tr>\n",
              "      <th>16551</th>\n",
              "      <td>30.0</td>\n",
              "      <td>400.0</td>\n",
              "      <td>110.0</td>\n",
              "      <td>260.0</td>\n",
              "      <td>240.0</td>\n",
              "      <td>567.0</td>\n",
              "      <td>1679.0</td>\n",
              "      <td>56.7</td>\n",
              "      <td>167.9</td>\n",
              "      <td>447.815539</td>\n",
              "    </tr>\n",
              "    <tr>\n",
              "      <th>16552</th>\n",
              "      <td>20.0</td>\n",
              "      <td>800.0</td>\n",
              "      <td>325.0</td>\n",
              "      <td>455.0</td>\n",
              "      <td>240.0</td>\n",
              "      <td>619.0</td>\n",
              "      <td>1858.0</td>\n",
              "      <td>61.9</td>\n",
              "      <td>185.8</td>\n",
              "      <td>592.507440</td>\n",
              "    </tr>\n",
              "    <tr>\n",
              "      <th>16553</th>\n",
              "      <td>0.0</td>\n",
              "      <td>0.0</td>\n",
              "      <td>0.0</td>\n",
              "      <td>0.0</td>\n",
              "      <td>60.0</td>\n",
              "      <td>609.0</td>\n",
              "      <td>1594.0</td>\n",
              "      <td>60.9</td>\n",
              "      <td>159.4</td>\n",
              "      <td>401.131512</td>\n",
              "    </tr>\n",
              "    <tr>\n",
              "      <th>16554</th>\n",
              "      <td>75.0</td>\n",
              "      <td>215.0</td>\n",
              "      <td>35.0</td>\n",
              "      <td>105.0</td>\n",
              "      <td>120.0</td>\n",
              "      <td>473.0</td>\n",
              "      <td>1578.0</td>\n",
              "      <td>47.3</td>\n",
              "      <td>157.8</td>\n",
              "      <td>442.718091</td>\n",
              "    </tr>\n",
              "    <tr>\n",
              "      <th>16555</th>\n",
              "      <td>50.0</td>\n",
              "      <td>485.0</td>\n",
              "      <td>110.0</td>\n",
              "      <td>325.0</td>\n",
              "      <td>360.0</td>\n",
              "      <td>626.0</td>\n",
              "      <td>1639.0</td>\n",
              "      <td>62.6</td>\n",
              "      <td>163.9</td>\n",
              "      <td>592.507440</td>\n",
              "    </tr>\n",
              "  </tbody>\n",
              "</table>\n",
              "<p>16556 rows × 10 columns</p>\n",
              "</div>"
            ],
            "text/plain": [
              "       TEMPODESLOC  TEMPOTOTAL  TEMPOEDFIS  ...  VB17003  VB17004        PESO\n",
              "0              0.0        15.0         0.0  ...     37.1    157.0  299.735235\n",
              "1            120.0       510.0       260.0  ...     50.2    152.0  355.170081\n",
              "2              0.0       585.0       130.0  ...     48.2    161.4  299.735235\n",
              "3              0.0         0.0         0.0  ...     69.4    172.5  355.170081\n",
              "4             30.0       165.0        90.0  ...     78.9    167.5  299.735235\n",
              "...            ...         ...         ...  ...      ...      ...         ...\n",
              "16551         30.0       400.0       110.0  ...     56.7    167.9  447.815539\n",
              "16552         20.0       800.0       325.0  ...     61.9    185.8  592.507440\n",
              "16553          0.0         0.0         0.0  ...     60.9    159.4  401.131512\n",
              "16554         75.0       215.0        35.0  ...     47.3    157.8  442.718091\n",
              "16555         50.0       485.0       110.0  ...     62.6    163.9  592.507440\n",
              "\n",
              "[16556 rows x 10 columns]"
            ]
          },
          "metadata": {
            "tags": []
          },
          "execution_count": 12
        }
      ]
    },
    {
      "cell_type": "markdown",
      "metadata": {
        "id": "n6cbDPMvQdkO"
      },
      "source": [
        "* VB7001: Qual é o peso do(a) aluno(a)?\r\n",
        "* VB7002: Qual é a altura do(a) aluno(a)?\r\n",
        "* VB7003: Peso do estudante, incluindo os imputados, com uma casa decimal \r\n",
        "* VB7003: Altura do estudante, incluindo os imputados, com uma casa decimal\r\n",
        "\r\n",
        "O dicionário também adiciona que respostas com o valor 998 significam \"Não informado\" e com o valor 9999 significam \"Recusa ou impossibilidade de medição\"\r\n",
        "\r\n",
        "Podemos definir as respostas dessas perguntas como dados quantitativos e continuos. Já a idade, por exemplo, é um dado quantitativo e discreto.\r\n",
        "\r\n",
        "DEFINIÇÃO:\r\n",
        "\r\n",
        "* DADO QUANTITATIVO:\r\n",
        "\r\n",
        "    Descreve quantidades numéricas.\r\n",
        "  * Váriavel Discreta: Descreve uma quantidade contável (população, idade);\r\n",
        "  * Váriavel Contínua: Descreve medições (área total, peso e etc.).\r\n",
        "\r\n",
        "\r\n",
        "* DADO QUALITATIVO:\r\n",
        "\r\n",
        "    Descreve categorias, nomes, qualidades, etc.\r\n",
        "  * Váriavel Nominal: Não pode ser ordenada (nomes de países, por exemplo);\r\n",
        "  * Váriavel Ordinal: Pode ser ordenada seguindo um critério quantitativo (meses, escolaridade, classe social e etc).\r\n",
        "\r\n",
        "\r\n"
      ]
    },
    {
      "cell_type": "markdown",
      "metadata": {
        "id": "sR29c2mLSRaa"
      },
      "source": [
        "#### Desafio 03:  Desafio 03 - Classificar algumas perguntas como QualitativaXQuantitativa"
      ]
    },
    {
      "cell_type": "markdown",
      "metadata": {
        "id": "WlJ5IT-DlfOC"
      },
      "source": [
        "* Que idade você tinha quando experimentou fumar cigarro pela primeira vez? - Quantitativa Discreta\r\n",
        "\r\n",
        "* NOS ÚLTIMOS 30 DIAS, em quantos dias você fumou cigarros? - Qualitativo Ordinal\r\n",
        "\r\n",
        "* NOS ÚLTIMOS 30 DIAS, em geral, como você conseguiu seus próprios cigarros? - Qualitativo Nominal\r\n",
        "\r\n",
        "* Qual outro produto do tabaco você usou com mais frequência NOS ÚLTIMOS 30 DIAS? - Qualitativo Nominal\r\n",
        "\r\n",
        "* NOS ÚLTIMOS 7 DIAS, em quantos dias pessoas fumaram na sua presença? - Qualitativo Ordinal\r\n",
        "\r\n",
        "* NOS ÚLTIMOS 30 DIAS, com que frequência seus pais ou responsáveis entenderam seus problemas e preocupações? - Qualitativo Ordinal\r\n",
        "\r\n",
        "* NOS ÚLTIMOS 12 MESES, com que frequência você não conseguiu dormir à noite porque algo o(a) preocupava muito? - Qualitativo Ordinal"
      ]
    },
    {
      "cell_type": "markdown",
      "metadata": {
        "id": "gOBYnowLnEL5"
      },
      "source": [
        "## AULA 2 - DADOS QUALITATIVOS E TABELAS DE FREQUÊNCIA"
      ]
    },
    {
      "cell_type": "code",
      "metadata": {
        "colab": {
          "base_uri": "https://localhost:8080/",
          "height": 246
        },
        "id": "I3U1B14MnOVm",
        "outputId": "377030bd-a65a-48bc-afab-e1507f16a89c"
      },
      "source": [
        "df.head()"
      ],
      "execution_count": 13,
      "outputs": [
        {
          "output_type": "execute_result",
          "data": {
            "text/html": [
              "<div>\n",
              "<style scoped>\n",
              "    .dataframe tbody tr th:only-of-type {\n",
              "        vertical-align: middle;\n",
              "    }\n",
              "\n",
              "    .dataframe tbody tr th {\n",
              "        vertical-align: top;\n",
              "    }\n",
              "\n",
              "    .dataframe thead th {\n",
              "        text-align: right;\n",
              "    }\n",
              "</style>\n",
              "<table border=\"1\" class=\"dataframe\">\n",
              "  <thead>\n",
              "    <tr style=\"text-align: right;\">\n",
              "      <th></th>\n",
              "      <th>ANOPESQ</th>\n",
              "      <th>PAIS</th>\n",
              "      <th>REGEOGR</th>\n",
              "      <th>VB00004</th>\n",
              "      <th>VB01001</th>\n",
              "      <th>VB01002</th>\n",
              "      <th>VB01003</th>\n",
              "      <th>VB01004</th>\n",
              "      <th>VB01005</th>\n",
              "      <th>VB01006</th>\n",
              "      <th>VB01007</th>\n",
              "      <th>VB01008A</th>\n",
              "      <th>VB01010A</th>\n",
              "      <th>VB01011</th>\n",
              "      <th>VB01012</th>\n",
              "      <th>VB01013</th>\n",
              "      <th>VB01014</th>\n",
              "      <th>VB01015A</th>\n",
              "      <th>VB01016</th>\n",
              "      <th>VB01017</th>\n",
              "      <th>VB01018</th>\n",
              "      <th>VB01019</th>\n",
              "      <th>VB01020A</th>\n",
              "      <th>VB01021</th>\n",
              "      <th>VB01022</th>\n",
              "      <th>VB01023</th>\n",
              "      <th>VB01024</th>\n",
              "      <th>VB01025</th>\n",
              "      <th>VB01026</th>\n",
              "      <th>VB02001</th>\n",
              "      <th>VB02002</th>\n",
              "      <th>VB02004A</th>\n",
              "      <th>VB02010</th>\n",
              "      <th>VB02011</th>\n",
              "      <th>VB02013</th>\n",
              "      <th>VB02017A</th>\n",
              "      <th>VB02018A</th>\n",
              "      <th>VB02019A</th>\n",
              "      <th>VB02020A</th>\n",
              "      <th>VB02021</th>\n",
              "      <th>...</th>\n",
              "      <th>VB11005</th>\n",
              "      <th>VB11006</th>\n",
              "      <th>VB11007</th>\n",
              "      <th>VB12001</th>\n",
              "      <th>VB12002</th>\n",
              "      <th>VB12003</th>\n",
              "      <th>VB13001</th>\n",
              "      <th>VB13002A</th>\n",
              "      <th>VB13004A</th>\n",
              "      <th>VB13005</th>\n",
              "      <th>VB13006</th>\n",
              "      <th>VB13007</th>\n",
              "      <th>VB13008</th>\n",
              "      <th>VB13009</th>\n",
              "      <th>VB14001</th>\n",
              "      <th>VB14002</th>\n",
              "      <th>VB16001A01</th>\n",
              "      <th>VB16001A02</th>\n",
              "      <th>VB16001A03</th>\n",
              "      <th>VB16001A04</th>\n",
              "      <th>VB16001A05</th>\n",
              "      <th>VB16001A06</th>\n",
              "      <th>VB16001A07</th>\n",
              "      <th>VB16001A08</th>\n",
              "      <th>VB17001</th>\n",
              "      <th>VB17002</th>\n",
              "      <th>VB17003</th>\n",
              "      <th>VB17004</th>\n",
              "      <th>VB17005</th>\n",
              "      <th>VB17006</th>\n",
              "      <th>ESTRATO_EXP</th>\n",
              "      <th>ESTRATOGEOREG</th>\n",
              "      <th>PESO</th>\n",
              "      <th>V0006</th>\n",
              "      <th>V0007</th>\n",
              "      <th>V0008</th>\n",
              "      <th>V0041</th>\n",
              "      <th>aluno</th>\n",
              "      <th>escola</th>\n",
              "      <th>turma</th>\n",
              "    </tr>\n",
              "  </thead>\n",
              "  <tbody>\n",
              "    <tr>\n",
              "      <th>0</th>\n",
              "      <td>2015</td>\n",
              "      <td>76</td>\n",
              "      <td>1</td>\n",
              "      <td>1</td>\n",
              "      <td>2</td>\n",
              "      <td>1</td>\n",
              "      <td>13</td>\n",
              "      <td>7</td>\n",
              "      <td>7</td>\n",
              "      <td>1</td>\n",
              "      <td>2</td>\n",
              "      <td>7</td>\n",
              "      <td>3</td>\n",
              "      <td>2</td>\n",
              "      <td>-1</td>\n",
              "      <td>1</td>\n",
              "      <td>1</td>\n",
              "      <td>1</td>\n",
              "      <td>1</td>\n",
              "      <td>1</td>\n",
              "      <td>2</td>\n",
              "      <td>4</td>\n",
              "      <td>2</td>\n",
              "      <td>4</td>\n",
              "      <td>1</td>\n",
              "      <td>2</td>\n",
              "      <td>2</td>\n",
              "      <td>5</td>\n",
              "      <td>1</td>\n",
              "      <td>8</td>\n",
              "      <td>3</td>\n",
              "      <td>4</td>\n",
              "      <td>3</td>\n",
              "      <td>6</td>\n",
              "      <td>6</td>\n",
              "      <td>1</td>\n",
              "      <td>6</td>\n",
              "      <td>1</td>\n",
              "      <td>-1</td>\n",
              "      <td>2</td>\n",
              "      <td>...</td>\n",
              "      <td>2</td>\n",
              "      <td>1</td>\n",
              "      <td>2</td>\n",
              "      <td>1</td>\n",
              "      <td>1</td>\n",
              "      <td>4</td>\n",
              "      <td>2</td>\n",
              "      <td>-1</td>\n",
              "      <td>3</td>\n",
              "      <td>1</td>\n",
              "      <td>1</td>\n",
              "      <td>-1</td>\n",
              "      <td>1</td>\n",
              "      <td>1</td>\n",
              "      <td>2</td>\n",
              "      <td>2</td>\n",
              "      <td>1</td>\n",
              "      <td>2</td>\n",
              "      <td>2</td>\n",
              "      <td>2</td>\n",
              "      <td>2</td>\n",
              "      <td>2</td>\n",
              "      <td>2</td>\n",
              "      <td>2</td>\n",
              "      <td>371.0</td>\n",
              "      <td>1570.0</td>\n",
              "      <td>37.1</td>\n",
              "      <td>157.0</td>\n",
              "      <td>2</td>\n",
              "      <td>1</td>\n",
              "      <td>1223</td>\n",
              "      <td>1</td>\n",
              "      <td>299.735235</td>\n",
              "      <td>1</td>\n",
              "      <td>2</td>\n",
              "      <td>4</td>\n",
              "      <td>1</td>\n",
              "      <td>1</td>\n",
              "      <td>1</td>\n",
              "      <td>296</td>\n",
              "    </tr>\n",
              "    <tr>\n",
              "      <th>1</th>\n",
              "      <td>2015</td>\n",
              "      <td>76</td>\n",
              "      <td>1</td>\n",
              "      <td>1</td>\n",
              "      <td>2</td>\n",
              "      <td>1</td>\n",
              "      <td>14</td>\n",
              "      <td>4</td>\n",
              "      <td>7</td>\n",
              "      <td>1</td>\n",
              "      <td>1</td>\n",
              "      <td>7</td>\n",
              "      <td>3</td>\n",
              "      <td>2</td>\n",
              "      <td>-1</td>\n",
              "      <td>1</td>\n",
              "      <td>1</td>\n",
              "      <td>1</td>\n",
              "      <td>1</td>\n",
              "      <td>1</td>\n",
              "      <td>2</td>\n",
              "      <td>2</td>\n",
              "      <td>2</td>\n",
              "      <td>4</td>\n",
              "      <td>1</td>\n",
              "      <td>2</td>\n",
              "      <td>2</td>\n",
              "      <td>5</td>\n",
              "      <td>3</td>\n",
              "      <td>8</td>\n",
              "      <td>2</td>\n",
              "      <td>1</td>\n",
              "      <td>8</td>\n",
              "      <td>8</td>\n",
              "      <td>6</td>\n",
              "      <td>1</td>\n",
              "      <td>1</td>\n",
              "      <td>5</td>\n",
              "      <td>-1</td>\n",
              "      <td>2</td>\n",
              "      <td>...</td>\n",
              "      <td>2</td>\n",
              "      <td>3</td>\n",
              "      <td>2</td>\n",
              "      <td>4</td>\n",
              "      <td>4</td>\n",
              "      <td>4</td>\n",
              "      <td>1</td>\n",
              "      <td>2</td>\n",
              "      <td>3</td>\n",
              "      <td>3</td>\n",
              "      <td>1</td>\n",
              "      <td>-1</td>\n",
              "      <td>1</td>\n",
              "      <td>1</td>\n",
              "      <td>2</td>\n",
              "      <td>2</td>\n",
              "      <td>2</td>\n",
              "      <td>2</td>\n",
              "      <td>2</td>\n",
              "      <td>1</td>\n",
              "      <td>2</td>\n",
              "      <td>2</td>\n",
              "      <td>2</td>\n",
              "      <td>2</td>\n",
              "      <td>502.0</td>\n",
              "      <td>1520.0</td>\n",
              "      <td>50.2</td>\n",
              "      <td>152.0</td>\n",
              "      <td>2</td>\n",
              "      <td>2</td>\n",
              "      <td>1223</td>\n",
              "      <td>1</td>\n",
              "      <td>355.170081</td>\n",
              "      <td>1</td>\n",
              "      <td>2</td>\n",
              "      <td>4</td>\n",
              "      <td>1</td>\n",
              "      <td>2</td>\n",
              "      <td>1</td>\n",
              "      <td>296</td>\n",
              "    </tr>\n",
              "    <tr>\n",
              "      <th>2</th>\n",
              "      <td>2015</td>\n",
              "      <td>76</td>\n",
              "      <td>1</td>\n",
              "      <td>1</td>\n",
              "      <td>1</td>\n",
              "      <td>4</td>\n",
              "      <td>13</td>\n",
              "      <td>6</td>\n",
              "      <td>7</td>\n",
              "      <td>1</td>\n",
              "      <td>1</td>\n",
              "      <td>5</td>\n",
              "      <td>5</td>\n",
              "      <td>2</td>\n",
              "      <td>-1</td>\n",
              "      <td>2</td>\n",
              "      <td>1</td>\n",
              "      <td>1</td>\n",
              "      <td>1</td>\n",
              "      <td>1</td>\n",
              "      <td>2</td>\n",
              "      <td>3</td>\n",
              "      <td>1</td>\n",
              "      <td>4</td>\n",
              "      <td>1</td>\n",
              "      <td>2</td>\n",
              "      <td>2</td>\n",
              "      <td>5</td>\n",
              "      <td>3</td>\n",
              "      <td>2</td>\n",
              "      <td>3</td>\n",
              "      <td>1</td>\n",
              "      <td>8</td>\n",
              "      <td>2</td>\n",
              "      <td>8</td>\n",
              "      <td>1</td>\n",
              "      <td>1</td>\n",
              "      <td>5</td>\n",
              "      <td>5</td>\n",
              "      <td>1</td>\n",
              "      <td>...</td>\n",
              "      <td>2</td>\n",
              "      <td>1</td>\n",
              "      <td>2</td>\n",
              "      <td>1</td>\n",
              "      <td>2</td>\n",
              "      <td>3</td>\n",
              "      <td>1</td>\n",
              "      <td>2</td>\n",
              "      <td>1</td>\n",
              "      <td>2</td>\n",
              "      <td>5</td>\n",
              "      <td>99</td>\n",
              "      <td>1</td>\n",
              "      <td>-1</td>\n",
              "      <td>2</td>\n",
              "      <td>2</td>\n",
              "      <td>1</td>\n",
              "      <td>1</td>\n",
              "      <td>1</td>\n",
              "      <td>1</td>\n",
              "      <td>1</td>\n",
              "      <td>1</td>\n",
              "      <td>1</td>\n",
              "      <td>1</td>\n",
              "      <td>482.0</td>\n",
              "      <td>1614.0</td>\n",
              "      <td>48.2</td>\n",
              "      <td>161.4</td>\n",
              "      <td>2</td>\n",
              "      <td>2</td>\n",
              "      <td>1223</td>\n",
              "      <td>1</td>\n",
              "      <td>299.735235</td>\n",
              "      <td>1</td>\n",
              "      <td>2</td>\n",
              "      <td>4</td>\n",
              "      <td>1</td>\n",
              "      <td>3</td>\n",
              "      <td>1</td>\n",
              "      <td>296</td>\n",
              "    </tr>\n",
              "    <tr>\n",
              "      <th>3</th>\n",
              "      <td>2015</td>\n",
              "      <td>76</td>\n",
              "      <td>1</td>\n",
              "      <td>1</td>\n",
              "      <td>1</td>\n",
              "      <td>1</td>\n",
              "      <td>14</td>\n",
              "      <td>6</td>\n",
              "      <td>7</td>\n",
              "      <td>1</td>\n",
              "      <td>1</td>\n",
              "      <td>7</td>\n",
              "      <td>4</td>\n",
              "      <td>2</td>\n",
              "      <td>-1</td>\n",
              "      <td>1</td>\n",
              "      <td>1</td>\n",
              "      <td>1</td>\n",
              "      <td>1</td>\n",
              "      <td>1</td>\n",
              "      <td>2</td>\n",
              "      <td>4</td>\n",
              "      <td>2</td>\n",
              "      <td>4</td>\n",
              "      <td>1</td>\n",
              "      <td>2</td>\n",
              "      <td>2</td>\n",
              "      <td>6</td>\n",
              "      <td>3</td>\n",
              "      <td>2</td>\n",
              "      <td>4</td>\n",
              "      <td>1</td>\n",
              "      <td>3</td>\n",
              "      <td>2</td>\n",
              "      <td>7</td>\n",
              "      <td>1</td>\n",
              "      <td>5</td>\n",
              "      <td>1</td>\n",
              "      <td>-1</td>\n",
              "      <td>2</td>\n",
              "      <td>...</td>\n",
              "      <td>2</td>\n",
              "      <td>1</td>\n",
              "      <td>2</td>\n",
              "      <td>2</td>\n",
              "      <td>2</td>\n",
              "      <td>4</td>\n",
              "      <td>1</td>\n",
              "      <td>10</td>\n",
              "      <td>3</td>\n",
              "      <td>1</td>\n",
              "      <td>2</td>\n",
              "      <td>-1</td>\n",
              "      <td>1</td>\n",
              "      <td>-1</td>\n",
              "      <td>2</td>\n",
              "      <td>2</td>\n",
              "      <td>1</td>\n",
              "      <td>2</td>\n",
              "      <td>2</td>\n",
              "      <td>2</td>\n",
              "      <td>1</td>\n",
              "      <td>2</td>\n",
              "      <td>2</td>\n",
              "      <td>2</td>\n",
              "      <td>694.0</td>\n",
              "      <td>1725.0</td>\n",
              "      <td>69.4</td>\n",
              "      <td>172.5</td>\n",
              "      <td>2</td>\n",
              "      <td>3</td>\n",
              "      <td>1223</td>\n",
              "      <td>1</td>\n",
              "      <td>355.170081</td>\n",
              "      <td>1</td>\n",
              "      <td>2</td>\n",
              "      <td>4</td>\n",
              "      <td>1</td>\n",
              "      <td>4</td>\n",
              "      <td>1</td>\n",
              "      <td>296</td>\n",
              "    </tr>\n",
              "    <tr>\n",
              "      <th>4</th>\n",
              "      <td>2015</td>\n",
              "      <td>76</td>\n",
              "      <td>1</td>\n",
              "      <td>1</td>\n",
              "      <td>1</td>\n",
              "      <td>1</td>\n",
              "      <td>13</td>\n",
              "      <td>9</td>\n",
              "      <td>7</td>\n",
              "      <td>1</td>\n",
              "      <td>2</td>\n",
              "      <td>5</td>\n",
              "      <td>4</td>\n",
              "      <td>2</td>\n",
              "      <td>-1</td>\n",
              "      <td>2</td>\n",
              "      <td>1</td>\n",
              "      <td>1</td>\n",
              "      <td>1</td>\n",
              "      <td>1</td>\n",
              "      <td>2</td>\n",
              "      <td>5</td>\n",
              "      <td>1</td>\n",
              "      <td>4</td>\n",
              "      <td>1</td>\n",
              "      <td>2</td>\n",
              "      <td>2</td>\n",
              "      <td>6</td>\n",
              "      <td>5</td>\n",
              "      <td>6</td>\n",
              "      <td>3</td>\n",
              "      <td>5</td>\n",
              "      <td>2</td>\n",
              "      <td>6</td>\n",
              "      <td>2</td>\n",
              "      <td>1</td>\n",
              "      <td>5</td>\n",
              "      <td>1</td>\n",
              "      <td>5</td>\n",
              "      <td>1</td>\n",
              "      <td>...</td>\n",
              "      <td>2</td>\n",
              "      <td>1</td>\n",
              "      <td>4</td>\n",
              "      <td>2</td>\n",
              "      <td>2</td>\n",
              "      <td>4</td>\n",
              "      <td>1</td>\n",
              "      <td>3</td>\n",
              "      <td>2</td>\n",
              "      <td>2</td>\n",
              "      <td>2</td>\n",
              "      <td>13</td>\n",
              "      <td>1</td>\n",
              "      <td>-1</td>\n",
              "      <td>1</td>\n",
              "      <td>2</td>\n",
              "      <td>1</td>\n",
              "      <td>1</td>\n",
              "      <td>1</td>\n",
              "      <td>1</td>\n",
              "      <td>1</td>\n",
              "      <td>1</td>\n",
              "      <td>1</td>\n",
              "      <td>1</td>\n",
              "      <td>789.0</td>\n",
              "      <td>1675.0</td>\n",
              "      <td>78.9</td>\n",
              "      <td>167.5</td>\n",
              "      <td>2</td>\n",
              "      <td>4</td>\n",
              "      <td>1223</td>\n",
              "      <td>1</td>\n",
              "      <td>299.735235</td>\n",
              "      <td>1</td>\n",
              "      <td>2</td>\n",
              "      <td>4</td>\n",
              "      <td>1</td>\n",
              "      <td>5</td>\n",
              "      <td>1</td>\n",
              "      <td>296</td>\n",
              "    </tr>\n",
              "  </tbody>\n",
              "</table>\n",
              "<p>5 rows × 181 columns</p>\n",
              "</div>"
            ],
            "text/plain": [
              "   ANOPESQ  PAIS  REGEOGR  VB00004  VB01001  ...  V0008  V0041  aluno  escola  turma\n",
              "0     2015    76        1        1        2  ...      4      1      1       1    296\n",
              "1     2015    76        1        1        2  ...      4      1      2       1    296\n",
              "2     2015    76        1        1        1  ...      4      1      3       1    296\n",
              "3     2015    76        1        1        1  ...      4      1      4       1    296\n",
              "4     2015    76        1        1        1  ...      4      1      5       1    296\n",
              "\n",
              "[5 rows x 181 columns]"
            ]
          },
          "metadata": {
            "tags": []
          },
          "execution_count": 13
        }
      ]
    },
    {
      "cell_type": "markdown",
      "metadata": {
        "id": "WNVO_Uk4sqqr"
      },
      "source": [
        "Podemos utilizar o .value_counts() para criar uma tabela de frequência do dataset da PeNSE. No exemplo abaixo, iremos descobrir a frequência de cada sexo utilizando a pergunta \"VB01001\"."
      ]
    },
    {
      "cell_type": "code",
      "metadata": {
        "colab": {
          "base_uri": "https://localhost:8080/"
        },
        "id": "qw2RFbyrsgMN",
        "outputId": "e5d7131f-e4ee-4da5-cbba-59a88471e21c"
      },
      "source": [
        "df[\"VB01001\"].value_counts()"
      ],
      "execution_count": 14,
      "outputs": [
        {
          "output_type": "execute_result",
          "data": {
            "text/plain": [
              "1    8287\n",
              "2    8269\n",
              "Name: VB01001, dtype: int64"
            ]
          },
          "metadata": {
            "tags": []
          },
          "execution_count": 14
        }
      ]
    },
    {
      "cell_type": "code",
      "metadata": {
        "colab": {
          "base_uri": "https://localhost:8080/"
        },
        "id": "i60zGP9Gsnjz",
        "outputId": "52cc31c0-d87c-49de-b5e8-d21b07e74e9c"
      },
      "source": [
        "# Para a porcentagem, podemos utilizar o argumento normalize dentro da função:\r\n",
        "df[\"VB01001\"].value_counts(normalize = True) * 100"
      ],
      "execution_count": 15,
      "outputs": [
        {
          "output_type": "execute_result",
          "data": {
            "text/plain": [
              "1    50.054361\n",
              "2    49.945639\n",
              "Name: VB01001, dtype: float64"
            ]
          },
          "metadata": {
            "tags": []
          },
          "execution_count": 15
        }
      ]
    },
    {
      "cell_type": "markdown",
      "metadata": {
        "id": "gmmPbNPEt4pi"
      },
      "source": [
        "É possível perceber que a distribuição do sexo dos alunos participantes da pesquisa é bem equilibrada. \r\n",
        "\r\n",
        "Vamos fazer o mesmo processo para a pergunta VB11007: \"Como você se sente em relação ao seu corpo?\""
      ]
    },
    {
      "cell_type": "code",
      "metadata": {
        "colab": {
          "base_uri": "https://localhost:8080/"
        },
        "id": "V6iJUtM1ud7c",
        "outputId": "6013892b-06bd-4261-d9c0-3ec06e56b099"
      },
      "source": [
        "df[\"VB11007\"].value_counts(normalize = True) * 100"
      ],
      "execution_count": 16,
      "outputs": [
        {
          "output_type": "execute_result",
          "data": {
            "text/plain": [
              "2     41.797536\n",
              "1     27.832810\n",
              "4     14.049287\n",
              "3     10.914472\n",
              "5      4.312636\n",
              "99     1.093259\n",
              "Name: VB11007, dtype: float64"
            ]
          },
          "metadata": {
            "tags": []
          },
          "execution_count": 16
        }
      ]
    },
    {
      "cell_type": "markdown",
      "metadata": {
        "id": "THwbO8Ikum9l"
      },
      "source": [
        "De acordo com a documetação, os números correspodem às seguintes respostas:\r\n",
        "\r\n",
        "1. Muito satisfeito(a)\r\n",
        "2. Satisfeito(a)\r\n",
        "3. Indiferente\r\n",
        "4. Insatisfeito(a)\r\n",
        "5. Muito insatisfeito(a)\r\n",
        "\r\n",
        "  99 Não Informado.\r\n",
        "\r\n",
        "Podemos verificar que a distribuição dos dados está menos equilibrada dessa vez, com mais alunos se mostrando satisfeitos com seu próprio corpo. \r\n",
        "\r\n",
        "A instatisfação com a sua imagem corporal atinge aproximadamente 15% dos alunos pesquisados."
      ]
    },
    {
      "cell_type": "code",
      "metadata": {
        "id": "dOPUdP6Quk2n"
      },
      "source": [
        "frequencia = df[\"VB11007\"].value_counts()\r\n",
        "percentual = df[\"VB11007\"].value_counts(normalize = True) * 100\r\n",
        "\r\n",
        "dist_freq = pd.DataFrame({'frequencia': frequencia, \"percentual\": percentual})"
      ],
      "execution_count": 17,
      "outputs": []
    },
    {
      "cell_type": "code",
      "metadata": {
        "colab": {
          "base_uri": "https://localhost:8080/",
          "height": 227
        },
        "id": "o2PT4VnDxGFc",
        "outputId": "254b6963-0d7f-4bdb-c509-874994994dcc"
      },
      "source": [
        "dist_freq\r\n",
        "\r\n",
        "# Agora falta apenas passar as respostas para as linhas:"
      ],
      "execution_count": 18,
      "outputs": [
        {
          "output_type": "execute_result",
          "data": {
            "text/html": [
              "<div>\n",
              "<style scoped>\n",
              "    .dataframe tbody tr th:only-of-type {\n",
              "        vertical-align: middle;\n",
              "    }\n",
              "\n",
              "    .dataframe tbody tr th {\n",
              "        vertical-align: top;\n",
              "    }\n",
              "\n",
              "    .dataframe thead th {\n",
              "        text-align: right;\n",
              "    }\n",
              "</style>\n",
              "<table border=\"1\" class=\"dataframe\">\n",
              "  <thead>\n",
              "    <tr style=\"text-align: right;\">\n",
              "      <th></th>\n",
              "      <th>frequencia</th>\n",
              "      <th>percentual</th>\n",
              "    </tr>\n",
              "  </thead>\n",
              "  <tbody>\n",
              "    <tr>\n",
              "      <th>2</th>\n",
              "      <td>6920</td>\n",
              "      <td>41.797536</td>\n",
              "    </tr>\n",
              "    <tr>\n",
              "      <th>1</th>\n",
              "      <td>4608</td>\n",
              "      <td>27.832810</td>\n",
              "    </tr>\n",
              "    <tr>\n",
              "      <th>4</th>\n",
              "      <td>2326</td>\n",
              "      <td>14.049287</td>\n",
              "    </tr>\n",
              "    <tr>\n",
              "      <th>3</th>\n",
              "      <td>1807</td>\n",
              "      <td>10.914472</td>\n",
              "    </tr>\n",
              "    <tr>\n",
              "      <th>5</th>\n",
              "      <td>714</td>\n",
              "      <td>4.312636</td>\n",
              "    </tr>\n",
              "    <tr>\n",
              "      <th>99</th>\n",
              "      <td>181</td>\n",
              "      <td>1.093259</td>\n",
              "    </tr>\n",
              "  </tbody>\n",
              "</table>\n",
              "</div>"
            ],
            "text/plain": [
              "    frequencia  percentual\n",
              "2         6920   41.797536\n",
              "1         4608   27.832810\n",
              "4         2326   14.049287\n",
              "3         1807   10.914472\n",
              "5          714    4.312636\n",
              "99         181    1.093259"
            ]
          },
          "metadata": {
            "tags": []
          },
          "execution_count": 18
        }
      ]
    },
    {
      "cell_type": "code",
      "metadata": {
        "colab": {
          "base_uri": "https://localhost:8080/",
          "height": 227
        },
        "id": "IkPuWcOGxhWj",
        "outputId": "b895fdaf-134f-4330-8c19-22c06bf76c8c"
      },
      "source": [
        "respostas = {\r\n",
        "    1 : \"Muito Satisfeito\",\r\n",
        "    2 : \"Satisfeito\",\r\n",
        "    3 : \"Indiferente\",\r\n",
        "    4 : \"Insatisfeito\",\r\n",
        "    5 : \"Muito Insatisfeito\",\r\n",
        "    99 : \"Não Informado\"\r\n",
        "}\r\n",
        "\r\n",
        "dist_freq.rename(index = respostas, inplace = True)\r\n",
        "dist_freq.rename_axis(\"Sentimento em relação ao próprio corpo\", axis = 1, inplace = True)\r\n",
        "dist_freq"
      ],
      "execution_count": 19,
      "outputs": [
        {
          "output_type": "execute_result",
          "data": {
            "text/html": [
              "<div>\n",
              "<style scoped>\n",
              "    .dataframe tbody tr th:only-of-type {\n",
              "        vertical-align: middle;\n",
              "    }\n",
              "\n",
              "    .dataframe tbody tr th {\n",
              "        vertical-align: top;\n",
              "    }\n",
              "\n",
              "    .dataframe thead th {\n",
              "        text-align: right;\n",
              "    }\n",
              "</style>\n",
              "<table border=\"1\" class=\"dataframe\">\n",
              "  <thead>\n",
              "    <tr style=\"text-align: right;\">\n",
              "      <th>Sentimento em relação ao próprio corpo</th>\n",
              "      <th>frequencia</th>\n",
              "      <th>percentual</th>\n",
              "    </tr>\n",
              "  </thead>\n",
              "  <tbody>\n",
              "    <tr>\n",
              "      <th>Satisfeito</th>\n",
              "      <td>6920</td>\n",
              "      <td>41.797536</td>\n",
              "    </tr>\n",
              "    <tr>\n",
              "      <th>Muito Satisfeito</th>\n",
              "      <td>4608</td>\n",
              "      <td>27.832810</td>\n",
              "    </tr>\n",
              "    <tr>\n",
              "      <th>Insatisfeito</th>\n",
              "      <td>2326</td>\n",
              "      <td>14.049287</td>\n",
              "    </tr>\n",
              "    <tr>\n",
              "      <th>Indiferente</th>\n",
              "      <td>1807</td>\n",
              "      <td>10.914472</td>\n",
              "    </tr>\n",
              "    <tr>\n",
              "      <th>Muito Insatisfeito</th>\n",
              "      <td>714</td>\n",
              "      <td>4.312636</td>\n",
              "    </tr>\n",
              "    <tr>\n",
              "      <th>Não Informado</th>\n",
              "      <td>181</td>\n",
              "      <td>1.093259</td>\n",
              "    </tr>\n",
              "  </tbody>\n",
              "</table>\n",
              "</div>"
            ],
            "text/plain": [
              "Sentimento em relação ao próprio corpo  frequencia  percentual\n",
              "Satisfeito                                    6920   41.797536\n",
              "Muito Satisfeito                              4608   27.832810\n",
              "Insatisfeito                                  2326   14.049287\n",
              "Indiferente                                   1807   10.914472\n",
              "Muito Insatisfeito                             714    4.312636\n",
              "Não Informado                                  181    1.093259"
            ]
          },
          "metadata": {
            "tags": []
          },
          "execution_count": 19
        }
      ]
    },
    {
      "cell_type": "code",
      "metadata": {
        "id": "gKT1z5XVyVe6"
      },
      "source": [
        "import matplotlib.pyplot as plt\r\n",
        "import seaborn as sns\r\n",
        "import matplotlib.ticker as ticker"
      ],
      "execution_count": 20,
      "outputs": []
    },
    {
      "cell_type": "code",
      "metadata": {
        "colab": {
          "base_uri": "https://localhost:8080/",
          "height": 294
        },
        "id": "ueTY5TauzYNA",
        "outputId": "fabf1574-f903-44e4-b48c-449994ece4db"
      },
      "source": [
        "ax = sns.barplot(data = dist_freq, x = \"percentual\", y = dist_freq.index)\r\n",
        "plt.title(\"Como você se sente em relação ao seu corpo?\")\r\n",
        "plt.grid(axis = \"x\")"
      ],
      "execution_count": 21,
      "outputs": [
        {
          "output_type": "display_data",
          "data": {
            "image/png": "[encoded data removed]",
            "text/plain": [
              "<Figure size 432x288 with 1 Axes>"
            ]
          },
          "metadata": {
            "tags": [],
            "needs_background": "light"
          }
        }
      ]
    },
    {
      "cell_type": "code",
      "metadata": {
        "colab": {
          "base_uri": "https://localhost:8080/",
          "height": 227
        },
        "id": "_8-yJBS7zgn4",
        "outputId": "9222b498-ffc8-4554-f161-855449031106"
      },
      "source": [
        "dist_freq"
      ],
      "execution_count": 22,
      "outputs": [
        {
          "output_type": "execute_result",
          "data": {
            "text/html": [
              "<div>\n",
              "<style scoped>\n",
              "    .dataframe tbody tr th:only-of-type {\n",
              "        vertical-align: middle;\n",
              "    }\n",
              "\n",
              "    .dataframe tbody tr th {\n",
              "        vertical-align: top;\n",
              "    }\n",
              "\n",
              "    .dataframe thead th {\n",
              "        text-align: right;\n",
              "    }\n",
              "</style>\n",
              "<table border=\"1\" class=\"dataframe\">\n",
              "  <thead>\n",
              "    <tr style=\"text-align: right;\">\n",
              "      <th>Sentimento em relação ao próprio corpo</th>\n",
              "      <th>frequencia</th>\n",
              "      <th>percentual</th>\n",
              "    </tr>\n",
              "  </thead>\n",
              "  <tbody>\n",
              "    <tr>\n",
              "      <th>Satisfeito</th>\n",
              "      <td>6920</td>\n",
              "      <td>41.797536</td>\n",
              "    </tr>\n",
              "    <tr>\n",
              "      <th>Muito Satisfeito</th>\n",
              "      <td>4608</td>\n",
              "      <td>27.832810</td>\n",
              "    </tr>\n",
              "    <tr>\n",
              "      <th>Insatisfeito</th>\n",
              "      <td>2326</td>\n",
              "      <td>14.049287</td>\n",
              "    </tr>\n",
              "    <tr>\n",
              "      <th>Indiferente</th>\n",
              "      <td>1807</td>\n",
              "      <td>10.914472</td>\n",
              "    </tr>\n",
              "    <tr>\n",
              "      <th>Muito Insatisfeito</th>\n",
              "      <td>714</td>\n",
              "      <td>4.312636</td>\n",
              "    </tr>\n",
              "    <tr>\n",
              "      <th>Não Informado</th>\n",
              "      <td>181</td>\n",
              "      <td>1.093259</td>\n",
              "    </tr>\n",
              "  </tbody>\n",
              "</table>\n",
              "</div>"
            ],
            "text/plain": [
              "Sentimento em relação ao próprio corpo  frequencia  percentual\n",
              "Satisfeito                                    6920   41.797536\n",
              "Muito Satisfeito                              4608   27.832810\n",
              "Insatisfeito                                  2326   14.049287\n",
              "Indiferente                                   1807   10.914472\n",
              "Muito Insatisfeito                             714    4.312636\n",
              "Não Informado                                  181    1.093259"
            ]
          },
          "metadata": {
            "tags": []
          },
          "execution_count": 22
        }
      ]
    },
    {
      "cell_type": "markdown",
      "metadata": {
        "id": "486iyXJO2mzx"
      },
      "source": [
        "#### Desafio 04: Criar uma função para gerar uma tabela de frequência e fazer a análise de outras informações. Compartilhar no discord suas análises:"
      ]
    },
    {
      "cell_type": "code",
      "metadata": {
        "id": "Hx28SecU3kfm"
      },
      "source": [
        "import re\r\n",
        "dicionario = pd.read_excel(\"/content/drive/MyDrive/AluraBootcamp/Modulo3/PeNSE_2015_AMOSTRA2/Dicionario_PENSE_Microdados_AMOSTRA2.xls\")\r\n"
      ],
      "execution_count": 23,
      "outputs": []
    },
    {
      "cell_type": "code",
      "metadata": {
        "id": "PdJ6xCts_Ffb"
      },
      "source": [
        ""
      ],
      "execution_count": 23,
      "outputs": []
    },
    {
      "cell_type": "code",
      "metadata": {
        "id": "4UF9dW7SDpy_"
      },
      "source": [
        "def criar_dicionario_respostas(cod_pergunta: str, dicionario = dicionario):\r\n",
        "\r\n",
        "  '''\r\n",
        "  Essa função serve como uma função helper para a criar_tab_freq(). Ela aceita\r\n",
        "  um código de pergunta como argumento e retorna um dicionário com as váriaveis \r\n",
        "  como keys e as alternativas de resposta como values, além do index dessa pergunta\r\n",
        "  no dicionário.\r\n",
        "\r\n",
        "  cod_pergunta: string contendo o código da pergunta. Ex.: \"VB02001\"\r\n",
        "\r\n",
        "  dicionario: variável em que está armazenado o dataframe contendo o arquivo \r\n",
        "  Dicionario_PENSE_Microdados_AMOSTRA2.xls.\r\n",
        "\r\n",
        "  Ideia do Lucas Porto no discord do bootcamp\r\n",
        "  '''\r\n",
        "\r\n",
        "  # fazendo a query e selecionando o index da pergunta no dicionário\r\n",
        "  busca = dicionario.loc[dicionario['VARIÁVEL'] == cod_pergunta]\r\n",
        "  index_pergunta = (busca.index).tolist()[0]\r\n",
        "\r\n",
        "  # criando um dataframe somente para as possiveis respostas\r\n",
        "  dataframe_respostas = pd.DataFrame(columns= ['VARIÁVEL','QUESTIONÁRIO DO ALUNO'])\r\n",
        "\r\n",
        "  # enquanto não encontra o index com a próxima pergunta (VB), \r\n",
        "  # adiciona as váriaveis e as possíveis respostas ao dataframe criado\r\n",
        "\r\n",
        "  # for index in range(index_pergunta + 1, index_pergunta + 20):\r\n",
        "  #   if str(dicionario.loc[index]['VARIÁVEL']).startswith('VB') == True:\r\n",
        "  #     break\r\n",
        "  #   else:\r\n",
        "  #     new_row = {'VARIÁVEL': int(dicionario.loc[index]['VARIÁVEL']),\r\n",
        "  #               'QUESTIONÁRIO DO ALUNO' : dicionario.loc[index]['QUESTIONÁRIO DO ALUNO']}\r\n",
        "      \r\n",
        "  #     dataframe_respostas = dataframe_respostas.append(new_row, ignore_index = True)\r\n",
        "\r\n",
        "  for index in range(index_pergunta + 1, index_pergunta + 20):\r\n",
        "    if str(dicionario.loc[index]['VARIÁVEL'])[0].isalpha():\r\n",
        "      break\r\n",
        "    else:\r\n",
        "      try:\r\n",
        "        new_row = {'VARIÁVEL': int(dicionario.loc[index]['VARIÁVEL']),\r\n",
        "                  'QUESTIONÁRIO DO ALUNO' : dicionario.loc[index]['QUESTIONÁRIO DO ALUNO']}\r\n",
        "        \r\n",
        "        dataframe_respostas = dataframe_respostas.append(new_row, ignore_index = True)\r\n",
        "      except ValueError:\r\n",
        "        return dataframe_respostas.set_index(\"VARIÁVEL\").to_dict(), index_pergunta\r\n",
        "\r\n",
        "  return dataframe_respostas.set_index(\"VARIÁVEL\").to_dict(), index_pergunta"
      ],
      "execution_count": 24,
      "outputs": []
    },
    {
      "cell_type": "code",
      "metadata": {
        "id": "xJOLREUK7ia7"
      },
      "source": [
        "def criar_tab_freq(cod_pergunta: str, titulo_perg = '', dicionario = dicionario, df = df, plot = False):\r\n",
        "\r\n",
        "  ''' \r\n",
        "  Essa função pede um código de pergunta e retorna um dataframe contendo a tabela\r\n",
        "  de frequencia das respostas dessa pergunta na PeNSE 2015. \r\n",
        "  Ela aceita os seguintes argumentos:\r\n",
        "  \r\n",
        "  cod_pergunta: string contendo o código da pergunta. Ex.: \"VB02001\"\r\n",
        "  \r\n",
        "  titulo_pergunta: string contendo um novo titulo para a pergunta. Se deixado em\r\n",
        "  branco, utiliza o original.\r\n",
        "\r\n",
        "  dicionario: variável em que está armazenado o dataframe contendo o arquivo \r\n",
        "  Dicionario_PENSE_Microdados_AMOSTRA2.xls.\r\n",
        "\r\n",
        "  df: variável em que está armazenado o dataframe contendo o arquivo \r\n",
        "  PENSE_AMOSTRA2_ALUNO.csv.\r\n",
        "\r\n",
        "  plot: Aceita um boolean. Em caso de True, a função também plotara\r\n",
        "  automaticamente um gráfico de barras da tabela de frequencia utilizando o sns.\r\n",
        "\r\n",
        "  '''\r\n",
        "\r\n",
        "  # Criando o dict com as respostas e pegando index da pergunta no dicionario\r\n",
        "  dict_respostas, idx = criar_dicionario_respostas(cod_pergunta)\r\n",
        "\r\n",
        "  # Calculando os dados de frequencia para a tabela\r\n",
        "  frequencia = df[cod_pergunta].value_counts()\r\n",
        "  percentual = df[cod_pergunta].value_counts(normalize = True) * 100\r\n",
        "\r\n",
        "  # Selecionando o título da pergunta\r\n",
        "  if titulo_perg == '':\r\n",
        "    titulo_perg = dicionario.iloc[idx, 1] \r\n",
        "\r\n",
        "  # Criando a tabela\r\n",
        "  tab_frequencia = pd.DataFrame({\"frequencia\":frequencia, \"percentual\":percentual})\r\n",
        "\r\n",
        "  # Renomeando o index e as váriaveis\r\n",
        "  tab_frequencia.rename(index = dict_respostas['QUESTIONÁRIO DO ALUNO'], inplace = True)\r\n",
        "\r\n",
        "  tab_frequencia.rename_axis(titulo_perg, axis = 1, inplace = True)\r\n",
        "\r\n",
        "  # Plotando\r\n",
        "  if plot == True:\r\n",
        "    ax = sns.barplot(data = tab_frequencia, x = \"percentual\", y = tab_frequencia.index)\r\n",
        "    plt.title(titulo_perg)\r\n",
        "    plt.grid(axis = \"x\")\r\n",
        "    plt.show()\r\n",
        "\r\n",
        "  return tab_frequencia"
      ],
      "execution_count": 25,
      "outputs": []
    },
    {
      "cell_type": "code",
      "metadata": {
        "colab": {
          "base_uri": "https://localhost:8080/",
          "height": 317
        },
        "id": "KG0Zhey6ijkw",
        "outputId": "9efeb86c-34d3-4eee-ca10-48789dee97fe"
      },
      "source": [
        "criar_tab_freq('VB02001')"
      ],
      "execution_count": 26,
      "outputs": [
        {
          "output_type": "execute_result",
          "data": {
            "text/html": [
              "<div>\n",
              "<style scoped>\n",
              "    .dataframe tbody tr th:only-of-type {\n",
              "        vertical-align: middle;\n",
              "    }\n",
              "\n",
              "    .dataframe tbody tr th {\n",
              "        vertical-align: top;\n",
              "    }\n",
              "\n",
              "    .dataframe thead th {\n",
              "        text-align: right;\n",
              "    }\n",
              "</style>\n",
              "<table border=\"1\" class=\"dataframe\">\n",
              "  <thead>\n",
              "    <tr style=\"text-align: right;\">\n",
              "      <th>NOS ÚLTIMOS 7 DIAS, em quantos dias você comeu feijão?</th>\n",
              "      <th>frequencia</th>\n",
              "      <th>percentual</th>\n",
              "    </tr>\n",
              "  </thead>\n",
              "  <tbody>\n",
              "    <tr>\n",
              "      <th>Todos os dias nos últimos 7 dias</th>\n",
              "      <td>6692</td>\n",
              "      <td>40.420391</td>\n",
              "    </tr>\n",
              "    <tr>\n",
              "      <th>Não comi feijão nos últimos 7 dias (0 dia)</th>\n",
              "      <td>1901</td>\n",
              "      <td>11.482242</td>\n",
              "    </tr>\n",
              "    <tr>\n",
              "      <th>3 dias nos últimos 7 dias</th>\n",
              "      <td>1453</td>\n",
              "      <td>8.776274</td>\n",
              "    </tr>\n",
              "    <tr>\n",
              "      <th>1 dia nos últimos 7 dias</th>\n",
              "      <td>1425</td>\n",
              "      <td>8.607151</td>\n",
              "    </tr>\n",
              "    <tr>\n",
              "      <th>2 dias nos últimos 7 dias</th>\n",
              "      <td>1297</td>\n",
              "      <td>7.834018</td>\n",
              "    </tr>\n",
              "    <tr>\n",
              "      <th>5 dias nos últimos 7 dias</th>\n",
              "      <td>1292</td>\n",
              "      <td>7.803817</td>\n",
              "    </tr>\n",
              "    <tr>\n",
              "      <th>4 dias nos últimos 7 dias</th>\n",
              "      <td>1263</td>\n",
              "      <td>7.628654</td>\n",
              "    </tr>\n",
              "    <tr>\n",
              "      <th>6 dias nos últimos 7 dias</th>\n",
              "      <td>1197</td>\n",
              "      <td>7.230007</td>\n",
              "    </tr>\n",
              "    <tr>\n",
              "      <th>Não informado</th>\n",
              "      <td>36</td>\n",
              "      <td>0.217444</td>\n",
              "    </tr>\n",
              "  </tbody>\n",
              "</table>\n",
              "</div>"
            ],
            "text/plain": [
              "NOS ÚLTIMOS 7 DIAS, em quantos dias você comeu feijão?  frequencia  percentual\n",
              "Todos os dias nos últimos 7 dias                              6692   40.420391\n",
              "Não comi feijão nos últimos 7 dias (0 dia)                    1901   11.482242\n",
              "3 dias nos últimos 7 dias                                     1453    8.776274\n",
              "1 dia nos últimos 7 dias                                      1425    8.607151\n",
              "2 dias nos últimos 7 dias                                     1297    7.834018\n",
              "5 dias nos últimos 7 dias                                     1292    7.803817\n",
              "4 dias nos últimos 7 dias                                     1263    7.628654\n",
              "6 dias nos últimos 7 dias                                     1197    7.230007\n",
              "Não informado                                                   36    0.217444"
            ]
          },
          "metadata": {
            "tags": []
          },
          "execution_count": 26
        }
      ]
    },
    {
      "cell_type": "code",
      "metadata": {
        "colab": {
          "base_uri": "https://localhost:8080/",
          "height": 334
        },
        "id": "5y1klQUgmsLQ",
        "outputId": "e73f2b3b-1a11-4b2a-efd9-32e0d1e8f238"
      },
      "source": [
        "criar_tab_freq(\"VB02013\")"
      ],
      "execution_count": 27,
      "outputs": [
        {
          "output_type": "execute_result",
          "data": {
            "text/html": [
              "<div>\n",
              "<style scoped>\n",
              "    .dataframe tbody tr th:only-of-type {\n",
              "        vertical-align: middle;\n",
              "    }\n",
              "\n",
              "    .dataframe tbody tr th {\n",
              "        vertical-align: top;\n",
              "    }\n",
              "\n",
              "    .dataframe thead th {\n",
              "        text-align: right;\n",
              "    }\n",
              "</style>\n",
              "<table border=\"1\" class=\"dataframe\">\n",
              "  <thead>\n",
              "    <tr style=\"text-align: right;\">\n",
              "      <th>NOS ÚLTIMOS 7 DIAS, em quantos dias você tomou refrigerante?</th>\n",
              "      <th>frequencia</th>\n",
              "      <th>percentual</th>\n",
              "    </tr>\n",
              "  </thead>\n",
              "  <tbody>\n",
              "    <tr>\n",
              "      <th>Não tomei refrigerante nos últimos 7 dias (0 dia)</th>\n",
              "      <td>3199</td>\n",
              "      <td>19.322300</td>\n",
              "    </tr>\n",
              "    <tr>\n",
              "      <th>1 dia nos últimos 7 dias</th>\n",
              "      <td>2853</td>\n",
              "      <td>17.232423</td>\n",
              "    </tr>\n",
              "    <tr>\n",
              "      <th>2 dias nos últimos 7 dias</th>\n",
              "      <td>2719</td>\n",
              "      <td>16.423049</td>\n",
              "    </tr>\n",
              "    <tr>\n",
              "      <th>Todos os dias nos últimos 7 dias</th>\n",
              "      <td>2325</td>\n",
              "      <td>14.043247</td>\n",
              "    </tr>\n",
              "    <tr>\n",
              "      <th>3 dias nos últimos 7 dias</th>\n",
              "      <td>2106</td>\n",
              "      <td>12.720464</td>\n",
              "    </tr>\n",
              "    <tr>\n",
              "      <th>4 dias nos últimos 7 dias</th>\n",
              "      <td>1428</td>\n",
              "      <td>8.625272</td>\n",
              "    </tr>\n",
              "    <tr>\n",
              "      <th>5 dias nos últimos 7 dias</th>\n",
              "      <td>1118</td>\n",
              "      <td>6.752839</td>\n",
              "    </tr>\n",
              "    <tr>\n",
              "      <th>6 dias nos últimos 7 dias</th>\n",
              "      <td>779</td>\n",
              "      <td>4.705243</td>\n",
              "    </tr>\n",
              "    <tr>\n",
              "      <th>Não informado</th>\n",
              "      <td>29</td>\n",
              "      <td>0.175163</td>\n",
              "    </tr>\n",
              "  </tbody>\n",
              "</table>\n",
              "</div>"
            ],
            "text/plain": [
              "NOS ÚLTIMOS 7 DIAS, em quantos dias você tomou refrigerante?  frequencia  percentual\n",
              "Não tomei refrigerante nos últimos 7 dias (0 dia)                   3199   19.322300\n",
              "1 dia nos últimos 7 dias                                            2853   17.232423\n",
              "2 dias nos últimos 7 dias                                           2719   16.423049\n",
              "Todos os dias nos últimos 7 dias                                    2325   14.043247\n",
              "3 dias nos últimos 7 dias                                           2106   12.720464\n",
              "4 dias nos últimos 7 dias                                           1428    8.625272\n",
              "5 dias nos últimos 7 dias                                           1118    6.752839\n",
              "6 dias nos últimos 7 dias                                            779    4.705243\n",
              "Não informado                                                         29    0.175163"
            ]
          },
          "metadata": {
            "tags": []
          },
          "execution_count": 27
        }
      ]
    },
    {
      "cell_type": "code",
      "metadata": {
        "colab": {
          "base_uri": "https://localhost:8080/",
          "height": 351
        },
        "id": "eMrcJFsrqRYE",
        "outputId": "e55f31e3-9430-41b4-bb32-0b078f5c9f71"
      },
      "source": [
        "criar_tab_freq('VB02022', titulo_perg= \"NOS ÚLTIMOS 7 DIAS, em quantos dias você comeu alimentos industrializados/ultraprocessados?\")"
      ],
      "execution_count": 28,
      "outputs": [
        {
          "output_type": "execute_result",
          "data": {
            "text/html": [
              "<div>\n",
              "<style scoped>\n",
              "    .dataframe tbody tr th:only-of-type {\n",
              "        vertical-align: middle;\n",
              "    }\n",
              "\n",
              "    .dataframe tbody tr th {\n",
              "        vertical-align: top;\n",
              "    }\n",
              "\n",
              "    .dataframe thead th {\n",
              "        text-align: right;\n",
              "    }\n",
              "</style>\n",
              "<table border=\"1\" class=\"dataframe\">\n",
              "  <thead>\n",
              "    <tr style=\"text-align: right;\">\n",
              "      <th>NOS ÚLTIMOS 7 DIAS, em quantos dias você comeu alimentos industrializados/ultraprocessados?</th>\n",
              "      <th>frequencia</th>\n",
              "      <th>percentual</th>\n",
              "    </tr>\n",
              "  </thead>\n",
              "  <tbody>\n",
              "    <tr>\n",
              "      <th>Não comi alimentos industrializados/ultraprocessados salgados nos últimos 7 dias (0 dia)</th>\n",
              "      <td>2715</td>\n",
              "      <td>16.398889</td>\n",
              "    </tr>\n",
              "    <tr>\n",
              "      <th>Todos os dias nos últimos 7 dias</th>\n",
              "      <td>2710</td>\n",
              "      <td>16.368688</td>\n",
              "    </tr>\n",
              "    <tr>\n",
              "      <th>1 dia nos últimos 7 dias</th>\n",
              "      <td>2538</td>\n",
              "      <td>15.329790</td>\n",
              "    </tr>\n",
              "    <tr>\n",
              "      <th>2 dias nos últimos 7 dias</th>\n",
              "      <td>2386</td>\n",
              "      <td>14.411694</td>\n",
              "    </tr>\n",
              "    <tr>\n",
              "      <th>3 dias nos últimos 7 dias</th>\n",
              "      <td>2225</td>\n",
              "      <td>13.439237</td>\n",
              "    </tr>\n",
              "    <tr>\n",
              "      <th>4 dias nos últimos 7 dias</th>\n",
              "      <td>1658</td>\n",
              "      <td>10.014496</td>\n",
              "    </tr>\n",
              "    <tr>\n",
              "      <th>5 dias nos últimos 7 dias</th>\n",
              "      <td>1343</td>\n",
              "      <td>8.111863</td>\n",
              "    </tr>\n",
              "    <tr>\n",
              "      <th>6 dias nos últimos 7 dias</th>\n",
              "      <td>931</td>\n",
              "      <td>5.623339</td>\n",
              "    </tr>\n",
              "    <tr>\n",
              "      <th>Não informado</th>\n",
              "      <td>50</td>\n",
              "      <td>0.302005</td>\n",
              "    </tr>\n",
              "  </tbody>\n",
              "</table>\n",
              "</div>"
            ],
            "text/plain": [
              "NOS ÚLTIMOS 7 DIAS, em quantos dias você comeu alimentos industrializados/ultraprocessados?  frequencia  percentual\n",
              "Não comi alimentos industrializados/ultraproces...                                                 2715   16.398889\n",
              "Todos os dias nos últimos 7 dias                                                                   2710   16.368688\n",
              "1 dia nos últimos 7 dias                                                                           2538   15.329790\n",
              "2 dias nos últimos 7 dias                                                                          2386   14.411694\n",
              "3 dias nos últimos 7 dias                                                                          2225   13.439237\n",
              "4 dias nos últimos 7 dias                                                                          1658   10.014496\n",
              "5 dias nos últimos 7 dias                                                                          1343    8.111863\n",
              "6 dias nos últimos 7 dias                                                                           931    5.623339\n",
              "Não informado                                                                                        50    0.302005"
            ]
          },
          "metadata": {
            "tags": []
          },
          "execution_count": 28
        }
      ]
    },
    {
      "cell_type": "code",
      "metadata": {
        "colab": {
          "base_uri": "https://localhost:8080/",
          "height": 351
        },
        "id": "tnhtV8LtsSYc",
        "outputId": "4d0b2166-1635-4de8-dcaf-abcfbf711b67"
      },
      "source": [
        "criar_tab_freq('VB02022', titulo_perg= \"NOS ÚLTIMOS 7 DIAS, em quantos dias você comeu alimentos industrializados/ultraprocessados?\", plot = \"s\")"
      ],
      "execution_count": 29,
      "outputs": [
        {
          "output_type": "execute_result",
          "data": {
            "text/html": [
              "<div>\n",
              "<style scoped>\n",
              "    .dataframe tbody tr th:only-of-type {\n",
              "        vertical-align: middle;\n",
              "    }\n",
              "\n",
              "    .dataframe tbody tr th {\n",
              "        vertical-align: top;\n",
              "    }\n",
              "\n",
              "    .dataframe thead th {\n",
              "        text-align: right;\n",
              "    }\n",
              "</style>\n",
              "<table border=\"1\" class=\"dataframe\">\n",
              "  <thead>\n",
              "    <tr style=\"text-align: right;\">\n",
              "      <th>NOS ÚLTIMOS 7 DIAS, em quantos dias você comeu alimentos industrializados/ultraprocessados?</th>\n",
              "      <th>frequencia</th>\n",
              "      <th>percentual</th>\n",
              "    </tr>\n",
              "  </thead>\n",
              "  <tbody>\n",
              "    <tr>\n",
              "      <th>Não comi alimentos industrializados/ultraprocessados salgados nos últimos 7 dias (0 dia)</th>\n",
              "      <td>2715</td>\n",
              "      <td>16.398889</td>\n",
              "    </tr>\n",
              "    <tr>\n",
              "      <th>Todos os dias nos últimos 7 dias</th>\n",
              "      <td>2710</td>\n",
              "      <td>16.368688</td>\n",
              "    </tr>\n",
              "    <tr>\n",
              "      <th>1 dia nos últimos 7 dias</th>\n",
              "      <td>2538</td>\n",
              "      <td>15.329790</td>\n",
              "    </tr>\n",
              "    <tr>\n",
              "      <th>2 dias nos últimos 7 dias</th>\n",
              "      <td>2386</td>\n",
              "      <td>14.411694</td>\n",
              "    </tr>\n",
              "    <tr>\n",
              "      <th>3 dias nos últimos 7 dias</th>\n",
              "      <td>2225</td>\n",
              "      <td>13.439237</td>\n",
              "    </tr>\n",
              "    <tr>\n",
              "      <th>4 dias nos últimos 7 dias</th>\n",
              "      <td>1658</td>\n",
              "      <td>10.014496</td>\n",
              "    </tr>\n",
              "    <tr>\n",
              "      <th>5 dias nos últimos 7 dias</th>\n",
              "      <td>1343</td>\n",
              "      <td>8.111863</td>\n",
              "    </tr>\n",
              "    <tr>\n",
              "      <th>6 dias nos últimos 7 dias</th>\n",
              "      <td>931</td>\n",
              "      <td>5.623339</td>\n",
              "    </tr>\n",
              "    <tr>\n",
              "      <th>Não informado</th>\n",
              "      <td>50</td>\n",
              "      <td>0.302005</td>\n",
              "    </tr>\n",
              "  </tbody>\n",
              "</table>\n",
              "</div>"
            ],
            "text/plain": [
              "NOS ÚLTIMOS 7 DIAS, em quantos dias você comeu alimentos industrializados/ultraprocessados?  frequencia  percentual\n",
              "Não comi alimentos industrializados/ultraproces...                                                 2715   16.398889\n",
              "Todos os dias nos últimos 7 dias                                                                   2710   16.368688\n",
              "1 dia nos últimos 7 dias                                                                           2538   15.329790\n",
              "2 dias nos últimos 7 dias                                                                          2386   14.411694\n",
              "3 dias nos últimos 7 dias                                                                          2225   13.439237\n",
              "4 dias nos últimos 7 dias                                                                          1658   10.014496\n",
              "5 dias nos últimos 7 dias                                                                          1343    8.111863\n",
              "6 dias nos últimos 7 dias                                                                           931    5.623339\n",
              "Não informado                                                                                        50    0.302005"
            ]
          },
          "metadata": {
            "tags": []
          },
          "execution_count": 29
        }
      ]
    },
    {
      "cell_type": "code",
      "metadata": {
        "colab": {
          "base_uri": "https://localhost:8080/",
          "height": 501
        },
        "id": "aSQ6rTbvsjOL",
        "outputId": "1382293f-f54a-4d47-d059-6befb757dd76"
      },
      "source": [
        "criar_tab_freq(\"VB06002\", plot = 's')"
      ],
      "execution_count": 30,
      "outputs": [
        {
          "output_type": "execute_result",
          "data": {
            "text/html": [
              "<div>\n",
              "<style scoped>\n",
              "    .dataframe tbody tr th:only-of-type {\n",
              "        vertical-align: middle;\n",
              "    }\n",
              "\n",
              "    .dataframe tbody tr th {\n",
              "        vertical-align: top;\n",
              "    }\n",
              "\n",
              "    .dataframe thead th {\n",
              "        text-align: right;\n",
              "    }\n",
              "</style>\n",
              "<table border=\"1\" class=\"dataframe\">\n",
              "  <thead>\n",
              "    <tr style=\"text-align: right;\">\n",
              "      <th>Que idade você tinha quando usou droga como maconha, cocaína, crack, cola, loló, lança-perfume, ecstasy, oxy ou outra, pela primeira vez?</th>\n",
              "      <th>frequencia</th>\n",
              "      <th>percentual</th>\n",
              "    </tr>\n",
              "  </thead>\n",
              "  <tbody>\n",
              "    <tr>\n",
              "      <th>Pulo no questionário</th>\n",
              "      <td>15117</td>\n",
              "      <td>91.308287</td>\n",
              "    </tr>\n",
              "    <tr>\n",
              "      <th>15 anos</th>\n",
              "      <td>322</td>\n",
              "      <td>1.944914</td>\n",
              "    </tr>\n",
              "    <tr>\n",
              "      <th>14 anos</th>\n",
              "      <td>296</td>\n",
              "      <td>1.787871</td>\n",
              "    </tr>\n",
              "    <tr>\n",
              "      <th>13 anos</th>\n",
              "      <td>241</td>\n",
              "      <td>1.455666</td>\n",
              "    </tr>\n",
              "    <tr>\n",
              "      <th>16 anos</th>\n",
              "      <td>201</td>\n",
              "      <td>1.214061</td>\n",
              "    </tr>\n",
              "    <tr>\n",
              "      <th>12 anos</th>\n",
              "      <td>116</td>\n",
              "      <td>0.700652</td>\n",
              "    </tr>\n",
              "    <tr>\n",
              "      <th>17 anos</th>\n",
              "      <td>97</td>\n",
              "      <td>0.585890</td>\n",
              "    </tr>\n",
              "    <tr>\n",
              "      <th>11 anos</th>\n",
              "      <td>44</td>\n",
              "      <td>0.265765</td>\n",
              "    </tr>\n",
              "    <tr>\n",
              "      <th>7 anos ou menos</th>\n",
              "      <td>36</td>\n",
              "      <td>0.217444</td>\n",
              "    </tr>\n",
              "    <tr>\n",
              "      <th>18 anos ou mais</th>\n",
              "      <td>34</td>\n",
              "      <td>0.205364</td>\n",
              "    </tr>\n",
              "    <tr>\n",
              "      <th>Não informado</th>\n",
              "      <td>20</td>\n",
              "      <td>0.120802</td>\n",
              "    </tr>\n",
              "    <tr>\n",
              "      <th>10 anos</th>\n",
              "      <td>19</td>\n",
              "      <td>0.114762</td>\n",
              "    </tr>\n",
              "    <tr>\n",
              "      <th>8 anos</th>\n",
              "      <td>7</td>\n",
              "      <td>0.042281</td>\n",
              "    </tr>\n",
              "    <tr>\n",
              "      <th>9 anos</th>\n",
              "      <td>6</td>\n",
              "      <td>0.036241</td>\n",
              "    </tr>\n",
              "  </tbody>\n",
              "</table>\n",
              "</div>"
            ],
            "text/plain": [
              "Que idade você tinha quando usou droga como maconha, cocaína, crack, cola, loló, lança-perfume, ecstasy, oxy ou outra, pela primeira vez?  frequencia  percentual\n",
              "Pulo no questionário                                                                                                                            15117   91.308287\n",
              "15 anos                                                                                                                                           322    1.944914\n",
              "14 anos                                                                                                                                           296    1.787871\n",
              "13 anos                                                                                                                                           241    1.455666\n",
              "16 anos                                                                                                                                           201    1.214061\n",
              "12 anos                                                                                                                                           116    0.700652\n",
              "17 anos                                                                                                                                            97    0.585890\n",
              "11 anos                                                                                                                                            44    0.265765\n",
              "7 anos ou menos                                                                                                                                    36    0.217444\n",
              "18 anos ou mais                                                                                                                                    34    0.205364\n",
              "Não informado                                                                                                                                      20    0.120802\n",
              "10 anos                                                                                                                                            19    0.114762\n",
              "8 anos                                                                                                                                              7    0.042281\n",
              "9 anos                                                                                                                                              6    0.036241"
            ]
          },
          "metadata": {
            "tags": []
          },
          "execution_count": 30
        }
      ]
    },
    {
      "cell_type": "code",
      "metadata": {
        "colab": {
          "base_uri": "https://localhost:8080/",
          "height": 367
        },
        "id": "M6bOzbHmtnsT",
        "outputId": "973bc604-0eb4-4027-895b-388ad75a6516"
      },
      "source": [
        "criar_tab_freq('VB05004', plot = 's')"
      ],
      "execution_count": 31,
      "outputs": [
        {
          "output_type": "execute_result",
          "data": {
            "text/html": [
              "<div>\n",
              "<style scoped>\n",
              "    .dataframe tbody tr th:only-of-type {\n",
              "        vertical-align: middle;\n",
              "    }\n",
              "\n",
              "    .dataframe tbody tr th {\n",
              "        vertical-align: top;\n",
              "    }\n",
              "\n",
              "    .dataframe thead th {\n",
              "        text-align: right;\n",
              "    }\n",
              "</style>\n",
              "<table border=\"1\" class=\"dataframe\">\n",
              "  <thead>\n",
              "    <tr style=\"text-align: right;\">\n",
              "      <th>NOS ÚLTIMOS 30 DIAS, em quantos dias você tomou pelo menos um copo ou uma dose de bebida alcoólica? (Uma dose equivale a uma lata de cerveja ou uma taça de vinho ou uma dose de cachaça ou uísque etc)</th>\n",
              "      <th>frequencia</th>\n",
              "      <th>percentual</th>\n",
              "    </tr>\n",
              "  </thead>\n",
              "  <tbody>\n",
              "    <tr>\n",
              "      <th>Pulo no questionário</th>\n",
              "      <td>9209</td>\n",
              "      <td>55.623339</td>\n",
              "    </tr>\n",
              "    <tr>\n",
              "      <th>Nenhum dia nos últimos 30 dias (0 dia)</th>\n",
              "      <td>3818</td>\n",
              "      <td>23.061126</td>\n",
              "    </tr>\n",
              "    <tr>\n",
              "      <th>1 ou 2 dias nos últimos 30 dias</th>\n",
              "      <td>1960</td>\n",
              "      <td>11.838608</td>\n",
              "    </tr>\n",
              "    <tr>\n",
              "      <th>3 a 5 dias nos últimos 30 dias</th>\n",
              "      <td>714</td>\n",
              "      <td>4.312636</td>\n",
              "    </tr>\n",
              "    <tr>\n",
              "      <th>6 a 9 dias nos últimos 30 dias</th>\n",
              "      <td>389</td>\n",
              "      <td>2.349601</td>\n",
              "    </tr>\n",
              "    <tr>\n",
              "      <th>10 a 19 dias nos últimos 30 dias</th>\n",
              "      <td>273</td>\n",
              "      <td>1.648949</td>\n",
              "    </tr>\n",
              "    <tr>\n",
              "      <th>20 a 29 dias nos últimos 30 dias</th>\n",
              "      <td>93</td>\n",
              "      <td>0.561730</td>\n",
              "    </tr>\n",
              "    <tr>\n",
              "      <th>Todos os dias nos últimos 30 dias</th>\n",
              "      <td>86</td>\n",
              "      <td>0.519449</td>\n",
              "    </tr>\n",
              "    <tr>\n",
              "      <th>Não informado</th>\n",
              "      <td>14</td>\n",
              "      <td>0.084561</td>\n",
              "    </tr>\n",
              "  </tbody>\n",
              "</table>\n",
              "</div>"
            ],
            "text/plain": [
              "NOS ÚLTIMOS 30 DIAS, em quantos dias você tomou pelo menos um copo ou uma dose de bebida alcoólica? (Uma dose equivale a uma lata de cerveja ou uma taça de vinho ou uma dose de cachaça ou uísque etc)  frequencia  percentual\n",
              "Pulo no questionário                                                                                                                                                                                           9209   55.623339\n",
              "Nenhum dia nos últimos 30 dias (0 dia)                                                                                                                                                                         3818   23.061126\n",
              "1 ou 2 dias nos últimos 30 dias                                                                                                                                                                                1960   11.838608\n",
              "3 a 5 dias nos últimos 30 dias                                                                                                                                                                                  714    4.312636\n",
              "6 a 9 dias nos últimos 30 dias                                                                                                                                                                                  389    2.349601\n",
              "10 a 19 dias nos últimos 30 dias                                                                                                                                                                                273    1.648949\n",
              "20 a 29 dias nos últimos 30 dias                                                                                                                                                                                 93    0.561730\n",
              "Todos os dias nos últimos 30 dias                                                                                                                                                                                86    0.519449\n",
              "Não informado                                                                                                                                                                                                    14    0.084561"
            ]
          },
          "metadata": {
            "tags": []
          },
          "execution_count": 31
        }
      ]
    },
    {
      "cell_type": "markdown",
      "metadata": {
        "id": "Qut6YEAYNc6Q"
      },
      "source": [
        "## AULA 3 - FREQUENCIA EM DADOS CONTÍNUOS E PANDAS CROSSTAB"
      ]
    },
    {
      "cell_type": "markdown",
      "metadata": {
        "id": "719S03BeEnk1"
      },
      "source": [
        "### VIDEO 1 - Dados quantitativos e tabelas de frequência"
      ]
    },
    {
      "cell_type": "markdown",
      "metadata": {
        "id": "vxyHn0YBcKKE"
      },
      "source": [
        "Nosso desafio agora é fazer tabelas de frequência com os itens da pesquisa que geram dados quantitativos contínuos, como a altura e o peso."
      ]
    },
    {
      "cell_type": "code",
      "metadata": {
        "id": "CU63yxcNNnY_",
        "colab": {
          "base_uri": "https://localhost:8080/"
        },
        "outputId": "ac3e8ff4-3f2c-4d1e-9cad-ba89768cd18e"
      },
      "source": [
        "# Altura do estudante, incluindo os imputados, com uma casa decimal\r\n",
        "\r\n",
        "df[\"VB17004\"]"
      ],
      "execution_count": 32,
      "outputs": [
        {
          "output_type": "execute_result",
          "data": {
            "text/plain": [
              "0        157.0\n",
              "1        152.0\n",
              "2        161.4\n",
              "3        172.5\n",
              "4        167.5\n",
              "         ...  \n",
              "16551    167.9\n",
              "16552    185.8\n",
              "16553    159.4\n",
              "16554    157.8\n",
              "16555    163.9\n",
              "Name: VB17004, Length: 16556, dtype: float64"
            ]
          },
          "metadata": {
            "tags": []
          },
          "execution_count": 32
        }
      ]
    },
    {
      "cell_type": "code",
      "metadata": {
        "colab": {
          "base_uri": "https://localhost:8080/"
        },
        "id": "SLsPGAy_Eyr9",
        "outputId": "7e59a588-9d34-4b6d-f4c1-beabc93851f2"
      },
      "source": [
        "# Utilizando a altura e o peso dos alunos, podemos criar uma coluna com o IMC:\r\n",
        "\r\n",
        "df['imc'] = df[\"VB17003\"] / ((df[\"VB17004\"]/100) ** 2)\r\n",
        "df['imc']"
      ],
      "execution_count": 33,
      "outputs": [
        {
          "output_type": "execute_result",
          "data": {
            "text/plain": [
              "0        15.051321\n",
              "1        21.727839\n",
              "2        18.502907\n",
              "3        23.322831\n",
              "4        28.122076\n",
              "           ...    \n",
              "16551    20.113223\n",
              "16552    17.930782\n",
              "16553    23.968489\n",
              "16554    18.995343\n",
              "16555    23.303246\n",
              "Name: imc, Length: 16556, dtype: float64"
            ]
          },
          "metadata": {
            "tags": []
          },
          "execution_count": 33
        }
      ]
    },
    {
      "cell_type": "markdown",
      "metadata": {
        "id": "CitawJ_BG3qI"
      },
      "source": [
        "Podemos então utilizar as classifições do IMC para criar classes para faixas de IMC e, dessa forma, poder criar uma tabela de frequência."
      ]
    },
    {
      "cell_type": "code",
      "metadata": {
        "colab": {
          "base_uri": "https://localhost:8080/",
          "height": 406
        },
        "id": "Vpu5h3nWHHYE",
        "outputId": "1057b50b-72aa-4513-8cab-4ee75807af36"
      },
      "source": [
        "labels = [\"abaixo do peso\", \"ideal\", \"sobrepeso\", \"obesidade\"]\r\n",
        "classes_imc = [0, 18.5, 25, 30, 60]\r\n",
        "\r\n",
        "# Vamos utilizar a função do pandas pd.cut(), que segmenta valores de acordo \r\n",
        "# com o argumento \"bins=\"\r\n",
        "\r\n",
        "df['classe_imc'] = pd.cut(x = df[\"imc\"],\r\n",
        "                          bins = classes_imc,\r\n",
        "                          labels = labels,\r\n",
        "                          include_lowest = True)\r\n",
        "\r\n",
        "df[['imc', 'classe_imc']]"
      ],
      "execution_count": 34,
      "outputs": [
        {
          "output_type": "execute_result",
          "data": {
            "text/html": [
              "<div>\n",
              "<style scoped>\n",
              "    .dataframe tbody tr th:only-of-type {\n",
              "        vertical-align: middle;\n",
              "    }\n",
              "\n",
              "    .dataframe tbody tr th {\n",
              "        vertical-align: top;\n",
              "    }\n",
              "\n",
              "    .dataframe thead th {\n",
              "        text-align: right;\n",
              "    }\n",
              "</style>\n",
              "<table border=\"1\" class=\"dataframe\">\n",
              "  <thead>\n",
              "    <tr style=\"text-align: right;\">\n",
              "      <th></th>\n",
              "      <th>imc</th>\n",
              "      <th>classe_imc</th>\n",
              "    </tr>\n",
              "  </thead>\n",
              "  <tbody>\n",
              "    <tr>\n",
              "      <th>0</th>\n",
              "      <td>15.051321</td>\n",
              "      <td>abaixo do peso</td>\n",
              "    </tr>\n",
              "    <tr>\n",
              "      <th>1</th>\n",
              "      <td>21.727839</td>\n",
              "      <td>ideal</td>\n",
              "    </tr>\n",
              "    <tr>\n",
              "      <th>2</th>\n",
              "      <td>18.502907</td>\n",
              "      <td>ideal</td>\n",
              "    </tr>\n",
              "    <tr>\n",
              "      <th>3</th>\n",
              "      <td>23.322831</td>\n",
              "      <td>ideal</td>\n",
              "    </tr>\n",
              "    <tr>\n",
              "      <th>4</th>\n",
              "      <td>28.122076</td>\n",
              "      <td>sobrepeso</td>\n",
              "    </tr>\n",
              "    <tr>\n",
              "      <th>...</th>\n",
              "      <td>...</td>\n",
              "      <td>...</td>\n",
              "    </tr>\n",
              "    <tr>\n",
              "      <th>16551</th>\n",
              "      <td>20.113223</td>\n",
              "      <td>ideal</td>\n",
              "    </tr>\n",
              "    <tr>\n",
              "      <th>16552</th>\n",
              "      <td>17.930782</td>\n",
              "      <td>abaixo do peso</td>\n",
              "    </tr>\n",
              "    <tr>\n",
              "      <th>16553</th>\n",
              "      <td>23.968489</td>\n",
              "      <td>ideal</td>\n",
              "    </tr>\n",
              "    <tr>\n",
              "      <th>16554</th>\n",
              "      <td>18.995343</td>\n",
              "      <td>ideal</td>\n",
              "    </tr>\n",
              "    <tr>\n",
              "      <th>16555</th>\n",
              "      <td>23.303246</td>\n",
              "      <td>ideal</td>\n",
              "    </tr>\n",
              "  </tbody>\n",
              "</table>\n",
              "<p>16556 rows × 2 columns</p>\n",
              "</div>"
            ],
            "text/plain": [
              "             imc      classe_imc\n",
              "0      15.051321  abaixo do peso\n",
              "1      21.727839           ideal\n",
              "2      18.502907           ideal\n",
              "3      23.322831           ideal\n",
              "4      28.122076       sobrepeso\n",
              "...          ...             ...\n",
              "16551  20.113223           ideal\n",
              "16552  17.930782  abaixo do peso\n",
              "16553  23.968489           ideal\n",
              "16554  18.995343           ideal\n",
              "16555  23.303246           ideal\n",
              "\n",
              "[16556 rows x 2 columns]"
            ]
          },
          "metadata": {
            "tags": []
          },
          "execution_count": 34
        }
      ]
    },
    {
      "cell_type": "markdown",
      "metadata": {
        "id": "2ZqZMSh9NeHu"
      },
      "source": [
        "Como a função que eu havia criado para o desafio 4 era mais complexa e utilizava o dicionário do dataset para dar nome às variáveis numéricas de cada pergunta, irei criar uma função exclusiva para colunas criadas por mim que já estão categorizadas, como a \"classe_imc\", por exemplo. "
      ]
    },
    {
      "cell_type": "code",
      "metadata": {
        "id": "bWUfc3j6JDn8"
      },
      "source": [
        "def tab_freq_coluna_criada(column: str):\r\n",
        "  '''\r\n",
        "  Essa função toma o nome de uma coluna, preferencialmente criada pelo próprio \r\n",
        "  usuário (caso contrário, recomenda-se utilizar criar_tab_freq()) e gera uma \r\n",
        "  tabela de frequencia utilizando os dados do dataframe PeNSE 2015.\r\n",
        "  '''\r\n",
        "  \r\n",
        "  frequencia = df[column].value_counts()\r\n",
        "  percentual =  df[column].value_counts(normalize = True) * 100\r\n",
        "\r\n",
        "  tab_frequencia = pd.DataFrame({\"frequencia\": frequencia, \"percentual\":percentual})\r\n",
        "  tab_frequencia.rename_axis(column, axis = 1, inplace = True)\r\n",
        "  \r\n",
        "  return tab_frequencia"
      ],
      "execution_count": 35,
      "outputs": []
    },
    {
      "cell_type": "code",
      "metadata": {
        "colab": {
          "base_uri": "https://localhost:8080/",
          "height": 167
        },
        "id": "KUe2g8djLCo7",
        "outputId": "6cb43586-f4a4-4a5d-9c7f-e44047885034"
      },
      "source": [
        "tab_freq_coluna_criada('classe_imc')"
      ],
      "execution_count": 36,
      "outputs": [
        {
          "output_type": "execute_result",
          "data": {
            "text/html": [
              "<div>\n",
              "<style scoped>\n",
              "    .dataframe tbody tr th:only-of-type {\n",
              "        vertical-align: middle;\n",
              "    }\n",
              "\n",
              "    .dataframe tbody tr th {\n",
              "        vertical-align: top;\n",
              "    }\n",
              "\n",
              "    .dataframe thead th {\n",
              "        text-align: right;\n",
              "    }\n",
              "</style>\n",
              "<table border=\"1\" class=\"dataframe\">\n",
              "  <thead>\n",
              "    <tr style=\"text-align: right;\">\n",
              "      <th>classe_imc</th>\n",
              "      <th>frequencia</th>\n",
              "      <th>percentual</th>\n",
              "    </tr>\n",
              "  </thead>\n",
              "  <tbody>\n",
              "    <tr>\n",
              "      <th>ideal</th>\n",
              "      <td>9188</td>\n",
              "      <td>55.496497</td>\n",
              "    </tr>\n",
              "    <tr>\n",
              "      <th>abaixo do peso</th>\n",
              "      <td>4975</td>\n",
              "      <td>30.049529</td>\n",
              "    </tr>\n",
              "    <tr>\n",
              "      <th>sobrepeso</th>\n",
              "      <td>1760</td>\n",
              "      <td>10.630587</td>\n",
              "    </tr>\n",
              "    <tr>\n",
              "      <th>obesidade</th>\n",
              "      <td>633</td>\n",
              "      <td>3.823387</td>\n",
              "    </tr>\n",
              "  </tbody>\n",
              "</table>\n",
              "</div>"
            ],
            "text/plain": [
              "classe_imc      frequencia  percentual\n",
              "ideal                 9188   55.496497\n",
              "abaixo do peso        4975   30.049529\n",
              "sobrepeso             1760   10.630587\n",
              "obesidade              633    3.823387"
            ]
          },
          "metadata": {
            "tags": []
          },
          "execution_count": 36
        }
      ]
    },
    {
      "cell_type": "markdown",
      "metadata": {
        "id": "gVZuZqQQNTfk"
      },
      "source": [
        "### VIDEO 2 - Regra de Sturges e CrossTabs"
      ]
    },
    {
      "cell_type": "markdown",
      "metadata": {
        "id": "QUafatq8OFXs"
      },
      "source": [
        "No caso do IMC, existem classificações pré-definidas na literatura de acordo com os valores obtidos no índice. Mas e no caso de não existir?\r\n",
        "\r\n",
        "Definimos o número de classes utilizando a Regra de Sturges:\r\n",
        "\r\n",
        "- O número de classes depende do tamanho da amostra;\r\n",
        "- k = 1 + (10/3)*log10(m)\r\n",
        "\r\n",
        "Com 'k' definindo o número de classes e 'm' o tamanho da amostra."
      ]
    },
    {
      "cell_type": "code",
      "metadata": {
        "id": "ujBj9DRBPOG8"
      },
      "source": [
        "m = len(df)"
      ],
      "execution_count": 37,
      "outputs": []
    },
    {
      "cell_type": "code",
      "metadata": {
        "id": "BW1pKiONPS0u"
      },
      "source": [
        "import numpy as np\r\n",
        "\r\n",
        "k = int(1 + (10/3)*np.log10(m))"
      ],
      "execution_count": 38,
      "outputs": []
    },
    {
      "cell_type": "code",
      "metadata": {
        "colab": {
          "base_uri": "https://localhost:8080/"
        },
        "id": "2JMHty82Pd9o",
        "outputId": "54f922c4-0097-48cc-a013-953c5244fabf"
      },
      "source": [
        "k"
      ],
      "execution_count": 39,
      "outputs": [
        {
          "output_type": "execute_result",
          "data": {
            "text/plain": [
              "15"
            ]
          },
          "metadata": {
            "tags": []
          },
          "execution_count": 39
        }
      ]
    },
    {
      "cell_type": "markdown",
      "metadata": {
        "id": "FopIvNPUQBQv"
      },
      "source": [
        "Calculado o valor de k, podemos utilizar como argumento para a função pd.cut()"
      ]
    },
    {
      "cell_type": "code",
      "metadata": {
        "colab": {
          "base_uri": "https://localhost:8080/",
          "height": 497
        },
        "id": "L_oZLMHXP_qx",
        "outputId": "8c2d6eac-2453-4e66-d5c2-aa0cce0e05ee"
      },
      "source": [
        "df['classe_altura'] = pd.cut(df[\"VB17004\"],\r\n",
        "                             bins = k,\r\n",
        "                             include_lowest = True)\r\n",
        "\r\n",
        "tab_freq_coluna_criada('classe_altura')"
      ],
      "execution_count": 40,
      "outputs": [
        {
          "output_type": "execute_result",
          "data": {
            "text/html": [
              "<div>\n",
              "<style scoped>\n",
              "    .dataframe tbody tr th:only-of-type {\n",
              "        vertical-align: middle;\n",
              "    }\n",
              "\n",
              "    .dataframe tbody tr th {\n",
              "        vertical-align: top;\n",
              "    }\n",
              "\n",
              "    .dataframe thead th {\n",
              "        text-align: right;\n",
              "    }\n",
              "</style>\n",
              "<table border=\"1\" class=\"dataframe\">\n",
              "  <thead>\n",
              "    <tr style=\"text-align: right;\">\n",
              "      <th>classe_altura</th>\n",
              "      <th>frequencia</th>\n",
              "      <th>percentual</th>\n",
              "    </tr>\n",
              "  </thead>\n",
              "  <tbody>\n",
              "    <tr>\n",
              "      <th>(157.327, 162.073]</th>\n",
              "      <td>3110</td>\n",
              "      <td>18.784731</td>\n",
              "    </tr>\n",
              "    <tr>\n",
              "      <th>(152.58, 157.327]</th>\n",
              "      <td>2734</td>\n",
              "      <td>16.513651</td>\n",
              "    </tr>\n",
              "    <tr>\n",
              "      <th>(162.073, 166.82]</th>\n",
              "      <td>2550</td>\n",
              "      <td>15.402271</td>\n",
              "    </tr>\n",
              "    <tr>\n",
              "      <th>(166.82, 171.567]</th>\n",
              "      <td>2063</td>\n",
              "      <td>12.460739</td>\n",
              "    </tr>\n",
              "    <tr>\n",
              "      <th>(147.833, 152.58]</th>\n",
              "      <td>1782</td>\n",
              "      <td>10.763469</td>\n",
              "    </tr>\n",
              "    <tr>\n",
              "      <th>(171.567, 176.313]</th>\n",
              "      <td>1416</td>\n",
              "      <td>8.552791</td>\n",
              "    </tr>\n",
              "    <tr>\n",
              "      <th>(143.087, 147.833]</th>\n",
              "      <td>1012</td>\n",
              "      <td>6.112588</td>\n",
              "    </tr>\n",
              "    <tr>\n",
              "      <th>(176.313, 181.06]</th>\n",
              "      <td>749</td>\n",
              "      <td>4.524040</td>\n",
              "    </tr>\n",
              "    <tr>\n",
              "      <th>(138.34, 143.087]</th>\n",
              "      <td>484</td>\n",
              "      <td>2.923411</td>\n",
              "    </tr>\n",
              "    <tr>\n",
              "      <th>(181.06, 185.807]</th>\n",
              "      <td>300</td>\n",
              "      <td>1.812032</td>\n",
              "    </tr>\n",
              "    <tr>\n",
              "      <th>(133.593, 138.34]</th>\n",
              "      <td>199</td>\n",
              "      <td>1.201981</td>\n",
              "    </tr>\n",
              "    <tr>\n",
              "      <th>(185.807, 190.553]</th>\n",
              "      <td>94</td>\n",
              "      <td>0.567770</td>\n",
              "    </tr>\n",
              "    <tr>\n",
              "      <th>(128.847, 133.593]</th>\n",
              "      <td>47</td>\n",
              "      <td>0.283885</td>\n",
              "    </tr>\n",
              "    <tr>\n",
              "      <th>(190.553, 195.3]</th>\n",
              "      <td>13</td>\n",
              "      <td>0.078521</td>\n",
              "    </tr>\n",
              "    <tr>\n",
              "      <th>(124.02799999999999, 128.847]</th>\n",
              "      <td>3</td>\n",
              "      <td>0.018120</td>\n",
              "    </tr>\n",
              "  </tbody>\n",
              "</table>\n",
              "</div>"
            ],
            "text/plain": [
              "classe_altura                  frequencia  percentual\n",
              "(157.327, 162.073]                   3110   18.784731\n",
              "(152.58, 157.327]                    2734   16.513651\n",
              "(162.073, 166.82]                    2550   15.402271\n",
              "(166.82, 171.567]                    2063   12.460739\n",
              "(147.833, 152.58]                    1782   10.763469\n",
              "(171.567, 176.313]                   1416    8.552791\n",
              "(143.087, 147.833]                   1012    6.112588\n",
              "(176.313, 181.06]                     749    4.524040\n",
              "(138.34, 143.087]                     484    2.923411\n",
              "(181.06, 185.807]                     300    1.812032\n",
              "(133.593, 138.34]                     199    1.201981\n",
              "(185.807, 190.553]                     94    0.567770\n",
              "(128.847, 133.593]                     47    0.283885\n",
              "(190.553, 195.3]                       13    0.078521\n",
              "(124.02799999999999, 128.847]           3    0.018120"
            ]
          },
          "metadata": {
            "tags": []
          },
          "execution_count": 40
        }
      ]
    },
    {
      "cell_type": "markdown",
      "metadata": {
        "id": "jJTvMkmSZyVy"
      },
      "source": [
        "Podemos utilizar o pd.crosstab() para criar uma tabela que separa dados em mais de um fator. No exemplo abaixo, utilizaremos \"VB11007\", que condiz com o nível de satisfação com a própria imagem corporal e \"VB01001\", pergunta que separa os alunos pelo sexo."
      ]
    },
    {
      "cell_type": "code",
      "metadata": {
        "colab": {
          "base_uri": "https://localhost:8080/",
          "height": 257
        },
        "id": "TvD-W0vLXHFV",
        "outputId": "b9ac3ae2-90e7-41f9-c1bb-b288b5d39a22"
      },
      "source": [
        "frequencia_cruzada = pd.crosstab(df['VB11007'], df['VB01001'], normalize = \"columns\") * 100\r\n",
        "frequencia_cruzada.rename(index = respostas, columns={1:\"Masculino\", 2:\"Feminino\"}, inplace=True)\r\n",
        "frequencia_cruzada"
      ],
      "execution_count": 41,
      "outputs": [
        {
          "output_type": "execute_result",
          "data": {
            "text/html": [
              "<div>\n",
              "<style scoped>\n",
              "    .dataframe tbody tr th:only-of-type {\n",
              "        vertical-align: middle;\n",
              "    }\n",
              "\n",
              "    .dataframe tbody tr th {\n",
              "        vertical-align: top;\n",
              "    }\n",
              "\n",
              "    .dataframe thead th {\n",
              "        text-align: right;\n",
              "    }\n",
              "</style>\n",
              "<table border=\"1\" class=\"dataframe\">\n",
              "  <thead>\n",
              "    <tr style=\"text-align: right;\">\n",
              "      <th>VB01001</th>\n",
              "      <th>Masculino</th>\n",
              "      <th>Feminino</th>\n",
              "    </tr>\n",
              "    <tr>\n",
              "      <th>VB11007</th>\n",
              "      <th></th>\n",
              "      <th></th>\n",
              "    </tr>\n",
              "  </thead>\n",
              "  <tbody>\n",
              "    <tr>\n",
              "      <th>Muito Satisfeito</th>\n",
              "      <td>32.363944</td>\n",
              "      <td>23.291813</td>\n",
              "    </tr>\n",
              "    <tr>\n",
              "      <th>Satisfeito</th>\n",
              "      <td>42.114155</td>\n",
              "      <td>41.480227</td>\n",
              "    </tr>\n",
              "    <tr>\n",
              "      <th>Indiferente</th>\n",
              "      <td>11.463738</td>\n",
              "      <td>10.364010</td>\n",
              "    </tr>\n",
              "    <tr>\n",
              "      <th>Insatisfeito</th>\n",
              "      <td>9.484735</td>\n",
              "      <td>18.623776</td>\n",
              "    </tr>\n",
              "    <tr>\n",
              "      <th>Muito Insatisfeito</th>\n",
              "      <td>3.137444</td>\n",
              "      <td>5.490386</td>\n",
              "    </tr>\n",
              "    <tr>\n",
              "      <th>Não Informado</th>\n",
              "      <td>1.435984</td>\n",
              "      <td>0.749788</td>\n",
              "    </tr>\n",
              "  </tbody>\n",
              "</table>\n",
              "</div>"
            ],
            "text/plain": [
              "VB01001             Masculino   Feminino\n",
              "VB11007                                 \n",
              "Muito Satisfeito    32.363944  23.291813\n",
              "Satisfeito          42.114155  41.480227\n",
              "Indiferente         11.463738  10.364010\n",
              "Insatisfeito         9.484735  18.623776\n",
              "Muito Insatisfeito   3.137444   5.490386\n",
              "Não Informado        1.435984   0.749788"
            ]
          },
          "metadata": {
            "tags": []
          },
          "execution_count": 41
        }
      ]
    },
    {
      "cell_type": "markdown",
      "metadata": {
        "id": "msOZCwaHdIls"
      },
      "source": [
        "Podemos observar que, na amostra pesquisada, as alunas se mostraram mais insatisfeitas com o seu próprio corpo que os alunos. Isso fica ainda mais claro quando normalizamos o crosstab utilizando o index:"
      ]
    },
    {
      "cell_type": "code",
      "metadata": {
        "colab": {
          "base_uri": "https://localhost:8080/",
          "height": 313
        },
        "id": "Jc6iTh5DdZQW",
        "outputId": "869d78f3-f132-4641-e685-eac00e53ce65"
      },
      "source": [
        "frequencia_cruzada = pd.crosstab(df['VB11007'], df['VB01001'], normalize = \"index\") * 100\r\n",
        "frequencia_cruzada.rename(index = respostas, columns={1:\"Masculino\", 2:\"Feminino\"}, inplace=True)\r\n",
        "print(\"Alunos meninos são maioria em respostas corpo-positivistas.\\nQuando chegamos em repostas abaixo do nível de indiferença, as alunas se tornam maioria:\")\r\n",
        "frequencia_cruzada"
      ],
      "execution_count": 42,
      "outputs": [
        {
          "output_type": "stream",
          "text": [
            "Alunos meninos são maioria em respostas corpo-positivistas.\n",
            "Quando chegamos em repostas abaixo do nível de indiferença, as alunas se tornam maioria:\n"
          ],
          "name": "stdout"
        },
        {
          "output_type": "execute_result",
          "data": {
            "text/html": [
              "<div>\n",
              "<style scoped>\n",
              "    .dataframe tbody tr th:only-of-type {\n",
              "        vertical-align: middle;\n",
              "    }\n",
              "\n",
              "    .dataframe tbody tr th {\n",
              "        vertical-align: top;\n",
              "    }\n",
              "\n",
              "    .dataframe thead th {\n",
              "        text-align: right;\n",
              "    }\n",
              "</style>\n",
              "<table border=\"1\" class=\"dataframe\">\n",
              "  <thead>\n",
              "    <tr style=\"text-align: right;\">\n",
              "      <th>VB01001</th>\n",
              "      <th>Masculino</th>\n",
              "      <th>Feminino</th>\n",
              "    </tr>\n",
              "    <tr>\n",
              "      <th>VB11007</th>\n",
              "      <th></th>\n",
              "      <th></th>\n",
              "    </tr>\n",
              "  </thead>\n",
              "  <tbody>\n",
              "    <tr>\n",
              "      <th>Muito Satisfeito</th>\n",
              "      <td>58.203125</td>\n",
              "      <td>41.796875</td>\n",
              "    </tr>\n",
              "    <tr>\n",
              "      <th>Satisfeito</th>\n",
              "      <td>50.433526</td>\n",
              "      <td>49.566474</td>\n",
              "    </tr>\n",
              "    <tr>\n",
              "      <th>Indiferente</th>\n",
              "      <td>52.573326</td>\n",
              "      <td>47.426674</td>\n",
              "    </tr>\n",
              "    <tr>\n",
              "      <th>Insatisfeito</th>\n",
              "      <td>33.791917</td>\n",
              "      <td>66.208083</td>\n",
              "    </tr>\n",
              "    <tr>\n",
              "      <th>Muito Insatisfeito</th>\n",
              "      <td>36.414566</td>\n",
              "      <td>63.585434</td>\n",
              "    </tr>\n",
              "    <tr>\n",
              "      <th>Não Informado</th>\n",
              "      <td>65.745856</td>\n",
              "      <td>34.254144</td>\n",
              "    </tr>\n",
              "  </tbody>\n",
              "</table>\n",
              "</div>"
            ],
            "text/plain": [
              "VB01001             Masculino   Feminino\n",
              "VB11007                                 \n",
              "Muito Satisfeito    58.203125  41.796875\n",
              "Satisfeito          50.433526  49.566474\n",
              "Indiferente         52.573326  47.426674\n",
              "Insatisfeito        33.791917  66.208083\n",
              "Muito Insatisfeito  36.414566  63.585434\n",
              "Não Informado       65.745856  34.254144"
            ]
          },
          "metadata": {
            "tags": []
          },
          "execution_count": 42
        }
      ]
    },
    {
      "cell_type": "code",
      "metadata": {
        "id": "U8ihGHJvdIG8"
      },
      "source": [
        ""
      ],
      "execution_count": 42,
      "outputs": []
    },
    {
      "cell_type": "markdown",
      "metadata": {
        "id": "xe3iAxQKQ_Je"
      },
      "source": [
        "#### Desafio 05: Criar uma tabela de frequência para o peso seguindo a regra de Sturges."
      ]
    },
    {
      "cell_type": "code",
      "metadata": {
        "colab": {
          "base_uri": "https://localhost:8080/",
          "height": 497
        },
        "id": "Yr1j4fDZW1x3",
        "outputId": "8e78edd1-2875-4803-cdfe-ccb9c7e251ba"
      },
      "source": [
        "df['classe_peso'] = pd.cut(df[\"VB17003\"],\r\n",
        "                             bins = k,\r\n",
        "                             include_lowest = True)\r\n",
        "\r\n",
        "tab_freq_coluna_criada('classe_peso')"
      ],
      "execution_count": 43,
      "outputs": [
        {
          "output_type": "execute_result",
          "data": {
            "text/html": [
              "<div>\n",
              "<style scoped>\n",
              "    .dataframe tbody tr th:only-of-type {\n",
              "        vertical-align: middle;\n",
              "    }\n",
              "\n",
              "    .dataframe tbody tr th {\n",
              "        vertical-align: top;\n",
              "    }\n",
              "\n",
              "    .dataframe thead th {\n",
              "        text-align: right;\n",
              "    }\n",
              "</style>\n",
              "<table border=\"1\" class=\"dataframe\">\n",
              "  <thead>\n",
              "    <tr style=\"text-align: right;\">\n",
              "      <th>classe_peso</th>\n",
              "      <th>frequencia</th>\n",
              "      <th>percentual</th>\n",
              "    </tr>\n",
              "  </thead>\n",
              "  <tbody>\n",
              "    <tr>\n",
              "      <th>(46.32, 57.7]</th>\n",
              "      <td>5754</td>\n",
              "      <td>34.754772</td>\n",
              "    </tr>\n",
              "    <tr>\n",
              "      <th>(34.94, 46.32]</th>\n",
              "      <td>3852</td>\n",
              "      <td>23.266489</td>\n",
              "    </tr>\n",
              "    <tr>\n",
              "      <th>(57.7, 69.08]</th>\n",
              "      <td>3724</td>\n",
              "      <td>22.493356</td>\n",
              "    </tr>\n",
              "    <tr>\n",
              "      <th>(69.08, 80.46]</th>\n",
              "      <td>1425</td>\n",
              "      <td>8.607151</td>\n",
              "    </tr>\n",
              "    <tr>\n",
              "      <th>(23.56, 34.94]</th>\n",
              "      <td>927</td>\n",
              "      <td>5.599179</td>\n",
              "    </tr>\n",
              "    <tr>\n",
              "      <th>(80.46, 91.84]</th>\n",
              "      <td>544</td>\n",
              "      <td>3.285818</td>\n",
              "    </tr>\n",
              "    <tr>\n",
              "      <th>(91.84, 103.22]</th>\n",
              "      <td>202</td>\n",
              "      <td>1.220101</td>\n",
              "    </tr>\n",
              "    <tr>\n",
              "      <th>(103.22, 114.6]</th>\n",
              "      <td>77</td>\n",
              "      <td>0.465088</td>\n",
              "    </tr>\n",
              "    <tr>\n",
              "      <th>(114.6, 125.98]</th>\n",
              "      <td>20</td>\n",
              "      <td>0.120802</td>\n",
              "    </tr>\n",
              "    <tr>\n",
              "      <th>(125.98, 137.36]</th>\n",
              "      <td>15</td>\n",
              "      <td>0.090602</td>\n",
              "    </tr>\n",
              "    <tr>\n",
              "      <th>(137.36, 148.74]</th>\n",
              "      <td>6</td>\n",
              "      <td>0.036241</td>\n",
              "    </tr>\n",
              "    <tr>\n",
              "      <th>(148.74, 160.12]</th>\n",
              "      <td>4</td>\n",
              "      <td>0.024160</td>\n",
              "    </tr>\n",
              "    <tr>\n",
              "      <th>(12.18, 23.56]</th>\n",
              "      <td>3</td>\n",
              "      <td>0.018120</td>\n",
              "    </tr>\n",
              "    <tr>\n",
              "      <th>(160.12, 171.5]</th>\n",
              "      <td>2</td>\n",
              "      <td>0.012080</td>\n",
              "    </tr>\n",
              "    <tr>\n",
              "      <th>(0.628, 12.18]</th>\n",
              "      <td>1</td>\n",
              "      <td>0.006040</td>\n",
              "    </tr>\n",
              "  </tbody>\n",
              "</table>\n",
              "</div>"
            ],
            "text/plain": [
              "classe_peso       frequencia  percentual\n",
              "(46.32, 57.7]           5754   34.754772\n",
              "(34.94, 46.32]          3852   23.266489\n",
              "(57.7, 69.08]           3724   22.493356\n",
              "(69.08, 80.46]          1425    8.607151\n",
              "(23.56, 34.94]           927    5.599179\n",
              "(80.46, 91.84]           544    3.285818\n",
              "(91.84, 103.22]          202    1.220101\n",
              "(103.22, 114.6]           77    0.465088\n",
              "(114.6, 125.98]           20    0.120802\n",
              "(125.98, 137.36]          15    0.090602\n",
              "(137.36, 148.74]           6    0.036241\n",
              "(148.74, 160.12]           4    0.024160\n",
              "(12.18, 23.56]             3    0.018120\n",
              "(160.12, 171.5]            2    0.012080\n",
              "(0.628, 12.18]             1    0.006040"
            ]
          },
          "metadata": {
            "tags": []
          },
          "execution_count": 43
        }
      ]
    },
    {
      "cell_type": "markdown",
      "metadata": {
        "id": "FHwZR8QBbf8F"
      },
      "source": [
        "#### Desafio 06: Criar outros crosstabs para analisar; pesquisar na documentação do crosstab sobre o parâmetro aggfunc."
      ]
    },
    {
      "cell_type": "code",
      "metadata": {
        "colab": {
          "base_uri": "https://localhost:8080/",
          "height": 215
        },
        "id": "zhnzLDt9n6hx",
        "outputId": "c22276c2-55d8-4e28-9c12-86d87a5ad343"
      },
      "source": [
        "# Os primeiros crosstabs serão utilizados para analisar os dados sobre o bullying nas escolas\r\n",
        "\r\n",
        "respostas = criar_dicionario_respostas(\"VB07010\")[0]['QUESTIONÁRIO DO ALUNO']\r\n",
        "colunas = criar_dicionario_respostas('VB01001')[0]['QUESTIONÁRIO DO ALUNO']\r\n",
        "\r\n",
        "frequencia_cruzada = pd.crosstab(df['VB07010'], df['VB01001'], normalize = 'index') * 100\r\n",
        "frequencia_cruzada.rename(index = respostas, columns=colunas, inplace=True)\r\n",
        "\r\n",
        "print('Você já sofreu bullying?')\r\n",
        "\r\n",
        "frequencia_cruzada"
      ],
      "execution_count": 44,
      "outputs": [
        {
          "output_type": "stream",
          "text": [
            "Você já sofreu bullying?\n"
          ],
          "name": "stdout"
        },
        {
          "output_type": "execute_result",
          "data": {
            "text/html": [
              "<div>\n",
              "<style scoped>\n",
              "    .dataframe tbody tr th:only-of-type {\n",
              "        vertical-align: middle;\n",
              "    }\n",
              "\n",
              "    .dataframe tbody tr th {\n",
              "        vertical-align: top;\n",
              "    }\n",
              "\n",
              "    .dataframe thead th {\n",
              "        text-align: right;\n",
              "    }\n",
              "</style>\n",
              "<table border=\"1\" class=\"dataframe\">\n",
              "  <thead>\n",
              "    <tr style=\"text-align: right;\">\n",
              "      <th>VB01001</th>\n",
              "      <th>Masculino</th>\n",
              "      <th>Feminino</th>\n",
              "    </tr>\n",
              "    <tr>\n",
              "      <th>VB07010</th>\n",
              "      <th></th>\n",
              "      <th></th>\n",
              "    </tr>\n",
              "  </thead>\n",
              "  <tbody>\n",
              "    <tr>\n",
              "      <th>Sim</th>\n",
              "      <td>48.127637</td>\n",
              "      <td>51.872363</td>\n",
              "    </tr>\n",
              "    <tr>\n",
              "      <th>Não</th>\n",
              "      <td>51.306692</td>\n",
              "      <td>48.693308</td>\n",
              "    </tr>\n",
              "    <tr>\n",
              "      <th>Não sei o que é bullying</th>\n",
              "      <td>58.656331</td>\n",
              "      <td>41.343669</td>\n",
              "    </tr>\n",
              "    <tr>\n",
              "      <th>Não informado</th>\n",
              "      <td>61.538462</td>\n",
              "      <td>38.461538</td>\n",
              "    </tr>\n",
              "  </tbody>\n",
              "</table>\n",
              "</div>"
            ],
            "text/plain": [
              "VB01001                   Masculino   Feminino\n",
              "VB07010                                       \n",
              "Sim                       48.127637  51.872363\n",
              "Não                       51.306692  48.693308\n",
              "Não sei o que é bullying  58.656331  41.343669\n",
              "Não informado             61.538462  38.461538"
            ]
          },
          "metadata": {
            "tags": []
          },
          "execution_count": 44
        }
      ]
    },
    {
      "cell_type": "markdown",
      "metadata": {
        "id": "hmM93dyqp1EB"
      },
      "source": [
        "Podemos observar que os valores são próximos quando comparamos entre sexo, com uma porcentagem ligeiramente maior de alunas afirmando que sofreram bullying.\r\n",
        "\r\n",
        "Agora, vamos observar se a existe uma ligação com o IMC e a incidência de bullying:"
      ]
    },
    {
      "cell_type": "code",
      "metadata": {
        "colab": {
          "base_uri": "https://localhost:8080/",
          "height": 286
        },
        "id": "xVZCM9pEbjFq",
        "outputId": "72099318-0880-4377-c722-03e48f4de4ae"
      },
      "source": [
        "respostas = criar_dicionario_respostas(\"VB07010\")[0]['QUESTIONÁRIO DO ALUNO']\r\n",
        "\r\n",
        "frequencia_cruzada = pd.crosstab(df['VB07010'], df['classe_imc'], normalize = \"columns\") * 100\r\n",
        "frequencia_cruzada.rename(index = respostas, inplace=True)\r\n",
        "\r\n",
        "print('\\n\\n\"Você já sofreu bullying?\" - normalizada pelos valores das colunas\\n\\n')\r\n",
        "\r\n",
        "frequencia_cruzada"
      ],
      "execution_count": 45,
      "outputs": [
        {
          "output_type": "stream",
          "text": [
            "\n",
            "\n",
            "\"Você já sofreu bullying?\" - normalizada pelos valores das colunas\n",
            "\n",
            "\n"
          ],
          "name": "stdout"
        },
        {
          "output_type": "execute_result",
          "data": {
            "text/html": [
              "<div>\n",
              "<style scoped>\n",
              "    .dataframe tbody tr th:only-of-type {\n",
              "        vertical-align: middle;\n",
              "    }\n",
              "\n",
              "    .dataframe tbody tr th {\n",
              "        vertical-align: top;\n",
              "    }\n",
              "\n",
              "    .dataframe thead th {\n",
              "        text-align: right;\n",
              "    }\n",
              "</style>\n",
              "<table border=\"1\" class=\"dataframe\">\n",
              "  <thead>\n",
              "    <tr style=\"text-align: right;\">\n",
              "      <th>classe_imc</th>\n",
              "      <th>abaixo do peso</th>\n",
              "      <th>ideal</th>\n",
              "      <th>sobrepeso</th>\n",
              "      <th>obesidade</th>\n",
              "    </tr>\n",
              "    <tr>\n",
              "      <th>VB07010</th>\n",
              "      <th></th>\n",
              "      <th></th>\n",
              "      <th></th>\n",
              "      <th></th>\n",
              "    </tr>\n",
              "  </thead>\n",
              "  <tbody>\n",
              "    <tr>\n",
              "      <th>Sim</th>\n",
              "      <td>42.633166</td>\n",
              "      <td>45.047889</td>\n",
              "      <td>53.977273</td>\n",
              "      <td>59.083728</td>\n",
              "    </tr>\n",
              "    <tr>\n",
              "      <th>Não</th>\n",
              "      <td>53.989950</td>\n",
              "      <td>52.568568</td>\n",
              "      <td>43.693182</td>\n",
              "      <td>39.178515</td>\n",
              "    </tr>\n",
              "    <tr>\n",
              "      <th>Não sei o que é bullying</th>\n",
              "      <td>3.055276</td>\n",
              "      <td>2.002612</td>\n",
              "      <td>2.272727</td>\n",
              "      <td>1.737757</td>\n",
              "    </tr>\n",
              "    <tr>\n",
              "      <th>Não informado</th>\n",
              "      <td>0.321608</td>\n",
              "      <td>0.380932</td>\n",
              "      <td>0.056818</td>\n",
              "      <td>0.000000</td>\n",
              "    </tr>\n",
              "  </tbody>\n",
              "</table>\n",
              "</div>"
            ],
            "text/plain": [
              "classe_imc                abaixo do peso      ideal  sobrepeso  obesidade\n",
              "VB07010                                                                  \n",
              "Sim                            42.633166  45.047889  53.977273  59.083728\n",
              "Não                            53.989950  52.568568  43.693182  39.178515\n",
              "Não sei o que é bullying        3.055276   2.002612   2.272727   1.737757\n",
              "Não informado                   0.321608   0.380932   0.056818   0.000000"
            ]
          },
          "metadata": {
            "tags": []
          },
          "execution_count": 45
        }
      ]
    },
    {
      "cell_type": "markdown",
      "metadata": {
        "id": "FyFfOdOfo3xM"
      },
      "source": [
        "É possível verificar que:\r\n",
        "* Entre as pessoas abaixo do peso ideal e dentro da faixa de peso ideal, mais alunos afirmaram que não sofreram bullying do que o contrário.\r\n",
        "\r\n",
        "* Acontece o inverso aos alunos acima do peso, com uma diferença ainda maior quando tratamos de alunos obesos.\r\n",
        "\r\n",
        "Agora, gostaria de identificar se a falta de um celular aumentaria as chances do aluno sofrer bullying (por estar desconectado dos outros alunos e/ou por classe social, por exemplo):"
      ]
    },
    {
      "cell_type": "code",
      "metadata": {
        "colab": {
          "base_uri": "https://localhost:8080/",
          "height": 306
        },
        "id": "V4QpG6Fus57t",
        "outputId": "aaaa44c2-67b6-47c2-919c-a81ad8c21612"
      },
      "source": [
        "respostas = criar_dicionario_respostas(\"VB07010\")[0]['QUESTIONÁRIO DO ALUNO']\r\n",
        "colunas = criar_dicionario_respostas('VB01014')[0]['QUESTIONÁRIO DO ALUNO']\r\n",
        "\r\n",
        "frequencia_cruzada = pd.crosstab(df['VB07010'], df['VB01014'], normalize = \"columns\") * 100\r\n",
        "frequencia_cruzada.rename(index = respostas, columns=colunas, inplace=True)\r\n",
        "\r\n",
        "print('\\n\\n\"Você já sofreu bullying?\" - normalizada pelos valores das colunas (você possui um celular?)\\n\\n')\r\n",
        "\r\n",
        "frequencia_cruzada"
      ],
      "execution_count": 46,
      "outputs": [
        {
          "output_type": "stream",
          "text": [
            "\n",
            "\n",
            "\"Você já sofreu bullying?\" - normalizada pelos valores das colunas (você possui um celular?)\n",
            "\n",
            "\n"
          ],
          "name": "stdout"
        },
        {
          "output_type": "execute_result",
          "data": {
            "text/html": [
              "<div>\n",
              "<style scoped>\n",
              "    .dataframe tbody tr th:only-of-type {\n",
              "        vertical-align: middle;\n",
              "    }\n",
              "\n",
              "    .dataframe tbody tr th {\n",
              "        vertical-align: top;\n",
              "    }\n",
              "\n",
              "    .dataframe thead th {\n",
              "        text-align: right;\n",
              "    }\n",
              "</style>\n",
              "<table border=\"1\" class=\"dataframe\">\n",
              "  <thead>\n",
              "    <tr style=\"text-align: right;\">\n",
              "      <th>VB01014</th>\n",
              "      <th>Sim</th>\n",
              "      <th>Não</th>\n",
              "      <th>Não informado</th>\n",
              "    </tr>\n",
              "    <tr>\n",
              "      <th>VB07010</th>\n",
              "      <th></th>\n",
              "      <th></th>\n",
              "      <th></th>\n",
              "    </tr>\n",
              "  </thead>\n",
              "  <tbody>\n",
              "    <tr>\n",
              "      <th>Sim</th>\n",
              "      <td>46.018377</td>\n",
              "      <td>44.475138</td>\n",
              "      <td>38.888889</td>\n",
              "    </tr>\n",
              "    <tr>\n",
              "      <th>Não</th>\n",
              "      <td>51.879438</td>\n",
              "      <td>49.585635</td>\n",
              "      <td>16.666667</td>\n",
              "    </tr>\n",
              "    <tr>\n",
              "      <th>Não sei o que é bullying</th>\n",
              "      <td>1.851594</td>\n",
              "      <td>5.570902</td>\n",
              "      <td>0.000000</td>\n",
              "    </tr>\n",
              "    <tr>\n",
              "      <th>Não informado</th>\n",
              "      <td>0.250592</td>\n",
              "      <td>0.368324</td>\n",
              "      <td>44.444444</td>\n",
              "    </tr>\n",
              "  </tbody>\n",
              "</table>\n",
              "</div>"
            ],
            "text/plain": [
              "VB01014                         Sim        Não  Não informado\n",
              "VB07010                                                      \n",
              "Sim                       46.018377  44.475138      38.888889\n",
              "Não                       51.879438  49.585635      16.666667\n",
              "Não sei o que é bullying   1.851594   5.570902       0.000000\n",
              "Não informado              0.250592   0.368324      44.444444"
            ]
          },
          "metadata": {
            "tags": []
          },
          "execution_count": 46
        }
      ]
    },
    {
      "cell_type": "markdown",
      "metadata": {
        "id": "vu1jZpYqtWLW"
      },
      "source": [
        "Nota-se que possuir um celular não é um fator determinante para a incidência de bullying. Algo interessante, no entanto, é que a porcentagem de alunos que não sabem o que é bullying é bem maior entre aqueles que não possuem celular do que entre os que possuem. \r\n",
        "\r\n",
        "Uma hipótese para isso é o fato de que o termo é relativamente novo e foi adicionado à Língua Portuguesa em inglês. Alunos com celular e, consequentemente, mais expostos a redes socias poderiam estar mais informados sobre o tema.\r\n",
        "\r\n",
        "Voltando às variaveis caracterizantes do aluno, vamos tentar verificar quanto pesa o aluno médio que sofre bullying e comparar com o quanto pesa aquele que não sofre:"
      ]
    },
    {
      "cell_type": "code",
      "metadata": {
        "colab": {
          "base_uri": "https://localhost:8080/",
          "height": 215
        },
        "id": "0dg4LSCsxd7j",
        "outputId": "b3bcc03b-f0b1-4e84-c3f4-6f5dc212672b"
      },
      "source": [
        "respostas = criar_dicionario_respostas(\"VB07010\")[0]['QUESTIONÁRIO DO ALUNO']\r\n",
        "colunas = criar_dicionario_respostas('VB01001')[0]['QUESTIONÁRIO DO ALUNO']\r\n",
        "\r\n",
        "frequencia_cruzada = pd.crosstab(df['VB07010'], df['VB01001'], values = df['VB17003'], aggfunc='mean')\r\n",
        "frequencia_cruzada.rename(index = respostas, columns=colunas, inplace=True)\r\n",
        "\r\n",
        "print('Você já sofreu bullying?')\r\n",
        "\r\n",
        "frequencia_cruzada"
      ],
      "execution_count": 47,
      "outputs": [
        {
          "output_type": "stream",
          "text": [
            "Você já sofreu bullying?\n"
          ],
          "name": "stdout"
        },
        {
          "output_type": "execute_result",
          "data": {
            "text/html": [
              "<div>\n",
              "<style scoped>\n",
              "    .dataframe tbody tr th:only-of-type {\n",
              "        vertical-align: middle;\n",
              "    }\n",
              "\n",
              "    .dataframe tbody tr th {\n",
              "        vertical-align: top;\n",
              "    }\n",
              "\n",
              "    .dataframe thead th {\n",
              "        text-align: right;\n",
              "    }\n",
              "</style>\n",
              "<table border=\"1\" class=\"dataframe\">\n",
              "  <thead>\n",
              "    <tr style=\"text-align: right;\">\n",
              "      <th>VB01001</th>\n",
              "      <th>Masculino</th>\n",
              "      <th>Feminino</th>\n",
              "    </tr>\n",
              "    <tr>\n",
              "      <th>VB07010</th>\n",
              "      <th></th>\n",
              "      <th></th>\n",
              "    </tr>\n",
              "  </thead>\n",
              "  <tbody>\n",
              "    <tr>\n",
              "      <th>Sim</th>\n",
              "      <td>58.154521</td>\n",
              "      <td>53.842374</td>\n",
              "    </tr>\n",
              "    <tr>\n",
              "      <th>Não</th>\n",
              "      <td>55.822248</td>\n",
              "      <td>51.767798</td>\n",
              "    </tr>\n",
              "    <tr>\n",
              "      <th>Não sei o que é bullying</th>\n",
              "      <td>51.681938</td>\n",
              "      <td>48.431250</td>\n",
              "    </tr>\n",
              "    <tr>\n",
              "      <th>Não informado</th>\n",
              "      <td>52.806250</td>\n",
              "      <td>48.505000</td>\n",
              "    </tr>\n",
              "  </tbody>\n",
              "</table>\n",
              "</div>"
            ],
            "text/plain": [
              "VB01001                   Masculino   Feminino\n",
              "VB07010                                       \n",
              "Sim                       58.154521  53.842374\n",
              "Não                       55.822248  51.767798\n",
              "Não sei o que é bullying  51.681938  48.431250\n",
              "Não informado             52.806250  48.505000"
            ]
          },
          "metadata": {
            "tags": []
          },
          "execution_count": 47
        }
      ]
    },
    {
      "cell_type": "markdown",
      "metadata": {
        "id": "b1_1-avzyM7A"
      },
      "source": [
        "O peso médio dos alunos afirmaram sofrer bullying é mais alto que os de alunos que marcaram nunca ter sofrido, tanto para o sexo masculino, quanto para o feminino. \r\n",
        "\r\n",
        "Vamos identificar agora se existe uma relação entre as respostas do bullying e a dependência administrativa da escola:"
      ]
    },
    {
      "cell_type": "code",
      "metadata": {
        "colab": {
          "base_uri": "https://localhost:8080/",
          "height": 306
        },
        "id": "JFnfWdX4zo1U",
        "outputId": "f05beca9-be1d-4984-db7a-e0f8df92b256"
      },
      "source": [
        "respostas = criar_dicionario_respostas(\"VB07010\")[0]['QUESTIONÁRIO DO ALUNO']\r\n",
        "# colunas = criar_dicionario_respostas('V0007')[0]['QUESTIONÁRIO DO ALUNO']\r\n",
        "\r\n",
        "frequencia_cruzada = pd.crosstab(df['VB07010'], df['V0007'], normalize = \"columns\") * 100\r\n",
        "frequencia_cruzada.rename(index = respostas, columns = {1: \"Publica\", 2: \"Privada\"}, inplace=True)\r\n",
        "\r\n",
        "print('\\n\\n\"Você já sofreu bullying?\" - normalizada pelos valores das colunas (Dependência administrativa da escola)\\n\\n')\r\n",
        "\r\n",
        "frequencia_cruzada"
      ],
      "execution_count": 48,
      "outputs": [
        {
          "output_type": "stream",
          "text": [
            "\n",
            "\n",
            "\"Você já sofreu bullying?\" - normalizada pelos valores das colunas (Dependência administrativa da escola)\n",
            "\n",
            "\n"
          ],
          "name": "stdout"
        },
        {
          "output_type": "execute_result",
          "data": {
            "text/html": [
              "<div>\n",
              "<style scoped>\n",
              "    .dataframe tbody tr th:only-of-type {\n",
              "        vertical-align: middle;\n",
              "    }\n",
              "\n",
              "    .dataframe tbody tr th {\n",
              "        vertical-align: top;\n",
              "    }\n",
              "\n",
              "    .dataframe thead th {\n",
              "        text-align: right;\n",
              "    }\n",
              "</style>\n",
              "<table border=\"1\" class=\"dataframe\">\n",
              "  <thead>\n",
              "    <tr style=\"text-align: right;\">\n",
              "      <th>V0007</th>\n",
              "      <th>Publica</th>\n",
              "      <th>Privada</th>\n",
              "    </tr>\n",
              "    <tr>\n",
              "      <th>VB07010</th>\n",
              "      <th></th>\n",
              "      <th></th>\n",
              "    </tr>\n",
              "  </thead>\n",
              "  <tbody>\n",
              "    <tr>\n",
              "      <th>Sim</th>\n",
              "      <td>45.973669</td>\n",
              "      <td>45.317365</td>\n",
              "    </tr>\n",
              "    <tr>\n",
              "      <th>Não</th>\n",
              "      <td>50.916727</td>\n",
              "      <td>53.389222</td>\n",
              "    </tr>\n",
              "    <tr>\n",
              "      <th>Não sei o que é bullying</th>\n",
              "      <td>2.762297</td>\n",
              "      <td>1.077844</td>\n",
              "    </tr>\n",
              "    <tr>\n",
              "      <th>Não informado</th>\n",
              "      <td>0.347306</td>\n",
              "      <td>0.215569</td>\n",
              "    </tr>\n",
              "  </tbody>\n",
              "</table>\n",
              "</div>"
            ],
            "text/plain": [
              "V0007                       Publica    Privada\n",
              "VB07010                                       \n",
              "Sim                       45.973669  45.317365\n",
              "Não                       50.916727  53.389222\n",
              "Não sei o que é bullying   2.762297   1.077844\n",
              "Não informado              0.347306   0.215569"
            ]
          },
          "metadata": {
            "tags": []
          },
          "execution_count": 48
        }
      ]
    },
    {
      "cell_type": "markdown",
      "metadata": {
        "id": "C2RyzsjR2Gv-"
      },
      "source": [
        "Assim como quando utilizamos o crosstab com os dados sobre a posse de celular, a porcentagem de alunos que afirma não saber o que é bullying é maior entre os alunos de escola pública. Além disso, as respostas entre as duas dependências sobre a questão são bem próximas."
      ]
    },
    {
      "cell_type": "markdown",
      "metadata": {
        "id": "gW4ppyL-Ytk3"
      },
      "source": [
        "## AULA 4 - HISTOGRAMA E BOXPLOT"
      ]
    },
    {
      "cell_type": "markdown",
      "metadata": {
        "id": "psNDEtvqYzee"
      },
      "source": [
        "### VIDEO 1 - Histograma e Distribuições"
      ]
    },
    {
      "cell_type": "markdown",
      "metadata": {
        "id": "GZ7hiScutFMy"
      },
      "source": [
        "O histograma pode ser utilizado para observarmos a distribuição dos dados de forma resumida, assim como a tabela de frequencias. No sns, a função que plota esse tipo de gráfico é a sns.histplot():"
      ]
    },
    {
      "cell_type": "code",
      "metadata": {
        "colab": {
          "base_uri": "https://localhost:8080/",
          "height": 383
        },
        "id": "rp-RU6fcY4LP",
        "outputId": "14cd2ec5-4776-465f-bd0b-88fd0965a2c1"
      },
      "source": [
        "import seaborn as sns\r\n",
        "\r\n",
        "ax = sns.histplot(data = df, x = \"VB17004\", kde = True)\r\n",
        "ax.figure.set_size_inches(12, 6)\r\n",
        "ax.set_title(\"Distribuição de frequencia - altura\")\r\n"
      ],
      "execution_count": 49,
      "outputs": [
        {
          "output_type": "execute_result",
          "data": {
            "text/plain": [
              "Text(0.5, 1.0, 'Distribuição de frequencia - altura')"
            ]
          },
          "metadata": {
            "tags": []
          },
          "execution_count": 49
        },
        {
          "output_type": "display_data",
          "data": {
            "image/png": "[encoded data removed]",
            "text/plain": [
              "<Figure size 864x432 with 1 Axes>"
            ]
          },
          "metadata": {
            "tags": [],
            "needs_background": "light"
          }
        }
      ]
    },
    {
      "cell_type": "markdown",
      "metadata": {
        "id": "PHh5QcYvtu_l"
      },
      "source": [
        "Utilizando o \"hue\", plotamos histogramas baseados nos dados escolhidos no argumento. No exemplo abaixo, a pergunta sobre o sexo dos alunos foi utilizada para separar o gráfico em 2:"
      ]
    },
    {
      "cell_type": "code",
      "metadata": {
        "colab": {
          "base_uri": "https://localhost:8080/",
          "height": 383
        },
        "id": "Y7m8BXn8sx78",
        "outputId": "19829a17-0d6e-4764-a877-233974cc9177"
      },
      "source": [
        "ax = sns.histplot(data = df, x = \"VB17004\", kde = True, hue = \"VB01001\")\r\n",
        "ax.figure.set_size_inches(12, 6)\r\n",
        "ax.set_title(\"Distribuição de frequencia - altura\")"
      ],
      "execution_count": 50,
      "outputs": [
        {
          "output_type": "execute_result",
          "data": {
            "text/plain": [
              "Text(0.5, 1.0, 'Distribuição de frequencia - altura')"
            ]
          },
          "metadata": {
            "tags": []
          },
          "execution_count": 50
        },
        {
          "output_type": "display_data",
          "data": {
            "image/png": "[encoded data removed]",
            "text/plain": [
              "<Figure size 864x432 with 1 Axes>"
            ]
          },
          "metadata": {
            "tags": [],
            "needs_background": "light"
          }
        }
      ]
    },
    {
      "cell_type": "markdown",
      "metadata": {
        "id": "Ux5esnWDvsWn"
      },
      "source": [
        "O histograma com divisão por uma segunda forma de classficação, como o exemplo acima, acaba não sendo o plot ideal quando essa forma possui multiplas classes.\r\n"
      ]
    },
    {
      "cell_type": "code",
      "metadata": {
        "colab": {
          "base_uri": "https://localhost:8080/",
          "height": 382
        },
        "id": "cdqvdyLsvq_Z",
        "outputId": "9e156689-bb87-485d-ad40-5b5759d216a9"
      },
      "source": [
        "ax = sns.histplot(data = df, x = \"VB17004\", kde = True, hue = \"VB01003\")\r\n",
        "ax.figure.set_size_inches(12, 6)\r\n",
        "ax.set_title(\"Distribuição de frequencia - altura\")"
      ],
      "execution_count": 51,
      "outputs": [
        {
          "output_type": "execute_result",
          "data": {
            "text/plain": [
              "Text(0.5, 1.0, 'Distribuição de frequencia - altura')"
            ]
          },
          "metadata": {
            "tags": []
          },
          "execution_count": 51
        },
        {
          "output_type": "display_data",
          "data": {
            "image/png": "[encoded data removed]",
            "text/plain": [
              "<Figure size 864x432 with 1 Axes>"
            ]
          },
          "metadata": {
            "tags": [],
            "needs_background": "light"
          }
        }
      ]
    },
    {
      "cell_type": "markdown",
      "metadata": {
        "id": "v2qTHh_IwHqc"
      },
      "source": [
        "Para esse tipo de sitação, podemos utilizar multiplas figuras de histogramas com as diferentes classificações ou utilizar um box plot."
      ]
    },
    {
      "cell_type": "markdown",
      "metadata": {
        "id": "scITQwahiyXa"
      },
      "source": [
        "#### Desafio 07: Calcular o desvio padrão, a média, a moda e a mediana e plotar no gráfico de histogramas.\r\n"
      ]
    },
    {
      "cell_type": "code",
      "metadata": {
        "id": "1yjXUA4Mks8l"
      },
      "source": [
        "def plot_hist_e_estatisticas_de_centralidade(cod_pergunta: str, hue = None, bins = 'auto', df = df, print_mode = False):\r\n",
        "   # Plot\r\n",
        "  fig, ax = plt.subplots()\r\n",
        "  sns.histplot(data = df, x = cod_pergunta, ax = ax, hue = hue, bins = bins, kde = True)\r\n",
        "\r\n",
        "  ax.figure.set_size_inches(12, 6)\r\n",
        "\r\n",
        "  # Hist Extras\r\n",
        "\r\n",
        "  # media\r\n",
        "  media = df[cod_pergunta].mean()\r\n",
        "  ax.axvline(x = media, lw = 3, color = 'g', label = \"Média\")\r\n",
        "\r\n",
        "  # mediana\r\n",
        "  mediana = df[cod_pergunta].median()\r\n",
        "  ax.axvline(x = mediana, lw = 3, color = 'r', label = \"Mediana\")\r\n",
        "\r\n",
        "  # moda\r\n",
        "  moda = df[cod_pergunta].mode()\r\n",
        "  ax.axvline(x = moda[0], lw = 3, color = 'yellow', label = \"Moda\")\r\n",
        "  \r\n",
        "  if print_mode == True:\r\n",
        "    print(f'\\n\\nA média é {media};')\r\n",
        "    print(f'A mediana é {mediana};')\r\n",
        "    print(f'A moda é {moda[0]}.\\n')\r\n",
        "\r\n",
        "  # desvio padrao\r\n",
        "  desv_pad = [media - df[cod_pergunta].std(), df[cod_pergunta].std() + media]\r\n",
        "  ax.axvspan(desv_pad[0], desv_pad[1], color = 'black', alpha = 0.3, label = \"+/- 1 Desvio Padrão\") \r\n",
        "\r\n",
        "  # Customização\r\n",
        "  plt.legend()\r\n",
        "  ax.set_title(f\"Distribuição de frequencia - {dicionario.loc[dicionario['VARIÁVEL'] == cod_pergunta]['QUESTIONÁRIO DO ALUNO']}\")\r\n",
        "\r\n",
        "  return fig, ax"
      ],
      "execution_count": 52,
      "outputs": []
    },
    {
      "cell_type": "code",
      "metadata": {
        "colab": {
          "base_uri": "https://localhost:8080/",
          "height": 365
        },
        "id": "V1qo7JpvqiQv",
        "outputId": "8904ee2d-6cc2-49d4-bd1e-30d12ec37d1d"
      },
      "source": [
        "fig, ax = plot_hist_e_estatisticas_de_centralidade(\"VB17004\")\r\n",
        "ax.set_title(\"Distribuição de Frequencia - Altura\")\r\n",
        "plt.show()"
      ],
      "execution_count": 53,
      "outputs": [
        {
          "output_type": "display_data",
          "data": {
            "image/png": "[encoded data removed]",
            "text/plain": [
              "<Figure size 864x432 with 1 Axes>"
            ]
          },
          "metadata": {
            "tags": [],
            "needs_background": "light"
          }
        }
      ]
    },
    {
      "cell_type": "markdown",
      "metadata": {
        "id": "fW5Dm3G6qlPS"
      },
      "source": [
        "#### Desafio 08 - Fazer a análise com o histograma para outras informações da base de dados."
      ]
    },
    {
      "cell_type": "markdown",
      "metadata": {
        "id": "ji_1Uz3c1Gvp"
      },
      "source": [
        "Uma das variáveis que me chamou atenção na pesquisa foi a que corresponde ao tempo que o aluno toma para chegar ao colégio indo à pé ou de bicicleta. \r\n",
        "\r\n",
        "Vamos plotar ela em um histograma."
      ]
    },
    {
      "cell_type": "code",
      "metadata": {
        "colab": {
          "base_uri": "https://localhost:8080/",
          "height": 376
        },
        "id": "TIds61MXwtUo",
        "outputId": "2fd7ccf5-7dd0-4a13-9154-4ee69badd855"
      },
      "source": [
        "fig, ax = plot_hist_e_estatisticas_de_centralidade('TEMPODESLOC')\r\n",
        "ax;"
      ],
      "execution_count": 54,
      "outputs": [
        {
          "output_type": "display_data",
          "data": {
            "image/png": "[encoded data removed]",
            "text/plain": [
              "<Figure size 864x432 with 1 Axes>"
            ]
          },
          "metadata": {
            "tags": [],
            "needs_background": "light"
          }
        }
      ]
    },
    {
      "cell_type": "markdown",
      "metadata": {
        "id": "2_joVfrm4nxN"
      },
      "source": [
        "Irei eliminar do plot os alunos que utilizam outros meios de transporte:"
      ]
    },
    {
      "cell_type": "code",
      "metadata": {
        "colab": {
          "base_uri": "https://localhost:8080/",
          "height": 376
        },
        "id": "1Xqfaxtj177P",
        "outputId": "b4865599-4e15-469d-ae06-ed765986de54"
      },
      "source": [
        "fig, ax = plot_hist_e_estatisticas_de_centralidade('TEMPODESLOC', df = df.loc[df['TEMPODESLOC'] > 0], bins = 15)\r\n",
        "ax;"
      ],
      "execution_count": 55,
      "outputs": [
        {
          "output_type": "display_data",
          "data": {
            "image/png": "[encoded data removed]",
            "text/plain": [
              "<Figure size 864x432 with 1 Axes>"
            ]
          },
          "metadata": {
            "tags": [],
            "needs_background": "light"
          }
        }
      ]
    },
    {
      "cell_type": "code",
      "metadata": {
        "colab": {
          "base_uri": "https://localhost:8080/",
          "height": 483
        },
        "id": "oORBXWsY5HYD",
        "outputId": "93ff8065-aff8-46c0-cb9b-a1d4455a5999"
      },
      "source": [
        "fig, ax = plot_hist_e_estatisticas_de_centralidade('TEMPODESLOC', df = df.loc[df['TEMPODESLOC'] > 0], bins = 15, hue = 'V0007', print_mode = True)\r\n",
        "ax;"
      ],
      "execution_count": 56,
      "outputs": [
        {
          "output_type": "stream",
          "text": [
            "\n",
            "\n",
            "A média é 124.59165335463258;\n",
            "A mediana é 70.0;\n",
            "A moda é 50.0.\n",
            "\n"
          ],
          "name": "stdout"
        },
        {
          "output_type": "display_data",
          "data": {
            "image/png": "[encoded data removed]",
            "text/plain": [
              "<Figure size 864x432 with 1 Axes>"
            ]
          },
          "metadata": {
            "tags": [],
            "needs_background": "light"
          }
        }
      ]
    },
    {
      "cell_type": "markdown",
      "metadata": {
        "id": "iI_AkV-HhgC9"
      },
      "source": [
        "Percebe-se que a distribuição continua igual quando separamos os alunos entre aqueles que estão na escola pública daqueles que estão na escola privada. Temos que, em média, os alunos pesquisados que vão de bicicleta ou à pé da casa para a escola e da escola para casa, tomam cerca de 2 horas para realizar o deslocamento (ida e volta).\r\n",
        "\r\n",
        "Por curiosidade minha e por trabalhar em tabacaria, gostaria de observar os dados sobre o uso de tabaco entre os mais jovens:"
      ]
    },
    {
      "cell_type": "code",
      "metadata": {
        "colab": {
          "base_uri": "https://localhost:8080/",
          "height": 462
        },
        "id": "1fRVWsewk5rU",
        "outputId": "3c3fc360-d451-4fed-f5f1-5bcb7893f416"
      },
      "source": [
        "criar_tab_freq(\"VB04001\", plot = True)"
      ],
      "execution_count": 57,
      "outputs": [
        {
          "output_type": "display_data",
          "data": {
            "image/png": "[encoded data removed]",
            "text/plain": [
              "<Figure size 432x288 with 1 Axes>"
            ]
          },
          "metadata": {
            "tags": [],
            "needs_background": "light"
          }
        },
        {
          "output_type": "execute_result",
          "data": {
            "text/html": [
              "<div>\n",
              "<style scoped>\n",
              "    .dataframe tbody tr th:only-of-type {\n",
              "        vertical-align: middle;\n",
              "    }\n",
              "\n",
              "    .dataframe tbody tr th {\n",
              "        vertical-align: top;\n",
              "    }\n",
              "\n",
              "    .dataframe thead th {\n",
              "        text-align: right;\n",
              "    }\n",
              "</style>\n",
              "<table border=\"1\" class=\"dataframe\">\n",
              "  <thead>\n",
              "    <tr style=\"text-align: right;\">\n",
              "      <th>Alguma vez na vida, você já fumou cigarro, mesmo uma ou duas tragadas?</th>\n",
              "      <th>frequencia</th>\n",
              "      <th>percentual</th>\n",
              "    </tr>\n",
              "  </thead>\n",
              "  <tbody>\n",
              "    <tr>\n",
              "      <th>Não</th>\n",
              "      <td>9030</td>\n",
              "      <td>54.542160</td>\n",
              "    </tr>\n",
              "    <tr>\n",
              "      <th>Pulo no questionário</th>\n",
              "      <td>4706</td>\n",
              "      <td>28.424740</td>\n",
              "    </tr>\n",
              "    <tr>\n",
              "      <th>Sim</th>\n",
              "      <td>2803</td>\n",
              "      <td>16.930418</td>\n",
              "    </tr>\n",
              "    <tr>\n",
              "      <th>Não informado</th>\n",
              "      <td>17</td>\n",
              "      <td>0.102682</td>\n",
              "    </tr>\n",
              "  </tbody>\n",
              "</table>\n",
              "</div>"
            ],
            "text/plain": [
              "Alguma vez na vida, você já fumou cigarro, mesmo uma ou duas tragadas?   frequencia  percentual\n",
              "Não                                                                            9030   54.542160\n",
              "Pulo no questionário                                                           4706   28.424740\n",
              "Sim                                                                            2803   16.930418\n",
              "Não informado                                                                    17    0.102682"
            ]
          },
          "metadata": {
            "tags": []
          },
          "execution_count": 57
        }
      ]
    },
    {
      "cell_type": "markdown",
      "metadata": {
        "id": "GzoUTXV8lLzg"
      },
      "source": [
        "Percebemos que a maioria dos alunos relata nunca ter experimentado cigarro. Uma vez que a pesquisa abrange alunos de diversas idades, gostaria de observar a mudança desses valores de acordo com a idade dos alunos."
      ]
    },
    {
      "cell_type": "code",
      "metadata": {
        "colab": {
          "base_uri": "https://localhost:8080/",
          "height": 376
        },
        "id": "m_s8EMQYmfxx",
        "outputId": "79e9d208-fe12-46f6-b7a7-a18a53f76c41"
      },
      "source": [
        "fig, ax = plot_hist_e_estatisticas_de_centralidade(\"VB01003\")"
      ],
      "execution_count": 58,
      "outputs": [
        {
          "output_type": "display_data",
          "data": {
            "image/png": "[encoded data removed]",
            "text/plain": [
              "<Figure size 864x432 with 1 Axes>"
            ]
          },
          "metadata": {
            "tags": [],
            "needs_background": "light"
          }
        }
      ]
    },
    {
      "cell_type": "markdown",
      "metadata": {
        "id": "YuGTObDVm2v5"
      },
      "source": [
        "Observando a distribuição da idade dos alunos, percebemos que a grande maioria dos alunos está entre os 12 e 16 anos.\r\n",
        "\r\n",
        "Como gostaria de observar as mudanças dos valores de acordo com a idade, irei criar um crosstab com a normalização sendo feita na idade:"
      ]
    },
    {
      "cell_type": "code",
      "metadata": {
        "colab": {
          "base_uri": "https://localhost:8080/",
          "height": 318
        },
        "id": "GWRqvojClpyq",
        "outputId": "68cbaffb-5985-4074-dd10-49b2b04585c2"
      },
      "source": [
        "respostas = criar_dicionario_respostas(\"VB04001\")[0]['QUESTIONÁRIO DO ALUNO'] # cigarro\r\n",
        "colunas = criar_dicionario_respostas('VB01003')[0]['QUESTIONÁRIO DO ALUNO'] # idade\r\n",
        "\r\n",
        "frequencia_cruzada = pd.crosstab(df['VB04001'], df['VB01003'], normalize = 'columns') * 100\r\n",
        "frequencia_cruzada.rename(index = respostas, columns=colunas, inplace=True)\r\n",
        "\r\n",
        "print('Alguma vez na vida, você já fumou cigarro, mesmo uma ou duas tragadas? ')\r\n",
        "\r\n",
        "frequencia_cruzada"
      ],
      "execution_count": 59,
      "outputs": [
        {
          "output_type": "stream",
          "text": [
            "Alguma vez na vida, você já fumou cigarro, mesmo uma ou duas tragadas? \n"
          ],
          "name": "stdout"
        },
        {
          "output_type": "execute_result",
          "data": {
            "text/html": [
              "<div>\n",
              "<style scoped>\n",
              "    .dataframe tbody tr th:only-of-type {\n",
              "        vertical-align: middle;\n",
              "    }\n",
              "\n",
              "    .dataframe tbody tr th {\n",
              "        vertical-align: top;\n",
              "    }\n",
              "\n",
              "    .dataframe thead th {\n",
              "        text-align: right;\n",
              "    }\n",
              "</style>\n",
              "<table border=\"1\" class=\"dataframe\">\n",
              "  <thead>\n",
              "    <tr style=\"text-align: right;\">\n",
              "      <th>VB01003</th>\n",
              "      <th>11 anos ou menos</th>\n",
              "      <th>12 anos</th>\n",
              "      <th>13 anos</th>\n",
              "      <th>14 anos</th>\n",
              "      <th>15 anos</th>\n",
              "      <th>16 anos</th>\n",
              "      <th>17 anos</th>\n",
              "      <th>18 anos</th>\n",
              "      <th>19 anos ou mais</th>\n",
              "    </tr>\n",
              "    <tr>\n",
              "      <th>VB04001</th>\n",
              "      <th></th>\n",
              "      <th></th>\n",
              "      <th></th>\n",
              "      <th></th>\n",
              "      <th></th>\n",
              "      <th></th>\n",
              "      <th></th>\n",
              "      <th></th>\n",
              "      <th></th>\n",
              "    </tr>\n",
              "  </thead>\n",
              "  <tbody>\n",
              "    <tr>\n",
              "      <th>Pulo no questionário</th>\n",
              "      <td>100.0</td>\n",
              "      <td>100.0</td>\n",
              "      <td>0.000000</td>\n",
              "      <td>0.000000</td>\n",
              "      <td>0.000000</td>\n",
              "      <td>0.000000</td>\n",
              "      <td>0.000000</td>\n",
              "      <td>0.000000</td>\n",
              "      <td>0.000000</td>\n",
              "    </tr>\n",
              "    <tr>\n",
              "      <th>Sim</th>\n",
              "      <td>0.0</td>\n",
              "      <td>0.0</td>\n",
              "      <td>12.338930</td>\n",
              "      <td>20.768870</td>\n",
              "      <td>21.979381</td>\n",
              "      <td>27.533040</td>\n",
              "      <td>33.376708</td>\n",
              "      <td>38.365897</td>\n",
              "      <td>43.490305</td>\n",
              "    </tr>\n",
              "    <tr>\n",
              "      <th>Não</th>\n",
              "      <td>0.0</td>\n",
              "      <td>0.0</td>\n",
              "      <td>87.309645</td>\n",
              "      <td>79.184248</td>\n",
              "      <td>77.979381</td>\n",
              "      <td>72.378855</td>\n",
              "      <td>66.428107</td>\n",
              "      <td>61.634103</td>\n",
              "      <td>56.232687</td>\n",
              "    </tr>\n",
              "    <tr>\n",
              "      <th>Não informado</th>\n",
              "      <td>0.0</td>\n",
              "      <td>0.0</td>\n",
              "      <td>0.351425</td>\n",
              "      <td>0.046882</td>\n",
              "      <td>0.041237</td>\n",
              "      <td>0.088106</td>\n",
              "      <td>0.195185</td>\n",
              "      <td>0.000000</td>\n",
              "      <td>0.277008</td>\n",
              "    </tr>\n",
              "  </tbody>\n",
              "</table>\n",
              "</div>"
            ],
            "text/plain": [
              "VB01003               11 anos ou menos  12 anos  ...    18 anos  19 anos ou mais\n",
              "VB04001                                          ...                            \n",
              "Pulo no questionário             100.0    100.0  ...   0.000000         0.000000\n",
              "Sim                                0.0      0.0  ...  38.365897        43.490305\n",
              "Não                                0.0      0.0  ...  61.634103        56.232687\n",
              "Não informado                      0.0      0.0  ...   0.000000         0.277008\n",
              "\n",
              "[4 rows x 9 columns]"
            ]
          },
          "metadata": {
            "tags": []
          },
          "execution_count": 59
        }
      ]
    },
    {
      "cell_type": "markdown",
      "metadata": {
        "id": "wqGqAkifo1cY"
      },
      "source": [
        "### VIDEO 2 - Boxplot e Separatrizes"
      ]
    },
    {
      "cell_type": "code",
      "metadata": {
        "colab": {
          "base_uri": "https://localhost:8080/",
          "height": 383
        },
        "id": "2WN11KBVo8E0",
        "outputId": "55e6549c-a71a-4d39-928c-0fe2bb059183"
      },
      "source": [
        "ax = sns.boxplot(data = df, x = \"VB17004\")\r\n",
        "ax.figure.set_size_inches(12, 6)\r\n",
        "ax.set_title(\"Boxplot da altura\")\r\n",
        "plt.grid()"
      ],
      "execution_count": 60,
      "outputs": [
        {
          "output_type": "display_data",
          "data": {
            "image/png": "[encoded data removed]",
            "text/plain": [
              "<Figure size 864x432 with 1 Axes>"
            ]
          },
          "metadata": {
            "tags": [],
            "needs_background": "light"
          }
        }
      ]
    },
    {
      "cell_type": "markdown",
      "metadata": {
        "id": "sPNER6Z9ptvQ"
      },
      "source": [
        "O boxplot traz algumas informações:\r\n",
        "- O range dos dados sobre a altura no eixo X;\r\n",
        "- O primeiro quartil (Q1 - mostrado como a linha esquerda da box), definindo que 25% da amostra está abaixo de ~1,54m;\r\n",
        "- A mediana (Q2 - na linha central);\r\n",
        "- O terceiro quartil (Q3 - mostrado como a linha direita da box), definindo que 75% da amostra está abaixo de ~1,68m.\r\n",
        "- Valores considerados outliers.\r\n",
        "\r\n",
        "Agora, vamos plotar boxplots de altura separado pelo sexo dos alunos:"
      ]
    },
    {
      "cell_type": "code",
      "metadata": {
        "colab": {
          "base_uri": "https://localhost:8080/",
          "height": 371
        },
        "id": "uCV4QQwTpguH",
        "outputId": "8f225081-c42d-476e-c1d0-f614b394e9c8"
      },
      "source": [
        "ax = sns.boxplot(data = df, y = \"VB01001\", x = \"VB17004\", orient = \"h\")\r\n",
        "ax.figure.set_size_inches(12, 6)\r\n",
        "ax.set_title(\"Boxplot da altura\")\r\n",
        "plt.grid()"
      ],
      "execution_count": 61,
      "outputs": [
        {
          "output_type": "display_data",
          "data": {
            "image/png": "[encoded data removed]",
            "text/plain": [
              "<Figure size 864x432 with 1 Axes>"
            ]
          },
          "metadata": {
            "tags": [],
            "needs_background": "light"
          }
        }
      ]
    },
    {
      "cell_type": "markdown",
      "metadata": {
        "id": "skM0Npgc3Swv"
      },
      "source": [
        "Agora, vamos plotar o que não conseguimos no histograma:\r\n",
        "\r\n",
        "A distribuição da altura de acordo com a idade dos alunos:\r\n"
      ]
    },
    {
      "cell_type": "code",
      "metadata": {
        "colab": {
          "base_uri": "https://localhost:8080/",
          "height": 365
        },
        "id": "Cdwln69e28ez",
        "outputId": "6c6c0242-07b0-4940-a2f0-ed0ed6f3b92d"
      },
      "source": [
        "ax = sns.boxplot(data = df, x = \"VB01003\", y = \"VB17004\", orient = \"v\")\r\n",
        "ax.figure.set_size_inches(12, 6)\r\n",
        "ax.set_title(\"Boxplot da altura\")\r\n",
        "plt.grid()"
      ],
      "execution_count": 62,
      "outputs": [
        {
          "output_type": "display_data",
          "data": {
            "image/png": "[encoded data removed]",
            "text/plain": [
              "<Figure size 864x432 with 1 Axes>"
            ]
          },
          "metadata": {
            "tags": [],
            "needs_background": "light"
          }
        }
      ]
    },
    {
      "cell_type": "markdown",
      "metadata": {
        "id": "xnj7jaNB4BxL"
      },
      "source": [
        "Podemos, inclusive, separar o boxplot acima por sexo também:"
      ]
    },
    {
      "cell_type": "code",
      "metadata": {
        "colab": {
          "base_uri": "https://localhost:8080/",
          "height": 365
        },
        "id": "zDLoHci64H9H",
        "outputId": "b5c3aba3-e897-4678-e722-4a1ed8364ac8"
      },
      "source": [
        "ax = sns.boxplot(data = df, x = \"VB01003\", y = \"VB17004\", hue = \"VB01001\", orient = \"v\")\r\n",
        "ax.figure.set_size_inches(12, 6)\r\n",
        "ax.set_title(\"Boxplot da altura\")\r\n",
        "ax.set_xlabel(\"Idade\")\r\n",
        "ax.set_ylabel(\"Altura em cm\")\r\n",
        "plt.grid()"
      ],
      "execution_count": 63,
      "outputs": [
        {
          "output_type": "display_data",
          "data": {
            "image/png": "[encoded data removed]",
            "text/plain": [
              "<Figure size 864x432 with 1 Axes>"
            ]
          },
          "metadata": {
            "tags": [],
            "needs_background": "light"
          }
        }
      ]
    },
    {
      "cell_type": "markdown",
      "metadata": {
        "id": "prVM0NFUsLfc"
      },
      "source": [
        "#### Desafio 09: Pesquisar como são determinados os outliers no boxplot pela documentação do seaborn."
      ]
    },
    {
      "cell_type": "markdown",
      "metadata": {
        "id": "Tj89JycxmCl9"
      },
      "source": [
        "## AULA 5 - MEDIDA DE CENTRALIDADE E DISPERSÃO"
      ]
    },
    {
      "cell_type": "markdown",
      "metadata": {
        "id": "mpjK6fscmRsa"
      },
      "source": [
        "### VIDEO 1 - Medidas de centralidade"
      ]
    },
    {
      "cell_type": "code",
      "metadata": {
        "colab": {
          "base_uri": "https://localhost:8080/"
        },
        "id": "_r43XqUvb9oh",
        "outputId": "db53ee9c-9533-41c5-bce4-6434f3341134"
      },
      "source": [
        "# Descobrindo a média da altura dos alunos\r\n",
        "\r\n",
        "df[\"VB17004\"].mean()"
      ],
      "execution_count": 64,
      "outputs": [
        {
          "output_type": "execute_result",
          "data": {
            "text/plain": [
              "160.71311307078818"
            ]
          },
          "metadata": {
            "tags": []
          },
          "execution_count": 64
        }
      ]
    },
    {
      "cell_type": "code",
      "metadata": {
        "colab": {
          "base_uri": "https://localhost:8080/"
        },
        "id": "9swBje0jcy4q",
        "outputId": "e8f1e2d2-46e1-49b5-f0da-f2a5a37b2b61"
      },
      "source": [
        "# Média de acordo com o sexo da pessoa\r\n",
        "df.groupby(\"VB01001\")[\"VB17004\"].mean()"
      ],
      "execution_count": 65,
      "outputs": [
        {
          "output_type": "execute_result",
          "data": {
            "text/plain": [
              "VB01001\n",
              "1    163.860758\n",
              "2    157.558617\n",
              "Name: VB17004, dtype: float64"
            ]
          },
          "metadata": {
            "tags": []
          },
          "execution_count": 65
        }
      ]
    },
    {
      "cell_type": "code",
      "metadata": {
        "colab": {
          "base_uri": "https://localhost:8080/"
        },
        "id": "3PCuZpwBdRuq",
        "outputId": "7b9137e8-f18d-40c0-ae6e-f1d4fe341ef3"
      },
      "source": [
        "# Moda da altura dos alunos\r\n",
        "df[\"VB17004\"].mode()"
      ],
      "execution_count": 66,
      "outputs": [
        {
          "output_type": "execute_result",
          "data": {
            "text/plain": [
              "0    160.0\n",
              "dtype: float64"
            ]
          },
          "metadata": {
            "tags": []
          },
          "execution_count": 66
        }
      ]
    },
    {
      "cell_type": "code",
      "metadata": {
        "colab": {
          "base_uri": "https://localhost:8080/"
        },
        "id": "ddHtHmxOeJ9p",
        "outputId": "8054984c-639c-4eb0-935a-1b1164274e3c"
      },
      "source": [
        "# Groupby com multiplos parametros\r\n",
        "df.groupby([\"VB01001\", \"VB01003\"])[\"VB17004\"].mean()"
      ],
      "execution_count": 67,
      "outputs": [
        {
          "output_type": "execute_result",
          "data": {
            "text/plain": [
              "VB01001  VB01003\n",
              "1        11         147.617753\n",
              "         12         153.696764\n",
              "         13         160.719801\n",
              "         14         166.406922\n",
              "         15         170.336297\n",
              "         16         172.424933\n",
              "         17         173.814341\n",
              "         18         173.024561\n",
              "         19         172.143158\n",
              "2        11         149.522512\n",
              "         12         154.965021\n",
              "         13         157.673105\n",
              "         14         159.340320\n",
              "         15         160.759848\n",
              "         16         160.386527\n",
              "         17         160.907937\n",
              "         18         159.438462\n",
              "         19         158.977193\n",
              "Name: VB17004, dtype: float64"
            ]
          },
          "metadata": {
            "tags": []
          },
          "execution_count": 67
        }
      ]
    },
    {
      "cell_type": "markdown",
      "metadata": {
        "id": "pIIbAaMSdTTH"
      },
      "source": [
        "#### Desafio 10: Fazer a descrição de outras variáveis, analisar e compartilhar suas análises no discord."
      ]
    },
    {
      "cell_type": "code",
      "metadata": {
        "id": "18llEOsmddyJ"
      },
      "source": [
        "# Já foi feito acima."
      ],
      "execution_count": 68,
      "outputs": []
    },
    {
      "cell_type": "markdown",
      "metadata": {
        "id": "JCW7hzwEelqw"
      },
      "source": [
        "#### Desafio 11: Fazer o calculo da média por sexo e idade utilizando o crosstab."
      ]
    },
    {
      "cell_type": "code",
      "metadata": {
        "colab": {
          "base_uri": "https://localhost:8080/",
          "height": 157
        },
        "id": "65YGFXvwevDh",
        "outputId": "1b2f397c-bdae-40c5-a56b-142c27de8f51"
      },
      "source": [
        "pd.crosstab(df[\"VB01001\"], df[\"VB01003\"], values = df[\"VB17004\"], aggfunc = 'mean')"
      ],
      "execution_count": 69,
      "outputs": [
        {
          "output_type": "execute_result",
          "data": {
            "text/html": [
              "<div>\n",
              "<style scoped>\n",
              "    .dataframe tbody tr th:only-of-type {\n",
              "        vertical-align: middle;\n",
              "    }\n",
              "\n",
              "    .dataframe tbody tr th {\n",
              "        vertical-align: top;\n",
              "    }\n",
              "\n",
              "    .dataframe thead th {\n",
              "        text-align: right;\n",
              "    }\n",
              "</style>\n",
              "<table border=\"1\" class=\"dataframe\">\n",
              "  <thead>\n",
              "    <tr style=\"text-align: right;\">\n",
              "      <th>VB01003</th>\n",
              "      <th>11</th>\n",
              "      <th>12</th>\n",
              "      <th>13</th>\n",
              "      <th>14</th>\n",
              "      <th>15</th>\n",
              "      <th>16</th>\n",
              "      <th>17</th>\n",
              "      <th>18</th>\n",
              "      <th>19</th>\n",
              "    </tr>\n",
              "    <tr>\n",
              "      <th>VB01001</th>\n",
              "      <th></th>\n",
              "      <th></th>\n",
              "      <th></th>\n",
              "      <th></th>\n",
              "      <th></th>\n",
              "      <th></th>\n",
              "      <th></th>\n",
              "      <th></th>\n",
              "      <th></th>\n",
              "    </tr>\n",
              "  </thead>\n",
              "  <tbody>\n",
              "    <tr>\n",
              "      <th>1</th>\n",
              "      <td>147.617753</td>\n",
              "      <td>153.696764</td>\n",
              "      <td>160.719801</td>\n",
              "      <td>166.406922</td>\n",
              "      <td>170.336297</td>\n",
              "      <td>172.424933</td>\n",
              "      <td>173.814341</td>\n",
              "      <td>173.024561</td>\n",
              "      <td>172.143158</td>\n",
              "    </tr>\n",
              "    <tr>\n",
              "      <th>2</th>\n",
              "      <td>149.522512</td>\n",
              "      <td>154.965021</td>\n",
              "      <td>157.673105</td>\n",
              "      <td>159.340320</td>\n",
              "      <td>160.759848</td>\n",
              "      <td>160.386527</td>\n",
              "      <td>160.907937</td>\n",
              "      <td>159.438462</td>\n",
              "      <td>158.977193</td>\n",
              "    </tr>\n",
              "  </tbody>\n",
              "</table>\n",
              "</div>"
            ],
            "text/plain": [
              "VB01003          11          12          13  ...          17          18          19\n",
              "VB01001                                      ...                                    \n",
              "1        147.617753  153.696764  160.719801  ...  173.814341  173.024561  172.143158\n",
              "2        149.522512  154.965021  157.673105  ...  160.907937  159.438462  158.977193\n",
              "\n",
              "[2 rows x 9 columns]"
            ]
          },
          "metadata": {
            "tags": []
          },
          "execution_count": 69
        }
      ]
    },
    {
      "cell_type": "markdown",
      "metadata": {
        "id": "B8UgyyZ9e0xZ"
      },
      "source": [
        "#### Super Desafio 01: Criar um dicionário para facilitar a busca da pergunta."
      ]
    },
    {
      "cell_type": "code",
      "metadata": {
        "id": "-skEbXPMiC-8"
      },
      "source": [
        "dict_base_de_dados = dict()\r\n",
        "\r\n",
        "for codigo in df.columns.to_list()[:-5]:\r\n",
        "  respostas_raw, idx = criar_dicionario_respostas(codigo)\r\n",
        "  respostas = respostas_raw[\"QUESTIONÁRIO DO ALUNO\"]\r\n",
        "\r\n",
        "  titulo_perg = dicionario.iloc[idx, 1] \r\n",
        "\r\n",
        "  dict_base_de_dados[codigo] = {'questao':titulo_perg , 'respostas': respostas}\r\n"
      ],
      "execution_count": 70,
      "outputs": []
    },
    {
      "cell_type": "code",
      "metadata": {
        "colab": {
          "base_uri": "https://localhost:8080/"
        },
        "id": "x_nn3IdsqNh8",
        "outputId": "6cb0fcd1-5156-457b-e96a-c88bc725feb6"
      },
      "source": [
        "dict_base_de_dados['VB01003']"
      ],
      "execution_count": 71,
      "outputs": [
        {
          "output_type": "execute_result",
          "data": {
            "text/plain": [
              "{'questao': 'Qual é a sua idade?',\n",
              " 'respostas': {11: '11 anos ou menos',\n",
              "  12: '12 anos',\n",
              "  13: '13 anos',\n",
              "  14: '14 anos',\n",
              "  15: '15 anos',\n",
              "  16: '16 anos ',\n",
              "  17: '17 anos',\n",
              "  18: '18 anos',\n",
              "  19: '19 anos ou mais'}}"
            ]
          },
          "metadata": {
            "tags": []
          },
          "execution_count": 71
        }
      ]
    },
    {
      "cell_type": "markdown",
      "metadata": {
        "id": "Y79HwvHYflOV"
      },
      "source": [
        "#### Super Desafio 02: De alguma maneira, sumarizar as perguntas (Dica: utilizar NLTK, GESIM)."
      ]
    },
    {
      "cell_type": "code",
      "metadata": {
        "id": "9ns8byxPgouJ"
      },
      "source": [
        "# Em outro momento"
      ],
      "execution_count": 72,
      "outputs": []
    },
    {
      "cell_type": "markdown",
      "metadata": {
        "id": "P8t-492cp2nU"
      },
      "source": [
        "### VIDEO 2 - Desvio Padrão passo a passo"
      ]
    },
    {
      "cell_type": "code",
      "metadata": {
        "colab": {
          "base_uri": "https://localhost:8080/"
        },
        "id": "0KJSYH2Cp68s",
        "outputId": "3ad36438-5113-4770-a23f-40b9a953fab3"
      },
      "source": [
        "media_altura = df['VB17004'].mean()\r\n",
        "df['MEDIA_ALTURA'] = media_altura\r\n",
        "diferenca_media_altura = df[\"VB17004\"] - df[\"MEDIA_ALTURA\"]\r\n",
        "\r\n",
        "# df[[\"VB17004\", \"MEDIA_ALTURA\"]]\r\n",
        "diferenca_media_altura\r\n"
      ],
      "execution_count": 73,
      "outputs": [
        {
          "output_type": "execute_result",
          "data": {
            "text/plain": [
              "0        -3.713113\n",
              "1        -8.713113\n",
              "2         0.686887\n",
              "3        11.786887\n",
              "4         6.786887\n",
              "           ...    \n",
              "16551     7.186887\n",
              "16552    25.086887\n",
              "16553    -1.313113\n",
              "16554    -2.913113\n",
              "16555     3.186887\n",
              "Length: 16556, dtype: float64"
            ]
          },
          "metadata": {
            "tags": []
          },
          "execution_count": 73
        }
      ]
    },
    {
      "cell_type": "code",
      "metadata": {
        "colab": {
          "base_uri": "https://localhost:8080/"
        },
        "id": "YnQKhNMrqClg",
        "outputId": "dc661db9-4609-4185-ee76-0e4813614327"
      },
      "source": [
        "# Podemos calcular a varianca ao descobrir o valor médio da diferença quadrada\r\n",
        "(diferenca_media_altura**2).mean()"
      ],
      "execution_count": 74,
      "outputs": [
        {
          "output_type": "execute_result",
          "data": {
            "text/plain": [
              "106.9105945368652"
            ]
          },
          "metadata": {
            "tags": []
          },
          "execution_count": 74
        }
      ]
    },
    {
      "cell_type": "code",
      "metadata": {
        "colab": {
          "base_uri": "https://localhost:8080/"
        },
        "id": "Rk54WmOJu3He",
        "outputId": "49264c05-d613-4747-e129-9609abd5bb60"
      },
      "source": [
        "# Outro método para calcular a variança amostral é 1/N-1 *  SUM(diferença_quadrada)\r\n",
        "variancia_amostral = (1/(len(df)-1)) * (diferenca_media_altura**2).sum()\r\n",
        "variancia_amostral"
      ],
      "execution_count": 75,
      "outputs": [
        {
          "output_type": "execute_result",
          "data": {
            "text/plain": [
              "106.91705244049119"
            ]
          },
          "metadata": {
            "tags": []
          },
          "execution_count": 75
        }
      ]
    },
    {
      "cell_type": "code",
      "metadata": {
        "colab": {
          "base_uri": "https://localhost:8080/"
        },
        "id": "M2Y7x7dnvMif",
        "outputId": "c0ea7a02-69bc-41b8-8599-4f5a37afcfde"
      },
      "source": [
        "# Como a variancia é uma unidade elevada ao quadrado, utilizamos a raíz quadrada para calcular o desvio padrão\r\n",
        "desvio_pad_altura = variancia_amostral**(1/2)\r\n",
        "desvio_pad_altura"
      ],
      "execution_count": 76,
      "outputs": [
        {
          "output_type": "execute_result",
          "data": {
            "text/plain": [
              "10.340070233827776"
            ]
          },
          "metadata": {
            "tags": []
          },
          "execution_count": 76
        }
      ]
    },
    {
      "cell_type": "markdown",
      "metadata": {
        "id": "Nkl2Z9zrxPL9"
      },
      "source": [
        "#### Desafio 12: Estudar medidas de dispersão e calcular utilizando o pandas. Realizar os calculos para as outras colunas numéricas."
      ]
    },
    {
      "cell_type": "code",
      "metadata": {
        "colab": {
          "base_uri": "https://localhost:8080/"
        },
        "id": "u5uF_O3VwsNr",
        "outputId": "c7a76386-0d52-4600-83a0-e9c52d349d3a"
      },
      "source": [
        "media_peso = df['VB17003'].mean()\r\n",
        "variancia_peso = df['VB17003'].var()\r\n",
        "desv_pad_peso = df['VB17003'].std()\r\n",
        "\r\n",
        "print(media_peso, variancia_peso, desv_pad_peso) "
      ],
      "execution_count": 77,
      "outputs": [
        {
          "output_type": "stream",
          "text": [
            "54.70558105822677 211.64035060768379 14.547864125282576\n"
          ],
          "name": "stdout"
        }
      ]
    },
    {
      "cell_type": "markdown",
      "metadata": {
        "id": "CZ5XOH13oQDZ"
      },
      "source": [
        "## AULA 06 - INTERVALO DE CONFIANÇA E TESTES"
      ]
    },
    {
      "cell_type": "markdown",
      "metadata": {
        "id": "qBT77rF-oVYv"
      },
      "source": [
        "### VIDEO 1 - Intervalo de confiança"
      ]
    },
    {
      "cell_type": "markdown",
      "metadata": {
        "id": "RLrr6CGJojPk"
      },
      "source": [
        "Como saber o quanto nossa amostra (alunos participantes do PeNSE entre 11 e 19 anos) representa toda a população de alunos brasileiros dessa mesma faixa etária?\r\n",
        "\r\n",
        "No exemplo abaixo, utilizamos os dados da altura e a biblioteca statsmodels para calcular em que intervalo está a média da altura da população descrita pela amostra com o nível de confiança de 95% (z-test)."
      ]
    },
    {
      "cell_type": "code",
      "metadata": {
        "colab": {
          "base_uri": "https://localhost:8080/"
        },
        "id": "-e-h1YrXoiam",
        "outputId": "17d6f3cb-180b-4388-a543-16cd243b6d6c"
      },
      "source": [
        "from statsmodels.stats.weightstats import zconfint"
      ],
      "execution_count": 78,
      "outputs": [
        {
          "output_type": "stream",
          "text": [
            "/usr/local/lib/python3.6/dist-packages/statsmodels/tools/_testing.py:19: FutureWarning: pandas.util.testing is deprecated. Use the functions in the public API at pandas.testing instead.\n",
            "  import pandas.util.testing as tm\n"
          ],
          "name": "stderr"
        }
      ]
    },
    {
      "cell_type": "code",
      "metadata": {
        "colab": {
          "base_uri": "https://localhost:8080/"
        },
        "id": "UcNXARfooUbK",
        "outputId": "4bd8aee2-8e22-418f-e8ad-fc044b2f17f8"
      },
      "source": [
        "zconfint(df[\"VB17004\"])"
      ],
      "execution_count": 79,
      "outputs": [
        {
          "output_type": "execute_result",
          "data": {
            "text/plain": [
              "(160.5556082427712, 160.87061789880892)"
            ]
          },
          "metadata": {
            "tags": []
          },
          "execution_count": 79
        }
      ]
    },
    {
      "cell_type": "markdown",
      "metadata": {
        "id": "egO4fnwCtKje"
      },
      "source": [
        "Além do z-test, podemos verificar (também utilizando a statsmodels) o intervalo de confiança utilizando o t-test. Segue o exemplo abaixo: "
      ]
    },
    {
      "cell_type": "code",
      "metadata": {
        "id": "aZGqsZb6p80S"
      },
      "source": [
        "from statsmodels.stats.weightstats import DescrStatsW"
      ],
      "execution_count": 80,
      "outputs": []
    },
    {
      "cell_type": "code",
      "metadata": {
        "colab": {
          "base_uri": "https://localhost:8080/"
        },
        "id": "FigQDRGdtJkS",
        "outputId": "f1e2ddf3-678a-4925-f6ec-75fd231e37e0"
      },
      "source": [
        "desc_altura = DescrStatsW(df[\"VB17004\"])\r\n",
        "desc_altura.tconfint_mean()"
      ],
      "execution_count": 81,
      "outputs": [
        {
          "output_type": "execute_result",
          "data": {
            "text/plain": [
              "(160.55559672649298, 160.8706294150872)"
            ]
          },
          "metadata": {
            "tags": []
          },
          "execution_count": 81
        }
      ]
    },
    {
      "cell_type": "code",
      "metadata": {
        "colab": {
          "base_uri": "https://localhost:8080/"
        },
        "id": "0Now5cs2tUCh",
        "outputId": "941fc8d6-561b-4a4b-c070-00be3c9fa3e2"
      },
      "source": [
        "df[\"VB17004\"].mean()"
      ],
      "execution_count": 82,
      "outputs": [
        {
          "output_type": "execute_result",
          "data": {
            "text/plain": [
              "160.71311307078818"
            ]
          },
          "metadata": {
            "tags": []
          },
          "execution_count": 82
        }
      ]
    },
    {
      "cell_type": "markdown",
      "metadata": {
        "id": "Eboox8CztpXm"
      },
      "source": [
        "#### Desafio 13: Estudar mais os termos definidos hoje: intervalo de confiança, nível de confiança e significancia."
      ]
    },
    {
      "cell_type": "markdown",
      "metadata": {
        "id": "J1JGSdLOuVEV"
      },
      "source": [
        "#### Desafio 14: Plotar o intervalo de confiança no histograma das alturas."
      ]
    },
    {
      "cell_type": "code",
      "metadata": {
        "id": "-UNNt98Lt7se",
        "colab": {
          "base_uri": "https://localhost:8080/",
          "height": 383
        },
        "outputId": "123731eb-89b1-4953-82a6-c092dc14bbe9"
      },
      "source": [
        "ax = sns.histplot(data = df, x = \"VB17004\", kde = True)\r\n",
        "ax.figure.set_size_inches(12, 6)\r\n",
        "ax.set_title(\"Distribuição de frequencia - altura\")"
      ],
      "execution_count": 83,
      "outputs": [
        {
          "output_type": "execute_result",
          "data": {
            "text/plain": [
              "Text(0.5, 1.0, 'Distribuição de frequencia - altura')"
            ]
          },
          "metadata": {
            "tags": []
          },
          "execution_count": 83
        },
        {
          "output_type": "display_data",
          "data": {
            "image/png": "[encoded data removed]",
            "text/plain": [
              "<Figure size 864x432 with 1 Axes>"
            ]
          },
          "metadata": {
            "tags": [],
            "needs_background": "light"
          }
        }
      ]
    },
    {
      "cell_type": "markdown",
      "metadata": {
        "id": "iP9r0Npku6o_"
      },
      "source": [
        "### VIDEO 2 - Testes estatísticos"
      ]
    },
    {
      "cell_type": "markdown",
      "metadata": {
        "id": "oF8mXNIVyikG"
      },
      "source": [
        "Vamos utilizar agora o ztest() para verificar a distribuição das alturas de acordo com o sexo. \r\n",
        "\r\n",
        "Utilizando um boxplot, podemos verificar os dados sobre a altura das pessoas que se identificam pelo sexo feminino são mais centralizados enquanto no sexo masculino acabam sendo um pouco mais dispersos."
      ]
    },
    {
      "cell_type": "code",
      "metadata": {
        "colab": {
          "base_uri": "https://localhost:8080/",
          "height": 278
        },
        "id": "Fpu_kj0ivDLd",
        "outputId": "7848bf21-5bc8-40a8-ecd2-643f854dcb58"
      },
      "source": [
        "sns.boxplot(data = df, x = \"VB01001\", y = \"VB17004\");"
      ],
      "execution_count": 84,
      "outputs": [
        {
          "output_type": "display_data",
          "data": {
            "image/png": "[encoded data removed]",
            "text/plain": [
              "<Figure size 432x288 with 1 Axes>"
            ]
          },
          "metadata": {
            "tags": [],
            "needs_background": "light"
          }
        }
      ]
    },
    {
      "cell_type": "code",
      "metadata": {
        "id": "qE-jSdTZw0EO"
      },
      "source": [
        "from statsmodels.stats.weightstats import ztest\r\n",
        "\r\n",
        "dist_altura_m = df.query(\"VB01001 == 1\")[\"VB17004\"]\r\n",
        "dist_altura_f = df.query(\"VB01001 == 2\")[\"VB17004\"]\r\n",
        "\r\n",
        "_, p_value = ztest(dist_altura_m, dist_altura_f)"
      ],
      "execution_count": 85,
      "outputs": []
    },
    {
      "cell_type": "code",
      "metadata": {
        "colab": {
          "base_uri": "https://localhost:8080/"
        },
        "id": "K2VOsB3Xxpem",
        "outputId": "be41cc33-b30f-46fe-b44f-97d2c3717dbe"
      },
      "source": [
        "p_value"
      ],
      "execution_count": 86,
      "outputs": [
        {
          "output_type": "execute_result",
          "data": {
            "text/plain": [
              "0.0"
            ]
          },
          "metadata": {
            "tags": []
          },
          "execution_count": 86
        }
      ]
    },
    {
      "cell_type": "code",
      "metadata": {
        "colab": {
          "base_uri": "https://localhost:8080/"
        },
        "id": "IX0KmW_e08l-",
        "outputId": "dd055a57-597f-44a3-bf42-19de99398f28"
      },
      "source": [
        "_, p_value = ztest(dist_altura_m, dist_altura_m)\r\n",
        "p_value"
      ],
      "execution_count": 87,
      "outputs": [
        {
          "output_type": "execute_result",
          "data": {
            "text/plain": [
              "1.0"
            ]
          },
          "metadata": {
            "tags": []
          },
          "execution_count": 87
        }
      ]
    },
    {
      "cell_type": "markdown",
      "metadata": {
        "id": "TOw6_LZUzLAe"
      },
      "source": [
        "O p-value, retornado pelo ztest, é uma medida de similaridade de distribuição. Quando menor que 0.05 (para termos 95% de confiança), a hipótese nula deve ser descartada (como é esse caso). Se utilizassemos dois datasets iguais ou com a exata mesma distribuição, teríamos o p-value = 1.\r\n",
        "\r\n",
        "No entanto, devemos ser cuidadosos: o ztest pede algumas condições sobre o dataset e uma delas é a normalidade na distribuição dos dados. [Como vimos ao plotar o histograma das alturas, isso não é o que acontece para os alunos do sexo masculino](https://colab.research.google.com/drive/1mjPO2A1Lf6QzePCo6mzmQwcIiDtm2IVo#scrollTo=Y7m8BXn8sx78)"
      ]
    },
    {
      "cell_type": "code",
      "metadata": {
        "colab": {
          "base_uri": "https://localhost:8080/"
        },
        "id": "npj2Fgyrx2xh",
        "outputId": "7694c565-b88a-47e3-a67d-6855a96ef446"
      },
      "source": [
        "from scipy.stats import normaltest\r\n",
        "\r\n",
        "normaltest(dist_altura_m)"
      ],
      "execution_count": 88,
      "outputs": [
        {
          "output_type": "execute_result",
          "data": {
            "text/plain": [
              "NormaltestResult(statistic=341.30659152353655, pvalue=7.695118853996524e-75)"
            ]
          },
          "metadata": {
            "tags": []
          },
          "execution_count": 88
        }
      ]
    },
    {
      "cell_type": "markdown",
      "metadata": {
        "id": "85pzeaXE2QTm"
      },
      "source": [
        "Utilizando o normaltest nos dados sobre a altura masculina, notamos que o p-value é menor que 0.05, o que descarta a hipóstese nula (nesse caso, a afirmação de que essa distribuição é normal)\r\n"
      ]
    },
    {
      "cell_type": "code",
      "metadata": {
        "id": "RxB9mMF8zqeZ",
        "colab": {
          "base_uri": "https://localhost:8080/"
        },
        "outputId": "fd1cc4d1-d354-4959-d1ea-a7ccb99141b0"
      },
      "source": [
        "from scipy.stats import ranksums\r\n",
        "\r\n",
        "ranksums(dist_altura_m, dist_altura_f)"
      ],
      "execution_count": 89,
      "outputs": [
        {
          "output_type": "execute_result",
          "data": {
            "text/plain": [
              "RanksumsResult(statistic=40.7525576033863, pvalue=0.0)"
            ]
          },
          "metadata": {
            "tags": []
          },
          "execution_count": 89
        }
      ]
    }
  ]
}